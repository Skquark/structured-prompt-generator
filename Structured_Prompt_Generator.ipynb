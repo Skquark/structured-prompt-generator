{
  "cells": [
    {
      "cell_type": "markdown",
      "metadata": {
        "id": "view-in-github",
        "colab_type": "text"
      },
      "source": [
        "<a href=\"https://colab.research.google.com/github/Skquark/structured-prompt-generator/blob/main/Structured_Prompt_Generator.ipynb\" target=\"_parent\"><img src=\"https://colab.research.google.com/assets/colab-badge.svg\" alt=\"Open In Colab\"/></a>"
      ]
    },
    {
      "cell_type": "markdown",
      "id": "ba4a6587",
      "metadata": {
        "pycharm": {
          "name": "#%% md\n"
        },
        "id": "ba4a6587"
      },
      "source": [
        "# ***Structured Prompt Generator***\n",
        "### with OpenAI GPT-3 Creations & Enhanced Prompt Writers\n",
        "Made to construct well formed complex text prompts for Disco Diffusion and other text-to-image AI art platforms.  This is a helper tool to create unique interesting descriptions in less time and visual surprises. 😎\n",
        "\n",
        "\n",
        "<p align=center>\n",
        "<a href=\"https://github.com/Skquark/structured-prompt-generator/blob/main/Structured_Prompt_Generator.ipynb\"><img src=\"https://badgen.net/badge/icon/github?icon=github&label\" alt=\"Github\"></a> <a href=\"https://github.com/Skquark/structured-prompt-generator\"><img src=\"https://badgen.net/github/release/Skquark/structured-prompt-generator/stable\" alt=\"Release version\"></a>\n",
        "<a href=\"https://colab.research.google.com/github/Skquark/structured-prompt-generator/blob/main/Structured_Prompt_Generator.ipynb\"><img src=\"https://img.shields.io/badge/Open-in%20Colab-brightgreen?logo=google-colab&style=flat-square\" alt=\"Open in Google Colab\"/></a>\n",
        "</p>\n",
        "\n",
        "*   Includes a comprehensive list of supported Artists and Styles\n",
        "*   Start the sentence with a subject and let AI complete the scene with interesting details\n",
        "*   Select which modifiers to apply to improve results, with list of positive and negative attributes\n",
        "*   Use variables for random nouns, adjectives, colors, styles, and other useful terms in your creations\n",
        "*   Generate prompt lists that can be used for batch image creations, animation timelines or other art making tools\n",
        "*   Advanced Prompt Helper for new json style prompts with converter, prompt scheduling & clip guidance scheduler\n",
        "*   Runs on Colab with CPU instead of GPU runtime, so you can play with it while you're Diffusing in other window\n",
        "\n",
        "You can also use our *DiscoArt* fork that has all this built in, and more features to batch render the generated list. Access it here: https://colab.research.google.com/github/Skquark/structured-prompt-generator/blob/main/DiscoArt_%5B_w_Batch_Prompts_%26_GPT_3_Generator%5D.ipynb\n",
        "\n",
        "---\n",
        "***Credits:***\n",
        "* Enhancements and refinements by [**Skquark** (Alan Bedian)](https://skquark.com)\n",
        "* OpenAI GPT-3 Integration by [**Martin Kallstrom**](https://colab.research.google.com/drive/1qgO774Ue1UW_j4vmrmvBty6wPh6cDgZc?usp=sharing)\n",
        "* *Noodle Soup Prompts* & Terminology Database by [**WAS**asquatch](https://github.com/WASasquatch/noodle-soup-prompts/blob/main/nsp_pantry.py)\n",
        "* Artist names gathered by **[MisterRuffian](https://docs.google.com/spreadsheets/d/1_jgQ9SyvUaBNP1mHHEzZ6HhL_Es1KwBKQtnpnmWW82I/edit)**\n",
        "* DiscoArt development and assistance by **[Han Xiao](https://colab.research.google.com/github/jina-ai/discoart/blob/main/discoart.ipynb)**\n",
        "* Prompt modifiers & suggestions by [**Disco Diffusion** Discord community](https://discord.gg/Cajx9rku)\n"
      ]
    },
    {
      "cell_type": "markdown",
      "source": [
        "# Use OpenAI GPT-3 to Generate Image Prompts"
      ],
      "metadata": {
        "id": "2QNuOKFfblMY"
      },
      "id": "2QNuOKFfblMY"
    },
    {
      "cell_type": "code",
      "source": [
        "!pip install openai # Run cell to initialize"
      ],
      "metadata": {
        "id": "NQivULWJbvFW"
      },
      "id": "NQivULWJbvFW",
      "execution_count": null,
      "outputs": []
    },
    {
      "cell_type": "code",
      "source": [
        "#@markdown **Paste your OpenAI key here and run** (get GPT-3 API key from https://beta.openai.com)\n",
        "api_key = \"\"\n",
        "\n",
        "# Don't share publicly, keep your key hidden for your protection"
      ],
      "metadata": {
        "id": "YDhttJuRR0QZ"
      },
      "id": "YDhttJuRR0QZ",
      "execution_count": null,
      "outputs": []
    },
    {
      "cell_type": "code",
      "source": [
        "import json\n",
        "import openai\n",
        "import random\n",
        "\n",
        "#@title ## Structured AI Prompt Settings\n",
        "#@markdown Enter a **phrase** each prompt should start with and the amount of prompts to generate. **Subject_details** is optional to influence the output. **Phase_as_subject** makes it about phrase and subject detail. **Request_mode** is the way it asks for the visual description. Just experiment, AI will continue to surprise.\n",
        "\n",
        "openai.api_key = api_key # Insert your API key in the previous cell\n",
        "#openai.api_key = api_key\n",
        "phrase = \"Hyper-terrestrial entities\" #@param {type:\"string\"}\n",
        "subject_detail = \"\" #@param {type:\"string\"}\n",
        "phrase_as_subject = True #@param {type:\"boolean\"}\n",
        "amount = 10 #@param {type:\"integer\"}\n",
        "random_artists = 2 #@param {type:\"integer\"}\n",
        "random_styles = 3 #@param {type:\"integer\"}\n",
        "mod_noText = True #@param {type:\"boolean\"}\n",
        "mod_noBlur = True #@param {type:\"boolean\"}\n",
        "mod_noArtifacts = True #@param {type:\"boolean\"}\n",
        "mod_noDeformed = False #@param {type:\"boolean\"}\n",
        "mod_Artstation = True #@param {type:\"boolean\"}\n",
        "mod_Photorealistic = False #@param {type:\"boolean\"}\n",
        "mod_Detailed = False #@param {type:\"boolean\"}\n",
        "mod_3DRendered = False #@param {type:\"boolean\"}\n",
        "mod_Lighting = False #@param {type:\"boolean\"}\n",
        "mod_WideAngle = False #@param {type:\"boolean\"}\n",
        "mod_Custom = \"\" #@param {type:\"string\"}\n",
        "weight_Subject = 3 #@param {type:\"number\"}\n",
        "weight_Artists = 2 #@param {type:\"number\"}\n",
        "weight_Styles = 1.5 #@param {type:\"number\"}\n",
        "weight_NegativeMods = -2 #@param {type:\"number\"}\n",
        "weight_PositiveMods = 1 #@param {type:\"number\"}\n",
        "request_mode = 3 #@param {type:\"slider\", min:0, max:7, step:1}\n",
        "AI_temperature = 1 #@param {type:\"slider\", min:0, max:1, step:0.1}\n",
        "#GPT_engine = \"text-davinci-002\" #@param [\"text-davinci-002\",\"text-curie-001\",\"text-babbage-001\",\"text-ada-001\"]\n",
        "#@markdown Try examples like these:\n",
        "#@markdown - Spacecraft\n",
        "#@markdown - Medieval Town\n",
        "#@markdown - Luminescent mushroom\n",
        "#@markdown - Fabric of spacetime continuum\n",
        "#@markdown - A majestic tree\n",
        "\n",
        "#@markdown You may need to run it 2-3 times before getting a really nice run.    \n",
        "\n",
        "subject = \"\"\n",
        "if subject_detail: subject = \", and \" + subject_detail\n",
        "request_modes = [\n",
        "    \"visually detailed\",\n",
        "    \"with long detailed colorful interesting artistic scenic visual descriptions\",\n",
        "    \"that is highly detailed, artistically interesting, describes a scene, colorful poetic language, with intricate visual descriptions\",\n",
        "    \"that are strange, descriptive, graphically visual, full of interesting subjects described in great detail, painted by an artist\",\n",
        "    \"that is highly technical, extremely wordy, extra detailed, confusingly tangental, colorfully worded, dramatically narrative\",\n",
        "    \"that is creative, imaginative, funny, interesting, scenic, dark, witty, visual, unexpected, wild\",\n",
        "    \"that includes many subjects with descriptions, color details, artistic expression, point of view\",\n",
        "    \"complete sentence using many words to describe a landscape in an epic fantasy genre that includes a lot adjectives\",\n",
        "]\n",
        "prompt = f\"\"\"\n",
        "List of image generation prompts about {phrase}{subject}, {request_modes[request_mode]}, and unique without repetition:\n",
        "\n",
        "\"\"\"\n",
        "#print(prompt)\n",
        "if phrase_as_subject:\n",
        "  prompt += \"*\"\n",
        "else:\n",
        "  prompt += f\"\"\"* A beautiful painting of a serene landscape with a river running through it, lush trees, golden sun illuminating\n",
        "* Fireflies illuminating autumnal woods, an Autumn in the Brightwood glade, with warm yellow lantern lights\n",
        "* The Fabric of spacetime continuum over a large cosmological vista, pieces of dark matter, space dust and nebula doted with small dots that seem to form fractal patterns and glowing bright lanterns in distances, also with an stardust effect towards the plane of the galaxy\n",
        "* Midnight landscape painting of a city under a starry sky, owl in the shaman forest knowing the ways of magic, warm glow over the buildings\n",
        "* {phrase}\"\"\"\n",
        "\n",
        "artists = ( \"Ivan Aivazovsky\", \"Beeple\", \"Zdzislaw Beksinski\", \"Albert Bierstadt\", \"Noah Bradley\", \"Jim Burns\", \"John Harris\", \"John Howe\", \"Thomas Kinkade\", \"Gediminas Pranckevicius\", \"Andreas Rocha\", \"Marc Simonetti\", \"Simon Stalenhag\", \"Yuumei\", \"Asher Brown Durand\", \"Tyler Edlin\", \"Jesper Ejsing\", \"Peter Mohrbacher\", \"RHADS\", \"Greg Rutkowski\", \"H.P. Lovecraft\", \"George Lucas\", \"Benoit B. Mandelbrot\", \"Edwin Austin Abbey\", \"Ansel Adams\", \"Arthur Adams\", \"Charles Addams\", \"Alena Aenami\", \"Pieter Aertsen\", \"Hilma af Klint\", \"Affandi\", \"Leonid Afremov\", \"Eileen Agar\", \"Ivan Aivazovsky\", \"Anni Albers\", \"Josef Albers\", \"Ivan Albright\", \"Yoshitaka Amano\", \"Cuno Amiet\", \"Sophie Anderson\", \"Wes Anderson\", \"Esao Andrews\", \"Charles Angrand\", \"Sofonisba Anguissola\", \"Hirohiko Araki\", \"Nobuyoshi Araki\", \"Shinji Aramaki\", \"Diane Arbus\", \"Giuseppe Arcimboldo\", \"Steve Argyle\", \"Jean Arp\", \"Artgerm\", \"John James Audubon\", \"Frank Auerbach\", \"Milton Avery\", \"Tex Avery\", \"Harriet Backer\", \"Francis Bacon\", \"Peter Bagge\", \"Tom Bagshaw\", \"Karol Bak\", \"Christopher Balaskas\", \"Hans Baldung\", \"Ronald Balfour\", \"Giacomo Balla\", \"Banksy\", \"Cicely Mary Barker\", \"Carl Barks\", \"Wayne Barlowe\", \"Jean-Michel Basquiat\", \"Jules Bastien-Lepage\", \"David Bates\", \"John Bauer\", \"Aubrey Beardsley\", \"Jasmine Becket-Griffith\", \"Max Beckmann\", \"Beeple\", \"Zdzislaw Beksinski\", \"Zdzisław Beksiński\", \"Julie Bell\", \"Hans Bellmer\", \"John Berkey\", \"Émile Bernard\", \"Elsa Beskow\", \"Albert Bierstadt\", \"Enki Bilal\", \"Ivan Bilibin\", \"Simon Bisley\", \"Charles Blackman\", \"Thomas Blackshear\", \"Mary Blair\", \"Quentin Blake\", \"William Blake\", \"Antoine Blanchard\", \"John Blanche\", \"Pascal Blanché\", \"Karl Blossfeldt\", \"Don Bluth\", \"Umberto Boccioni\", \"Arnold Böcklin\", \"Chesley Bonestell\", \"Franklin Booth\", \"Guido Borelli da Caluso\", \"Marius Borgeaud\", \"Hieronymous Bosch\", \"Hieronymus Bosch\", \"Sam Bosma\", \"Johfra Bosschart\", \"Sandro Botticelli\", \"William-Adolphe Bouguereau\", \"Louise Bourgeois\", \"Eleanor Vere Boyle\", \"Noah Bradley\", \"Victor Brauner\", \"Austin Briggs\", \"Raymond Briggs\", \"Mark Briscoe\", \"Romero Britto\", \"Gerald Brom\", \"Mark Brooks\", \"Patrick Brown\", \"Pieter Bruegel the Elder\", \"Bernard Buffet\", \"Laurel Burch\", \"Charles E. Burchfield\", \"David Burdeny\", \"Richard Burlet\", \"David Burliuk\", \"Edward Burne-Jones\", \"Jim Burns\", \"William S. Burroughs\", \"Gaston Bussière\", \"Kaethe Butcher\", \"Jack Butler Yeats\", \"Bob Byerley\", \"Alexandre Cabanel\", \"Ray Caesar\", \"Claude Cahun\", \"Zhichao Cai\", \"Randolph Caldecott\", \"Alexander Milne Calder\", \"Clyde Caldwell\", \"Eddie Campbell\", \"Pascale Campion\", \"Canaletto\", \"Caravaggio\", \"Annibale Carracci\", \"Carl Gustav Carus\", \"Santiago Caruso\", \"Mary Cassatt\", \"Paul Cézanne\", \"Marc Chagall\", \"Marcel Chagall\", \"Yanjun Cheng\", \"Sandra Chevrier\", \"Judy Chicago\", \"James C. Christensen\", \"Frederic Church\", \"Mikalojus Konstantinas Ciurlionis\", \"Pieter Claesz\", \"Amanda Clark\", \"Harry Clarke\", \"Thomas Cole\", \"Mat Collishaw\", \"John Constable\", \"Cassius Marcellus Coolidge\", \"Richard Corben\", \"Lovis Corinth\", \"Joseph Cornell\", \"Camille Corot\", \"cosmic nebulae\", \"Gustave Courbet\", \"Lucas Cranach the Elder\", \"Walter Crane\", \"Craola\", \"Gregory Crewdson\", \"Henri-Edmond Cross\", \"Robert Crumb\", \"Tivadar Csontváry Kosztka\", \"Krenz Cushart\", \"Leonardo da Vinci\", \"Richard Dadd\", \"Louise Dahl-Wolfe\", \"Salvador Dalí\", \"Farel Dalrymple\", \"Geof Darrow\", \"Honoré Daumier\", \"Jack Davis\", \"Marc Davis\", \"Stuart Davis\", \"Craig Davison\", \"Walter Percy Day\", \"Pierre Puvis de Chavannes\", \"Giorgio de Chirico\", \"Pieter de Hooch\", \"Elaine de Kooning\", \"Willem de Kooning\", \"Evelyn De Morgan\", \"Henri de Toulouse-Lautrec\", \"Richard Deacon\", \"Roger Dean\", \"Michael Deforge\", \"Edgar Degas\", \"Lise Deharme\", \"Eugene Delacroix\", \"Beauford Delaney\", \"Sonia Delaunay\", \"Nicolas Delort\", \"Paul Delvaux\", \"Jean Delville\", \"Martin Deschambault\", \"Brian Despain\", \"Vincent Di Fate\", \"Steve Dillon\", \"Walt Disney\", \"Tony DiTerlizzi\", \"Steve Ditko\", \"Anna Dittmann\", \"Otto Dix\", \"Óscar Domínguez\", \"Russell Dongjun Lu\", \"Stanley Donwood\", \"Gustave Doré\", \"Dave Dorman\", \"Arthur Dove\", \"Richard Doyle\", \"Tim Doyle\", \"Philippe Druillet\", \"Joseph Ducreux\", \"Edmund Dulac\", \"Asher Brown Durand\", \"Albrecht Dürer\", \"Thomas Eakins\", \"Eyvind Earle\", \"Jeff Easley\", \"Tyler Edlin\", \"Jason Edmiston\", \"Les Edwards\", \"Bob Eggleton\", \"Jesper Ejsing\", \"El Greco\", \"Olafur Eliasson\", \"Harold Elliott\", \"Dean Ellis\", \"Larry Elmore\", \"Peter Elson\", \"Ed Emshwiller\", \"Kilian Eng\", \"James Ensor\", \"Max Ernst\", \"Elliott Erwitt\", \"M.C. Escher\", \"Richard Eurich\", \"Glen Fabry\", \"Anton Fadeev\", \"Shepard Fairey\", \"John Philip Falter\", \"Lyonel Feininger\", \"Joe Fenton\", \"Agustín Fernández\", \"Roberto Ferri\", \"Hugh Ferriss\", \"David Finch\", \"Virgil Finlay\", \"Howard Finster\", \"Anton Otto Fischer\", \"Paul Gustav Fischer\", \"Paul Gustave Fischer\", \"Art Fitzpatrick\", \"Dan Flavin\", \"Kaja Foglio\", \"Phil Foglio\", \"Chris Foss\", \"Hal Foster\", \"Jean-Honoré Fragonard\", \"Victoria Francés\", \"Lisa Frank\", \"Frank Frazetta\", \"Kelly Freas\", \"Lucian Freud\", \"Caspar David Friedrich\", \"Brian Froud\", \"Wendy Froud\", \"Ernst Fuchs\", \"Goro Fujita\", \"Henry Fuseli\", \"Thomas Gainsborough\", \"Emile Galle\", \"Stephen Gammell\", \"Hope Gangloff\", \"Antoni Gaudi\", \"Antoni Gaudí\", \"Jack Gaughan\", \"Paul Gauguin\", \"Giovanni Battista Gaulli\", \"Nikolai Ge\", \"Emma Geary\", \"Anne Geddes\", \"Jeremy Geddes\", \"Artemisia Gentileschi\", \"Justin Gerard\", \"Jean-Leon Gerome\", \"Jean-Léon Gérôme\", \"Atey Ghailan\", \"Alberto Giacometti\", \"Donato Giancola\", \"Dave Gibbons\", \"H. R. Giger\", \"James Gilleard\", \"Jean Giraud\", \"Milton Glaser\", \"Warwick Goble\", \"Andy Goldsworthy\", \"Hendrick Goltzius\", \"Natalia Goncharova\", \"Rob Gonsalves\", \"Josan Gonzalez\", \"Edward Gorey\", \"Arshile Gorky\", \"Francisco Goya\", \"J. J. Grandville\", \"Jane Graverol\", \"Mab Graves\", \"Laurie Greasley\", \"Kate Greenaway\", \"Alex Grey\", \"Peter Gric\", \"Carne Griffiths\", \"John Atkinson Grimshaw\", \"Henriette Grindat\", \"Matt Groening\", \"William Gropper\", \"George Grosz\", \"Matthias Grünewald\", \"Rebecca Guay\", \"James Gurney\", \"Philip Guston\", \"Sir James Guthrie\", \"Zaha Hadid\", \"Ernst Haeckel\", \"Sydney Prior Hall\", \"Asaf Hanuka\", \"Tomer Hanuka\", \"David A. Hardy\", \"Keith Haring\", \"John Harris\", \"Lawren Harris\", \"Marsden Hartley\", \"Ryohei Hase\", \"Jacob Hashimoto\", \"Martin Johnson Heade\", \"Erich Heckel\", \"Michael Heizer\", \"Steve Henderson\", \"Patrick Heron\", \"Ryan Hewett\", \"Jamie Hewlett\", \"Brothers Hildebrandt\", \"Greg Hildebrandt\", \"Tim Hildebrandt\", \"Miho Hirano\", \"Adolf Hitler\", \"Hannah Hoch\", \"David Hockney\", \"Filip Hodas\", \"Howard Hodgkin\", \"Ferdinand Hodler\", \"William Hogarth\", \"Katsushika Hokusai\", \"Carl Holsoe\", \"Winslow Homer\", \"Edward Hopper\", \"Aaron Horkey\", \"Kati Horna\", \"Ralph Horsley\", \"John Howe\", \"John Hoyland\", \"Arthur Hughes\", \"Edward Robert Hughes\", \"Friedensreich Regentag Dunkelbunt Hundertwasser\", \"Hundertwasser\", \"William Henry Hunt\", \"Louis Icart\", \"Ismail Inceoglu\", \"Bjarke Ingels\", \"George Inness\", \"Shotaro Ishinomori\", \"Junji Ito\", \"Johannes Itten\", \"Ub Iwerks\", \"Alexander Jansson\", \"Jarosław Jaśnikowski\", \"James Jean\", \"Ruan Jia\", \"Martine Johanna\", \"Richard S. Johnson\", \"Jeffrey Catherine Jones\", \"Peter Andrew Jones\", \"Kim Jung Gi\", \"Joe Jusko\", \"Frida Kahlo\", \"M.W. Kaluta\", \"Wassily Kandinsky\", \"Terada Katsuya\", \"Audrey Kawasaki\", \"Hasui Kawase\", \"Zhang Kechun\", \"Felix Kelly\", \"John Frederick Kensett\", \"Rockwell Kent\", \"Hendrik Kerstens\", \"Brian Kesinger\", \"Jeremiah Ketner\", \"Adonna Khare\", \"Kitty Lange Kielland\", \"Thomas Kinkade\", \"Jack Kirby\", \"Ernst Ludwig Kirchner\", \"Tatsuro Kiuchi\", \"Mati Klarwein\", \"Jon Klassen\", \"Paul Klee\", \"Yves Klein\", \"Heinrich Kley\", \"Gustav Klimt\", \"Daniel Ridgway Knight\", \"Nick Knight\", \"Daniel Ridgway Knights\", \"Ayami Kojima\", \"Oskar Kokoschka\", \"Käthe Kollwitz\", \"Satoshi Kon\", \"Jeff Koons\", \"Konstantin Korovin\", \"Leon Kossoff\", \"Hugh Kretschmer\", \"Barbara Kruger\", \"Alfred Kubin\", \"Arkhyp Kuindzhi\", \"Kengo Kuma\", \"Yasuo Kuniyoshi\", \"Yayoi Kusama\", \"Ilya Kuvshinov\", \"Chris LaBrooy\", \"Raphael Lacoste\", \"Wilfredo Lam\", \"Mikhail Larionov\", \"Abigail Larson\", \"Jeffrey T. Larson\", \"Carl Larsson\", \"Dorothy Lathrop\", \"John Lavery\", \"Edward Lear\", \"André Leblanc\", \"Bastien Lecouffe-Deharme\", \"Alan Lee\", \"Jim Lee\", \"Heinrich Lefler\", \"Paul Lehr\", \"Edmund Leighton\", \"Frederick Lord Leighton\", \"Jeff Lemire\", \"Isaac Levitan\", \"J.C. Leyendecker\", \"Roy Lichtenstein\", \"Rob Liefeld\", \"Malcolm Liepke\", \"Jeremy Lipking\", \"Filippino Lippi\", \"Laurie Lipton\", \"Michal Lisowski\", \"Scott Listfield\", \"Cory Loftis\", \"Travis Louie\", \"George Luks\", \"Dora Maar\", \"August Macke\", \"Margaret Macdonald Mackintosh\", \"Clive Madgwick\", \"Lee Madgwick\", \"Rene Magritte\", \"Don Maitz\", \"Kazimir Malevich\", \"Édouard Manet\", \"Jeremy Mann\", \"Sally Mann\", \"Franz Marc\", \"Chris Mars\", \"Otto Marseus van Schrieck\", \"John Martin\", \"Masaaki Masamoto\", \"André Masson\", \"Henri Matisse\", \"Leiji Matsumoto\", \"Taiyō Matsumoto\", \"Roberto Matta\", \"Rodney Matthews\", \"David B. Mattingly\", \"Peter Max\", \"Marco Mazzoni\", \"Robert McCall\", \"Todd McFarlane\", \"Ryan McGinley\", \"Dave McKean\", \"Kelly McKernan\", \"Angus McKie\", \"Ralph McQuarrie\", \"Ian McQue\", \"Syd Mead\", \"Józef Mehoffer\", \"Eddie Mendoza\", \"Adolph Menzel\", \"Maria Sibylla Merian\", \"Daniel Merriam\", \"Jean Metzinger\", \"Michelangelo\", \"Mike Mignola\", \"Frank Miller\", \"Ian Miller\", \"Russ Mills\", \"Victor Adame Minguez\", \"Joan Miro\", \"Kentaro Miura\", \"Paula Modersohn-Becker\", \"Amedeo Modigliani\", \"Moebius\", \"Peter Mohrbacher\", \"Piet Mondrian\", \"Claude Monet\", \"Jean-Baptiste Monge\", \"Kent Monkman\", \"Alyssa Monks\", \"Sailor Moon\", \"Chris Moore\", \"Gustave Moreau\", \"William Morris\", \"Igor Morski\", \"John Kenn Mortensen\", \"Victor Moscoso\", \"Grandma Moses\", \"Robert Motherwell\", \"Alphonse Mucha\", \"Craig Mullins\", \"Augustus Edwin Mulready\", \"Dan Mumford\", \"Edvard Munch\", \"Gabriele Münter\", \"Gerhard Munthe\", \"Takashi Murakami\", \"Patrice Murciano\", \"Go Nagai\", \"Hiroshi Nagai\", \"Tibor Nagy\", \"Ted Nasmith\", \"Alice Neel\", \"Odd Nerdrum\", \"Mikhail Nesterov\", \"C. R. W. Nevinson\", \"Helmut Newton\", \"Victo Ngai\", \n",
        "           \"Dustin Nguyen\", \"Kay Nielsen\", \"Tsutomu Nihei\", \"Yasushi Nirasawa\", \"Sidney Nolan\", \"Emil Nolde\", \"Sven Nordqvist\", \"Earl Norem\", \"Marianne North\", \"Georgia O'Keeffe\", \"Terry Oakes\", \"Takeshi Obata\", \"Eiichiro Oda\", \"Koson Ohara\", \"Noriyoshi Ohrai\", \"Marek Okon\", \"Méret Oppenheim\", \"Katsuhiro Otomo\", \"Shohei Otomo\", \"Siya Oum\", \"Ida Rentoul Outhwaite\", \"James Paick\", \"David Palumbo\", \"Michael Parkes\", \"Keith Parkinson\", \"Maxfield Parrish\", \"Alfred Parsons\", \"Max Pechstein\", \"Agnes Lawrence Pelton\", \"Bruce Pennington\", \"John Perceval\", \"Gaetano Pesce\", \"Coles Phillips\", \"Francis Picabia\", \"Pablo Picasso\", \"Mauro Picenardi\", \"Anton Pieck\", \"Bonnard Pierre\", \"Yuri Ivanovich Pimenov\", \"Robert Antoine Pinchon\", \"Giovanni Battista Piranesi\", \"Camille Pissarro\", \"Patricia Polacco\", \"Jackson Pollock\", \"Lyubov Popova\", \"Candido Portinari\", \"Beatrix Potter\", \"Beatrix Potter\", \"Gediminas Pranckevicius\", \"Dod Procter\", \"Howard Pyle\", \"Arthur Rackham\", \"Alice Rahon\", \"Paul Ranson\", \"Raphael\", \"Robert Rauschenberg\", \"Man Ray\", \"Odilon Redon\", \"Pierre-Auguste Renoir\", \"Ilya Repin\", \"RHADS\", \"Gerhard Richter\", \"Diego Rivera\", \"Hubert Robert\", \"Andrew Robinson\", \"Charles Robinson\", \"W. Heath Robinson\", \"Andreas Rocha\", \"Norman Rockwell\", \"Nicholas Roerich\", \"Conrad Roset\", \"Bob Ross\", \"Jessica Rossier\", \"Ed Roth\", \"Mark Rothko\", \"Georges Rouault\", \"Henri Rousseau\", \"Luis Royo\", \"Jakub Rozalski\", \"Joao Ruas\", \"Peter Paul Rubens\", \"Mark Ryden\", \"Jan Pietersz Saenredam\", \"Pieter Jansz Saenredam\", \"Kay Sage\", \"Apollonia Saintclair\", \"John Singer Sargent\", \"Martiros Saryan\", \"Masaaki Sasamoto\", \"Thomas W Schaller\", \"Miriam Schapiro\", \"Yohann Schepacz\", \"Egon Schiele\", \"Karl Schmidt-Rottluff\", \"Charles Schulz\", \"Charles Schulz\", \"Carlos Schwabe\", \"Sean Scully\", \"Franz Sedlacek\", \"Maurice Sendak\", \"Zinaida Serebriakova\", \"Georges Seurat\", \"Ben Shahn\", \"Barclay Shaw\", \"E. H. Shepard\", \"Cindy Sherman\", \"Makoto Shinkai\", \"Yoji Shinkawa\", \"Chiharu Shiota\", \"Masamune Shirow\", \"Ivan Shishkin\", \"Bill Sienkiewicz\", \"Greg Simkins\", \"Marc Simonetti\", \"Kevin Sloan\", \"Adrian Smith\", \"Douglas Smith\", \"Jeffrey Smith\", \"Pamela Coleman Smith\", \"Zack Snyder\", \"Simeon Solomon\", \"Joaquín Sorolla\", \"Ettore Sottsass\", \"Chaïm Soutine\", \"Austin Osman Spare\", \"Sparth \", \"Art Spiegelman\", \"Simon Stalenhag\", \"Ralph Steadman\", \"William Steig\", \"Joseph Stella\", \"Irma Stern\", \"Anne Stokes\", \"James Stokoe\", \"William Stout\", \"George Stubbs\", \"Tatiana Suarez\", \"Ken Sugimori\", \"Hiroshi Sugimoto\", \"Brian Sum\", \"Matti Suuronen\", \"Raymond Swanland\", \"Naoko Takeuchi\", \"Rufino Tamayo\", \"Shaun Tan\", \"Yves Tanguay\", \"Henry Ossawa Tanner\", \"Dorothea Tanning\", \"Ben Templesmith\", \"theCHAMBA\", \"Tom Thomson\", \"Storm Thorgerson\", \"Bridget Bate Tichenor\", \"Louis Comfort Tiffany\", \"Tintoretto\", \"James Tissot\", \"Titian\", \"Akira Toriyama\", \"Ross Tran\", \"Clovis Trouille\", \"J.M.W. Turner\", \"James Turrell\", \"Daniela Uhlig\", \"Boris Vallejo\", \"Gustave Van de Woestijne\", \"Frits Van den Berghe\", \"Anthony van Dyck\", \"Jan van Eyck\", \"Vincent Van Gogh\", \"Willem van Haecht\", \"Rembrandt van Rijn\", \"Jacob van Ruisdael\", \"Salomon van Ruysdael\", \"Theo van Rysselberghe\", \"Remedios Varo\", \"Viktor Vasnetsov\", \"Kuno Veeber\", \"Diego Velázquez\", \"Giovanni Battista Venanzi\", \"Johannes Vermeer\", \"Alexej von Jawlensky\", \"Marianne von Werefkin\", \"Hendrick Cornelisz Vroom\", \"Mikhail Vrubel\", \"Louis Wain\", \"Ron Walotsky\", \"Andy Warhol\", \"John William Waterhouse\", \"Jean-Antoine Watteau\", \"George Frederic Watts\", \"Max Weber\", \"Gerda Wegener\", \"Edward Weston\", \"Michael Whelan\", \"James Abbott McNeill Whistler\", \"Tim White\", \"Coby Whitmore\", \"John Wilhelm\", \"Robert Williams\", \"Al Williamson\", \"Carel Willink\", \"Mike Winkelmann\", \"Franz Xaver Winterhalter\", \"Klaus Wittmann\", \"Liam Wong\", \"Paul Wonner\", \"Ashley Wood\", \"Grant Wood\", \"Patrick Woodroffe\", \"Frank Lloyd Wright\", \"Bernie Wrightson\", \"Andrew Wyeth\", \"Qian Xuan\", \"Takato Yamamoto\", \"Liu Ye\", \"Jacek Yerka\", \"Akihiko Yoshida\", \"Hiroshi Yoshida\", \"Skottie Young\", \"Konstantin Yuon\", \"Yuumei\", \"Amir Zand\", \"Fenghua Zhong\", \"Nele Zirnite\", \"Anders Zorn\") \n",
        "styles = ( \"1970s era\", \"2001: A Space Odyssey\", \"60s kitsch and psychedelia\", \"Aaahh!!! Real Monsters\", \"abstract illusionism\", \"afrofuturism\", \"alabaster\", \"alhambresque\", \"ambrotype\", \"american romanticism\", \"amethyst\", \"amigurumi\", \"anaglyph effect\", \"anaglyph filter\", \"Ancient Egyptian\", \"ancient Greek architecture\", \"anime\", \"art nouveau\", \"astrophotography\", \"at dawn\", \"at dusk\", \"at high noon\", \"at night\", \"atompunk\", \"aureolin\", \"avant-garde\", \"Avatar The Last Airbender\", \"Babylonian\", \"Baker-Miller pink\", \"Baroque\", \"Bauhaus\", \"biopunk\", \"bismuth\", \"Blade Runner 2049\", \"blueprint\", \"bokeh\", \"bonsai\", \"bright\", \"bronze\", \"brutalism\", \"burgundy\", \"Byzantine\", \"calotype\", \"Cambrian\", \"camcorder effect\", \"carmine\", \"cassette futurism\", \"cassettepunk\", \"catholicpunk\", \"cerulean\", \"chalk art\", \"chartreuse\", \"chiaroscuro\", \"chillwave\", \"chromatic aberration\", \"chrome\", \"Cirque du Soleil\", \"claymation\", \"clockpunk\", \"cloudpunk\", \"cobalt\", \"colored pencil art\", \"Concept Art World\", \"copper patina\", \"copper verdigris\", \"Coraline\", \"cosmic horror\", \"cottagecore\", \"crayon art\", \"crimson\", \"CryEngine\", \"crystalline lattice\", \"cubic zirconia\", \"cubism\", \"cyanotype\", \"cyber noir\", \"cyberpunk\", \"cyclopean masonry\", \"daguerreotype\", \"Danny Phantom\", \"dark academia\", \"dark pastel\", \"dark rainbow\", \"DayGlo\", \"decopunk\", \"Dexter's Lab\", \"diamond\", \"dieselpunk\", \"Digimon\", \"digital art\", \"doge\", \"dollpunk\", \"Doom engine\", \"Dreamworks\", \"dutch golden age\", \"Egyptian\", \"eldritch\", \"emerald\", \"empyrean\", \"Eraserhead\", \"ethereal\", \"expressionism\", \"Fantastic Planet\", \"Fendi\", \"figurativism\", \"fire\", \"fisheye lens\", \"fluorescent\", \"forestpunk\", \"fractal manifold\", \"fractalism\", \"fresco\", \"fuchsia\", \"futuresynth\", \"Game of Thrones\", \"german romanticism\", \"glitch art\", \"glittering\", \"golden\", \"golden hour\", \"gothic\", \"gothic art\", \"graffiti\", \"graphite\", \"grim dark\", \"Harry Potter\", \"holography\", \"Howl’s Moving Castle\", \"hygge\", \"hyperrealism\", \"icy\", \"ikebana\", \"impressionism\", \"in Ancient Egypt\", \"in Egypt\", \"in Italy\", \"in Japan\", \"in the Central African Republic\", \"in the desert\", \"in the jungle\", \"in the swamp\", \"in the tundra\", \"incandescent\", \"indigo\", \"infrared\", \"Interstellar\", \"inverted colors\", \"iridescent\", \"iron\", \"islandpunk\", \"isotype\", \"Kai Fine Art\", \"khaki\", \"kokedama\", \"Korean folk art\", \"lapis lazuli\", \"Lawrence of Arabia\", \"leather\", \"leopard print\", \"lilac\", \"liminal space\", \"long exposure\", \"Lord of the Rings\", \"Louis Vuitton\", \"Lovecraftian\", \"low poly\", \"mac and cheese\", \"macro lens\", \"magenta\", \"magic realism\", \"manga\", \"mariachi\", \"marimekko\", \"maroon\", \"Medieval\", \"Mediterranean\", \"modernism\", \"Monster Rancher\", \"moonstone\", \"Moulin Rouge!\", \"multiple exposure\", \"Myst\", \"nacreous\", \"narrative realism\", \"naturalism\", \"neon\", \"Nosferatu\", \"obsidian\", \"oil and canvas\", \"opalescent\", \"optical illusion\", \"optical art\", \"organometallics\", \"ossuary\", \"outrun\", \"Paleolithic\", \"Pan's Labyrinth\", \"pastel\", \"patina\", \"pearlescent\", \"pewter\", \"Pixar\", \"Play-Doh\", \"pointillism\", \"Pokemon\", \"polaroid\", \"porcelain\", \"positivism\", \"postcyberpunk\", \"Pride & Prejudice\", \"prismatic\", \"pyroclastic flow\", \"Quake engine\", \"quartz\", \"rainbow\", \"reflective\", \"Renaissance\", \"retrowave\", \"Rococo\", \"rococopunk\", \"ruby\", \"rusty\", \"Salad Fingers\", \"sapphire\", \"scarlet\", \"shimmering\", \"silk\", \"sketched\", \"Slenderman\", \"smoke\", \"snakeskin\", \"Spaceghost Coast to Coast\", \"stained glass\", \"Star Wars\", \"steampunk\", \"steel\", \"steelpunk\", \"still life\", \"stonepunk\", \"Stranger Things\", \"street art\", \"stuckism\", \"Studio Ghibli\", \"Sumerian\", \"surrealism\", \"symbolism\", \"synthwave\", \"telephoto lens\", \"thalassophobia\", \"thangka\", \"the matrix\", \"tiger print\", \"tilt-shift\", \"tintype\", \"tonalism\", \"Toonami\", \"turquoise\", \"Ukiyo-e\", \"ultramarine\", \"ultraviolet\", \"umber\", \"underwater photography\", \"Unreal Engine\", \"vantablack\", \"vaporwave\", \"verdigris\", \"Versacci\", \"viridian\", \"wabi-sabi\", \"watercolor painting\", \"wooden\", \"x-ray photography\", \"minimalist\", \"dadaist\", \"neo-expressionist\", \"post-impressionist\", \"hyper real\", \"Art brut\", \"3D rendering\", \"uncanny valley\", \"fractal landscape\", \"fractal flames\", \"Mandelbulb\", \"inception dream\", \"waking life\", \"occult inscriptions\", \"barr relief\", \"marble sculpture\", \"wood carving\", \"church stained glass\", \"Japanese jade\", \"Zoetrope\", \"beautiful\", \"wide-angle\", \"Digital Painting\", \"glossy reflections\", \"cinematic\", \"spooky\", \"Digital paint concept art\", \"dramatic\", \"global illumination\", \"immaculate\", \"woods\", ) \n",
        "\n",
        "prompts = []\n",
        "for j in range(amount):\n",
        "    random_artist=[]\n",
        "    for a in range(random_artists):\n",
        "      random_artist.append(random.choice(artists))\n",
        "    artist = \" and \".join([\", \".join(random_artist[:-1]),random_artist[-1]] if len(random_artist) > 2 else random_artist)\n",
        "    random_style = []\n",
        "    for s in range(random_styles):\n",
        "      random_style.append(random.choice(styles))\n",
        "    style = \", \".join(random_style)\n",
        "    response = openai.Completion.create(engine=\"text-davinci-002\", prompt=prompt, max_tokens=2400, temperature=AI_temperature, presence_penalty=1, stop= \"\\n\")\n",
        "    #print(response)\n",
        "    result = response[\"choices\"][0][\"text\"].strip()\n",
        "    if result[-1] == '.': result = result[:-1]\n",
        "    if phrase_as_subject: prompt = f\"{prompt} {result}\\n*\"\n",
        "    else: prompt = f\"{prompt} {result}\\n* {phrase}\"\n",
        "    text_prompt = [(\"\" if phrase_as_subject else phrase + \" \") + f\"{result}:{weight_Subject}\"]\n",
        "    if random_artists > 0: text_prompt.append(f\"by {artist}:{weight_Artists}\")\n",
        "    if random_styles > 0: text_prompt.append(f\"style of {style}:{weight_Styles}\")\n",
        "    negatives = []\n",
        "    if mod_noText: negatives.append(\"text, signature, signatures\")\n",
        "    if mod_noBlur: negatives.append(\"blur, blurry, depth of field, dof, bokeh\")\n",
        "    if mod_noArtifacts: negatives.append(\"watermark, jpeg artifacts, specular highlights, noise, pixilation, low quality\")\n",
        "    if mod_noDeformed: negatives.append(\"deformed, non realistic, unrealistic\")\n",
        "    if len(negatives) > 0: text_prompt.append(\", \".join(negatives) + f\":{weight_NegativeMods}\")\n",
        "    if mod_Artstation: text_prompt.append(f\"featured on ArtStation, trending on ArtStation, cgsociety, trending on 500px, deviantart:{weight_PositiveMods}\")\n",
        "    if mod_Photorealistic: text_prompt.append(f\"photorealistic, 4k, 8k, realistic, realism:{weight_PositiveMods}\")\n",
        "    if mod_Detailed: text_prompt.append(f\"highly detailed, intricate, ultrafine detail, micro details:{weight_PositiveMods}\")\n",
        "    if mod_3DRendered: text_prompt.append(f\"Unreal engine, Unity 3D, ray tracing, Octane render, VRay, Houdini render, CGI:{weight_PositiveMods}\")\n",
        "    if mod_Lighting: text_prompt.append(f\"volumetric lighting, in the golden hour, dynamic lighting, dramatic lighting:{weight_PositiveMods}\")\n",
        "    if mod_WideAngle: text_prompt.append(f\"ultra wide angle, wide-angle, ultrawide:{weight_PositiveMods}\")\n",
        "    prompts.append(text_prompt)\n",
        "for item in prompts:\n",
        "    print(item,\",\")"
      ],
      "metadata": {
        "cellView": "form",
        "id": "plo-8Pxjb3ui",
        "colab": {
          "base_uri": "https://localhost:8080/"
        },
        "outputId": "9f2856b6-c504-4b20-ac4f-0ba96098cec2"
      },
      "id": "plo-8Pxjb3ui",
      "execution_count": null,
      "outputs": [
        {
          "output_type": "stream",
          "name": "stdout",
          "text": [
            "['Hyper-terrestrial entities soaring in the sky, their energy forms crackling with electricity as they fly:3', 'by Mikhail Larionov and Carlos Schwabe:2', 'copper patina, street art, impressionism:1.5', 'text, signature, signatures, blur, blurry, depth of field, dof, bokeh, watermark, jpeg artifacts, specular highlights, noise, pixilation, low quality:-2', 'featured on ArtStation, trending on ArtStation, cgsociety, trending on 500px, deviantart:1'] ,\n",
            "['Hyper-terrestrial entities walking among the stars, their feet never touching the ground:3', 'by Jean Metzinger and Kay Nielsen:2', 'marimekko, cyber noir, iron:1.5', 'text, signature, signatures, blur, blurry, depth of field, dof, bokeh, watermark, jpeg artifacts, specular highlights, noise, pixilation, low quality:-2', 'featured on ArtStation, trending on ArtStation, cgsociety, trending on 500px, deviantart:1'] ,\n",
            "['Hyper-terrestrial entities interacting with humans, teaching them about the universe and its secrets:3', 'by Thomas Gainsborough and Chris LaBrooy:2', 'glittering, glossy reflections, thalassophobia:1.5', 'text, signature, signatures, blur, blurry, depth of field, dof, bokeh, watermark, jpeg artifacts, specular highlights, noise, pixilation, low quality:-2', 'featured on ArtStation, trending on ArtStation, cgsociety, trending on 500px, deviantart:1'] ,\n",
            "['Hyper-terrestrial entities playing in a field of flowers, their laughter filling the air with joy:3', 'by Robert Crumb and Max Ernst:2', 'pearlescent, organometallics, ikebana:1.5', 'text, signature, signatures, blur, blurry, depth of field, dof, bokeh, watermark, jpeg artifacts, specular highlights, noise, pixilation, low quality:-2', 'featured on ArtStation, trending on ArtStation, cgsociety, trending on 500px, deviantart:1'] ,\n",
            "['Hyper-terrestrial entities using their powers to help humans in need, their kindness and compassion shining through:3', 'by Marek Okon and Max Pechstein:2', 'outrun, gothic, Dreamworks:1.5', 'text, signature, signatures, blur, blurry, depth of field, dof, bokeh, watermark, jpeg artifacts, specular highlights, noise, pixilation, low quality:-2', 'featured on ArtStation, trending on ArtStation, cgsociety, trending on 500px, deviantart:1'] ,\n",
            "['Hyper-terrestrial entities helping humans to understand the universe and its mysteries, their wisdom and knowledge helping to guide the way:3', 'by John Blanche and Philip Guston:2', 'tiger print, cinematic, claymation:1.5', 'text, signature, signatures, blur, blurry, depth of field, dof, bokeh, watermark, jpeg artifacts, specular highlights, noise, pixilation, low quality:-2', 'featured on ArtStation, trending on ArtStation, cgsociety, trending on 500px, deviantart:1'] ,\n",
            "['Hyper-terrestrial entities as guardian angels, always watching over and protecting humans from harm:3', 'by Jacob Hashimoto and Lucas Cranach the Elder:2', 'cloudpunk, rainbow, snakeskin:1.5', 'text, signature, signatures, blur, blurry, depth of field, dof, bokeh, watermark, jpeg artifacts, specular highlights, noise, pixilation, low quality:-2', 'featured on ArtStation, trending on ArtStation, cgsociety, trending on 500px, deviantart:1'] ,\n",
            "['Hyper-terrestrial entities as messengers of peace, their presence bringing a sense of calm and tranquility:3', 'by Simon Stalenhag and Zinaida Serebriakova:2', 'ancient Greek architecture, mariachi, Aaahh!!! Real Monsters:1.5', 'text, signature, signatures, blur, blurry, depth of field, dof, bokeh, watermark, jpeg artifacts, specular highlights, noise, pixilation, low quality:-2', 'featured on ArtStation, trending on ArtStation, cgsociety, trending on 500px, deviantart:1'] ,\n",
            "['Hyper-terrestrial entities as healers, their touch bringing comfort and peace to those in pain:3', 'by Milton Glaser and Johfra Bosschart:2', 'anaglyph effect, hyperrealism, cloudpunk:1.5', 'text, signature, signatures, blur, blurry, depth of field, dof, bokeh, watermark, jpeg artifacts, specular highlights, noise, pixilation, low quality:-2', 'featured on ArtStation, trending on ArtStation, cgsociety, trending on 500px, deviantart:1'] ,\n",
            "['Hyper-terrestrial entities as protectors, their strength and power keeping humans safe from harm:3', 'by Mauro Picenardi and Louise Bourgeois:2', 'spooky, in the tundra, tiger print:1.5', 'text, signature, signatures, blur, blurry, depth of field, dof, bokeh, watermark, jpeg artifacts, specular highlights, noise, pixilation, low quality:-2', 'featured on ArtStation, trending on ArtStation, cgsociety, trending on 500px, deviantart:1'] ,\n"
          ]
        }
      ]
    },
    {
      "cell_type": "code",
      "source": [
        "#@title ## **Generate Structured Prompt List** from GPT-3 Results (copy/paste/edit)\n",
        "list_mode = 'Animation' #@param ['Animation', 'Images', 'Disco Image List', 'Stable Diffusion', 'Simple Text']\n",
        "if list_mode == 'Animation':\n",
        "  frames_between = 40 #@param {type:\"integer\"}\n",
        "output = \"\"\n",
        "if list_mode == 'Animation':\n",
        "  text_prompts = {}\n",
        "  frame = 0\n",
        "  output += 'text_prompts = {\\n'\n",
        "  for pr in prompts:\n",
        "    text_prompts[frame] = pr\n",
        "    output += f'  {frame}: [\"' + '\", \"'.join(pr) + '\"],\\n'\n",
        "    frame += frames_between\n",
        "  output += '}\\n'\n",
        "if list_mode == 'Images':\n",
        "  output += 'prompts = [\\n'\n",
        "  for pr in prompts:\n",
        "    #text_prompts[frame] = pr\n",
        "    output += f'  [\"' + '\", \"'.join(pr) + '\"],\\n'\n",
        "  output += ']'\n",
        "if list_mode == 'Disco Image List':\n",
        "  output += 'prompts = [\\n'\n",
        "  for pr in prompts:\n",
        "    #text_prompts[frame] = pr\n",
        "    output += f'  Disco([\"' + '\", \"'.join(pr) + '\"], {}),\\n'\n",
        "  output += ']'\n",
        "def trim_weight(s):\n",
        "    return s.rpartition(':')[0] if ':' in s else s\n",
        "if list_mode == 'Simple Text':\n",
        "  for pr in prompts:\n",
        "    output += trim_weight(pr[0]) + ' ' + trim_weight(pr[1]) + (', ' + trim_weight(pr[2]) if len(pr) > 2 else '') + '\\n'\n",
        "if list_mode == 'Stable Diffusion':\n",
        "  stable_options = '-H 640 -W 1024 -n 4 -g'\n",
        "  for pr in prompts:\n",
        "    output += '!dream \"' + trim_weight(pr[0]) + ' ' + trim_weight(pr[1]) + (', ' + trim_weight(pr[2]) if len(pr) > 2 else '') + f'\" {stable_options}' + '\\n'\n",
        "print(output)"
      ],
      "metadata": {
        "cellView": "form",
        "id": "SLaqAUNMt13_",
        "colab": {
          "base_uri": "https://localhost:8080/"
        },
        "outputId": "f2443c40-b89e-4052-ed05-a09696a0cebf"
      },
      "id": "SLaqAUNMt13_",
      "execution_count": null,
      "outputs": [
        {
          "output_type": "stream",
          "name": "stdout",
          "text": [
            "Hyper-terrestrial entities soaring in the sky, their energy forms crackling with electricity as they fly by Mikhail Larionov and Carlos Schwabe, copper patina, street art, impressionism\n",
            "Hyper-terrestrial entities walking among the stars, their feet never touching the ground by Jean Metzinger and Kay Nielsen, marimekko, cyber noir, iron\n",
            "Hyper-terrestrial entities interacting with humans, teaching them about the universe and its secrets by Thomas Gainsborough and Chris LaBrooy, glittering, glossy reflections, thalassophobia\n",
            "Hyper-terrestrial entities playing in a field of flowers, their laughter filling the air with joy by Robert Crumb and Max Ernst, pearlescent, organometallics, ikebana\n",
            "Hyper-terrestrial entities using their powers to help humans in need, their kindness and compassion shining through by Marek Okon and Max Pechstein, outrun, gothic, Dreamworks\n",
            "Hyper-terrestrial entities helping humans to understand the universe and its mysteries, their wisdom and knowledge helping to guide the way by John Blanche and Philip Guston, tiger print, cinematic, claymation\n",
            "Hyper-terrestrial entities as guardian angels, always watching over and protecting humans from harm by Jacob Hashimoto and Lucas Cranach the Elder, cloudpunk, rainbow, snakeskin\n",
            "Hyper-terrestrial entities as messengers of peace, their presence bringing a sense of calm and tranquility by Simon Stalenhag and Zinaida Serebriakova, ancient Greek architecture, mariachi, Aaahh!!! Real Monsters\n",
            "Hyper-terrestrial entities as healers, their touch bringing comfort and peace to those in pain by Milton Glaser and Johfra Bosschart, anaglyph effect, hyperrealism, cloudpunk\n",
            "Hyper-terrestrial entities as protectors, their strength and power keeping humans safe from harm by Mauro Picenardi and Louise Bourgeois, spooky, in the tundra, tiger print\n"
          ]
        }
      ]
    },
    {
      "cell_type": "markdown",
      "source": [
        "# Noodle Soup Prompt Variables Instructions"
      ],
      "metadata": {
        "id": "6o_DBSjGNoGF"
      },
      "id": "6o_DBSjGNoGF"
    },
    {
      "cell_type": "markdown",
      "source": [
        "To use a term database, simply use one of keys below. \n",
        "\n",
        "For example if you wanted beauty adjective, you would write `_adj-beauty_` in your prompt. \n",
        "\n",
        "## Terminology Keys\n",
        "\n",
        "### &nbsp;&nbsp;&nbsp;&nbsp;&nbsp;&nbsp;&nbsp; Adjective Types\n",
        "   - `_adj-architecture_` - A list of architectural adjectives and styles\n",
        "   - `_adj-beauty_` - A list of beauty adjectives for people (maybe things?)\n",
        "   - `_adj-general_` - A list of general adjectives for people/things.\n",
        "   - `_adj-horror_` - A list of horror adjectives\n",
        "### Art Types\n",
        "   - `_artist_` - A comprehensive list of artists by **MisterRuffian** <font size=\"2\">(<font color=\"7e87f6\">Discord</font> Misterruffian#2891)</font>\n",
        "   - `_color_` - A comprehensive list of colors\n",
        "   - `_portrait-type_` - A list of common portrait types/poses\n",
        "   - `_style_` - A list of art styles and mediums\n",
        "### Computer Graphics Types\n",
        "   - `_3d-terms_` - A list of 3D graphics terminology\n",
        "   - `_color-palette_` - A list of computer and video game console color palettes\n",
        "   - `_hd_` - A list of high definition resolution terms\n",
        "### Miscellaneous Types\n",
        "   - `_details_` - A list of detail descriptors\n",
        "   - `_site_` - A list of websites to query\n",
        "   - `_gen-modififer_` - A list of general modifiers adopted from [Weird Wonderful AI Art](https://weirdwonderfulai.art/)\n",
        "   - `_neg-weight_` - A lsit of negative weight ideas\n",
        "   - `_punk_` - A list of punk modifier (eg. cyberpunk)\n",
        "   - ` _pop-culture_` - A list of popular culture movies, shows, etc\n",
        "   - `_pop-location_` - A list of popular tourist locations\n",
        "   - `_fantasy-setting_` - A list of fantasy location settings\n",
        "   - `_fantasy-creature_` - A list of fantasy creatures\n",
        "### Noun Types\n",
        "   - `_noun-beauty_` - A list of beauty related nouns\n",
        "   - `_noun-emote_` - A list of emotions and expressions\n",
        "   - `_noun-fantasy_` - A list of fantasy nouns\n",
        "   - `_noun-general_` - A list of general nouns\n",
        "   - `_noun-horror_` - A list of horror nouns\n",
        "### People Types\n",
        "   - `_bodyshape_` - A list of body shapes\n",
        "   - `_celeb_` - A list of celebrities\n",
        "   - `_eyecolor_` - A list of eye colors\n",
        "   - `_hair_` - A list of hair types\n",
        "   - `_nationality_` - A list of nationalities\n",
        "   - `_occputation_` A list of occupation types\n",
        "   - `_skin-color_` - A list of skin tones\n",
        "   - `_identity-young_` A list of young identifiers\n",
        "   - `_identity-adult_` A list of adult identifiers\n",
        "   - `_identity_` A list of general identifiers\n",
        "### Photography / Image / Film Types\n",
        "   - `_aspect-ratio_` - A list of common aspect ratios\n",
        "   - `_cameras_` - A list of camera models *(including manufactuerer)*\n",
        "   - `_camera-manu_` - A list of camera manufacturers\n",
        "   - `_f-stop_` - A list of camera aperture f-stop\n",
        "   - `_focal-length_` - A list of focal length ranges\n",
        "   - `_photo-term_` - A list of photography terms relating to photos\n",
        "\n",
        "So in Subject try something like:\n",
        "`A _color_ _noun-general_ that is _adj-beauty_ and _adj-general_ with a _noun-emote_ _noun-fantasy_`"
      ],
      "metadata": {
        "id": "Tx8_GwlQQnNF"
      },
      "id": "Tx8_GwlQQnNF"
    },
    {
      "cell_type": "markdown",
      "source": [
        "# Structured Prompt Writer"
      ],
      "metadata": {
        "id": "te_bq0E2HHLG"
      },
      "id": "te_bq0E2HHLG"
    },
    {
      "cell_type": "code",
      "source": [
        "import os.path\n",
        "if not os.path.exists('/content/nsp_pantry.py'):\n",
        "  %wget -q --show-progress --no-cache --backups=1 'https://raw.githubusercontent.com/WASasquatch/noodle-soup-prompts/main/nsp_pantry.py'\n",
        "import nsp_pantry\n",
        "from nsp_pantry import nspterminology, nsp_parse\n",
        "import random\n",
        "\n",
        "#@markdown Construct your DiscoDiffusion Art descriptions easier, with all the extras you need to engineer perfect prompts faster. Note, you don't have to use any randoms if you rather do all custom.\n",
        "\n",
        "art_Subjects = \"A _adj-beauty_ _noun-general_ that is _adj-beauty_ and _adj-general_ with a _noun-emote_ _noun-fantasy_\" #@param {type:\"string\"}\n",
        "#@markdown List one or more separated by commas, or leave blank for only random\n",
        "by_Artists = \"_artist_\" #@param {type:\"string\"}\n",
        "art_Styles = \"_style_\" #@param {type:\"string\"}\n",
        "#phrase_as_subject = False #@param {type:\"boolean\"}\n",
        "#@markdown If you don't want to add random Artists & Styles, set to 0.  Random picks are added to your list\n",
        "random_artists = 1 #@param {type:\"integer\"}\n",
        "random_styles = 2 #@param {type:\"integer\"}\n",
        "mod_noText = True #@param {type:\"boolean\"}\n",
        "mod_noBlur = True #@param {type:\"boolean\"}\n",
        "mod_noArtifacts = True #@param {type:\"boolean\"}\n",
        "mod_noDeformed = False #@param {type:\"boolean\"}\n",
        "mod_Artstation = True #@param {type:\"boolean\"}\n",
        "mod_Photorealistic = False #@param {type:\"boolean\"}\n",
        "mod_Detailed = True #@param {type:\"boolean\"}\n",
        "mod_3DRendered = False #@param {type:\"boolean\"}\n",
        "mod_Lighting = False #@param {type:\"boolean\"}\n",
        "mod_WideAngle = False #@param {type:\"boolean\"}\n",
        "#@markdown Add any additional modifiers, including weights with :4 to :-1\n",
        "mod_Custom = \"\" #@param {type:\"string\"}\n",
        "mod_Custom2 = \"\" #@param {type:\"string\"}\n",
        "weight_Subject = 3 #@param {type:\"number\"}\n",
        "weight_Artists = 2 #@param {type:\"number\"}\n",
        "weight_Styles = 1.5 #@param {type:\"number\"}\n",
        "weight_NegativeMods = -2 #@param {type:\"number\"}\n",
        "weight_PositiveMods = 1 #@param {type:\"number\"}\n",
        "#@markdown After run, copy and paste to your text_prompts list. Rerun for new randoms.\n",
        "\n",
        "artists = ( \"Ivan Aivazovsky\", \"Beeple\", \"Zdzislaw Beksinski\", \"Albert Bierstadt\", \"Noah Bradley\", \"Jim Burns\", \"John Harris\", \"John Howe\", \"Thomas Kinkade\", \"Gediminas Pranckevicius\", \"Andreas Rocha\", \"Marc Simonetti\", \"Simon Stalenhag\", \"Yuumei\", \"Asher Brown Durand\", \"Tyler Edlin\", \"Jesper Ejsing\", \"Peter Mohrbacher\", \"RHADS\", \"Greg Rutkowski\", \"H.P. Lovecraft\", \"George Lucas\", \"Benoit B. Mandelbrot\", \"Edwin Austin Abbey\", \"Ansel Adams\", \"Arthur Adams\", \"Charles Addams\", \"Alena Aenami\", \"Pieter Aertsen\", \"Hilma af Klint\", \"Affandi\", \"Leonid Afremov\", \"Eileen Agar\", \"Ivan Aivazovsky\", \"Anni Albers\", \"Josef Albers\", \"Ivan Albright\", \"Yoshitaka Amano\", \"Cuno Amiet\", \"Sophie Anderson\", \"Wes Anderson\", \"Esao Andrews\", \"Charles Angrand\", \"Sofonisba Anguissola\", \"Hirohiko Araki\", \"Nobuyoshi Araki\", \"Shinji Aramaki\", \"Diane Arbus\", \"Giuseppe Arcimboldo\", \"Steve Argyle\", \"Jean Arp\", \"Artgerm\", \"John James Audubon\", \"Frank Auerbach\", \"Milton Avery\", \"Tex Avery\", \"Harriet Backer\", \"Francis Bacon\", \"Peter Bagge\", \"Tom Bagshaw\", \"Karol Bak\", \"Christopher Balaskas\", \"Hans Baldung\", \"Ronald Balfour\", \"Giacomo Balla\", \"Banksy\", \"Cicely Mary Barker\", \"Carl Barks\", \"Wayne Barlowe\", \"Jean-Michel Basquiat\", \"Jules Bastien-Lepage\", \"David Bates\", \"John Bauer\", \"Aubrey Beardsley\", \"Jasmine Becket-Griffith\", \"Max Beckmann\", \"Beeple\", \"Zdzislaw Beksinski\", \"Zdzisław Beksiński\", \"Julie Bell\", \"Hans Bellmer\", \"John Berkey\", \"Émile Bernard\", \"Elsa Beskow\", \"Albert Bierstadt\", \"Enki Bilal\", \"Ivan Bilibin\", \"Simon Bisley\", \"Charles Blackman\", \"Thomas Blackshear\", \"Mary Blair\", \"Quentin Blake\", \"William Blake\", \"Antoine Blanchard\", \"John Blanche\", \"Pascal Blanché\", \"Karl Blossfeldt\", \"Don Bluth\", \"Umberto Boccioni\", \"Arnold Böcklin\", \"Chesley Bonestell\", \"Franklin Booth\", \"Guido Borelli da Caluso\", \"Marius Borgeaud\", \"Hieronymous Bosch\", \"Hieronymus Bosch\", \"Sam Bosma\", \"Johfra Bosschart\", \"Sandro Botticelli\", \"William-Adolphe Bouguereau\", \"Louise Bourgeois\", \"Eleanor Vere Boyle\", \"Noah Bradley\", \"Victor Brauner\", \"Austin Briggs\", \"Raymond Briggs\", \"Mark Briscoe\", \"Romero Britto\", \"Gerald Brom\", \"Mark Brooks\", \"Patrick Brown\", \"Pieter Bruegel the Elder\", \"Bernard Buffet\", \"Laurel Burch\", \"Charles E. Burchfield\", \"David Burdeny\", \"Richard Burlet\", \"David Burliuk\", \"Edward Burne-Jones\", \"Jim Burns\", \"William S. Burroughs\", \"Gaston Bussière\", \"Kaethe Butcher\", \"Jack Butler Yeats\", \"Bob Byerley\", \"Alexandre Cabanel\", \"Ray Caesar\", \"Claude Cahun\", \"Zhichao Cai\", \"Randolph Caldecott\", \"Alexander Milne Calder\", \"Clyde Caldwell\", \"Eddie Campbell\", \"Pascale Campion\", \"Canaletto\", \"Caravaggio\", \"Annibale Carracci\", \"Carl Gustav Carus\", \"Santiago Caruso\", \"Mary Cassatt\", \"Paul Cézanne\", \"Marc Chagall\", \"Marcel Chagall\", \"Yanjun Cheng\", \"Sandra Chevrier\", \"Judy Chicago\", \"James C. Christensen\", \"Frederic Church\", \"Mikalojus Konstantinas Ciurlionis\", \"Pieter Claesz\", \"Amanda Clark\", \"Harry Clarke\", \"Thomas Cole\", \"Mat Collishaw\", \"John Constable\", \"Cassius Marcellus Coolidge\", \"Richard Corben\", \"Lovis Corinth\", \"Joseph Cornell\", \"Camille Corot\", \"cosmic nebulae\", \"Gustave Courbet\", \"Lucas Cranach the Elder\", \"Walter Crane\", \"Craola\", \"Gregory Crewdson\", \"Henri-Edmond Cross\", \"Robert Crumb\", \"Tivadar Csontváry Kosztka\", \"Krenz Cushart\", \"Leonardo da Vinci\", \"Richard Dadd\", \"Louise Dahl-Wolfe\", \"Salvador Dalí\", \"Farel Dalrymple\", \"Geof Darrow\", \"Honoré Daumier\", \"Jack Davis\", \"Marc Davis\", \"Stuart Davis\", \"Craig Davison\", \"Walter Percy Day\", \"Pierre Puvis de Chavannes\", \"Giorgio de Chirico\", \"Pieter de Hooch\", \"Elaine de Kooning\", \"Willem de Kooning\", \"Evelyn De Morgan\", \"Henri de Toulouse-Lautrec\", \"Richard Deacon\", \"Roger Dean\", \"Michael Deforge\", \"Edgar Degas\", \"Lise Deharme\", \"Eugene Delacroix\", \"Beauford Delaney\", \"Sonia Delaunay\", \"Nicolas Delort\", \"Paul Delvaux\", \"Jean Delville\", \"Martin Deschambault\", \"Brian Despain\", \"Vincent Di Fate\", \"Steve Dillon\", \"Walt Disney\", \"Tony DiTerlizzi\", \"Steve Ditko\", \"Anna Dittmann\", \"Otto Dix\", \"Óscar Domínguez\", \"Russell Dongjun Lu\", \"Stanley Donwood\", \"Gustave Doré\", \"Dave Dorman\", \"Arthur Dove\", \"Richard Doyle\", \"Tim Doyle\", \"Philippe Druillet\", \"Joseph Ducreux\", \"Edmund Dulac\", \"Asher Brown Durand\", \"Albrecht Dürer\", \"Thomas Eakins\", \"Eyvind Earle\", \"Jeff Easley\", \"Tyler Edlin\", \"Jason Edmiston\", \"Les Edwards\", \"Bob Eggleton\", \"Jesper Ejsing\", \"El Greco\", \"Olafur Eliasson\", \"Harold Elliott\", \"Dean Ellis\", \"Larry Elmore\", \"Peter Elson\", \"Ed Emshwiller\", \"Kilian Eng\", \"James Ensor\", \"Max Ernst\", \"Elliott Erwitt\", \"M.C. Escher\", \"Richard Eurich\", \"Glen Fabry\", \"Anton Fadeev\", \"Shepard Fairey\", \"John Philip Falter\", \"Lyonel Feininger\", \"Joe Fenton\", \"Agustín Fernández\", \"Roberto Ferri\", \"Hugh Ferriss\", \"David Finch\", \"Virgil Finlay\", \"Howard Finster\", \"Anton Otto Fischer\", \"Paul Gustav Fischer\", \"Paul Gustave Fischer\", \"Art Fitzpatrick\", \"Dan Flavin\", \"Kaja Foglio\", \"Phil Foglio\", \"Chris Foss\", \"Hal Foster\", \"Jean-Honoré Fragonard\", \"Victoria Francés\", \"Lisa Frank\", \"Frank Frazetta\", \"Kelly Freas\", \"Lucian Freud\", \"Caspar David Friedrich\", \"Brian Froud\", \"Wendy Froud\", \"Ernst Fuchs\", \"Goro Fujita\", \"Henry Fuseli\", \"Thomas Gainsborough\", \"Emile Galle\", \"Stephen Gammell\", \"Hope Gangloff\", \"Antoni Gaudi\", \"Antoni Gaudí\", \"Jack Gaughan\", \"Paul Gauguin\", \"Giovanni Battista Gaulli\", \"Nikolai Ge\", \"Emma Geary\", \"Anne Geddes\", \"Jeremy Geddes\", \"Artemisia Gentileschi\", \"Justin Gerard\", \"Jean-Leon Gerome\", \"Jean-Léon Gérôme\", \"Atey Ghailan\", \"Alberto Giacometti\", \"Donato Giancola\", \"Dave Gibbons\", \"H. R. Giger\", \"James Gilleard\", \"Jean Giraud\", \"Milton Glaser\", \"Warwick Goble\", \"Andy Goldsworthy\", \"Hendrick Goltzius\", \"Natalia Goncharova\", \"Rob Gonsalves\", \"Josan Gonzalez\", \"Edward Gorey\", \"Arshile Gorky\", \"Francisco Goya\", \"J. J. Grandville\", \"Jane Graverol\", \"Mab Graves\", \"Laurie Greasley\", \"Kate Greenaway\", \"Alex Grey\", \"Peter Gric\", \"Carne Griffiths\", \"John Atkinson Grimshaw\", \"Henriette Grindat\", \"Matt Groening\", \"William Gropper\", \"George Grosz\", \"Matthias Grünewald\", \"Rebecca Guay\", \"James Gurney\", \"Philip Guston\", \"Sir James Guthrie\", \"Zaha Hadid\", \"Ernst Haeckel\", \"Sydney Prior Hall\", \"Asaf Hanuka\", \"Tomer Hanuka\", \"David A. Hardy\", \"Keith Haring\", \"John Harris\", \"Lawren Harris\", \"Marsden Hartley\", \"Ryohei Hase\", \"Jacob Hashimoto\", \"Martin Johnson Heade\", \"Erich Heckel\", \"Michael Heizer\", \"Steve Henderson\", \"Patrick Heron\", \"Ryan Hewett\", \"Jamie Hewlett\", \"Brothers Hildebrandt\", \"Greg Hildebrandt\", \"Tim Hildebrandt\", \"Miho Hirano\", \"Adolf Hitler\", \"Hannah Hoch\", \"David Hockney\", \"Filip Hodas\", \"Howard Hodgkin\", \"Ferdinand Hodler\", \"William Hogarth\", \"Katsushika Hokusai\", \"Carl Holsoe\", \"Winslow Homer\", \"Edward Hopper\", \"Aaron Horkey\", \"Kati Horna\", \"Ralph Horsley\", \"John Howe\", \"John Hoyland\", \"Arthur Hughes\", \"Edward Robert Hughes\", \"Friedensreich Regentag Dunkelbunt Hundertwasser\", \"Hundertwasser\", \"William Henry Hunt\", \"Louis Icart\", \"Ismail Inceoglu\", \"Bjarke Ingels\", \"George Inness\", \"Shotaro Ishinomori\", \"Junji Ito\", \"Johannes Itten\", \"Ub Iwerks\", \"Alexander Jansson\", \"Jarosław Jaśnikowski\", \"James Jean\", \"Ruan Jia\", \"Martine Johanna\", \"Richard S. Johnson\", \"Jeffrey Catherine Jones\", \"Peter Andrew Jones\", \"Kim Jung Gi\", \"Joe Jusko\", \"Frida Kahlo\", \"M.W. Kaluta\", \"Wassily Kandinsky\", \"Terada Katsuya\", \"Audrey Kawasaki\", \"Hasui Kawase\", \"Zhang Kechun\", \"Felix Kelly\", \"John Frederick Kensett\", \"Rockwell Kent\", \"Hendrik Kerstens\", \"Brian Kesinger\", \"Jeremiah Ketner\", \"Adonna Khare\", \"Kitty Lange Kielland\", \"Thomas Kinkade\", \"Jack Kirby\", \"Ernst Ludwig Kirchner\", \"Tatsuro Kiuchi\", \"Mati Klarwein\", \"Jon Klassen\", \"Paul Klee\", \"Yves Klein\", \"Heinrich Kley\", \"Gustav Klimt\", \"Daniel Ridgway Knight\", \"Nick Knight\", \"Daniel Ridgway Knights\", \"Ayami Kojima\", \"Oskar Kokoschka\", \"Käthe Kollwitz\", \"Satoshi Kon\", \"Jeff Koons\", \"Konstantin Korovin\", \"Leon Kossoff\", \"Hugh Kretschmer\", \"Barbara Kruger\", \"Alfred Kubin\", \"Arkhyp Kuindzhi\", \"Kengo Kuma\", \"Yasuo Kuniyoshi\", \"Yayoi Kusama\", \"Ilya Kuvshinov\", \"Chris LaBrooy\", \"Raphael Lacoste\", \"Wilfredo Lam\", \"Mikhail Larionov\", \"Abigail Larson\", \"Jeffrey T. Larson\", \"Carl Larsson\", \"Dorothy Lathrop\", \"John Lavery\", \"Edward Lear\", \"André Leblanc\", \"Bastien Lecouffe-Deharme\", \"Alan Lee\", \"Jim Lee\", \"Heinrich Lefler\", \"Paul Lehr\", \"Edmund Leighton\", \"Frederick Lord Leighton\", \"Jeff Lemire\", \"Isaac Levitan\", \"J.C. Leyendecker\", \"Roy Lichtenstein\", \"Rob Liefeld\", \"Malcolm Liepke\", \"Jeremy Lipking\", \"Filippino Lippi\", \"Laurie Lipton\", \"Michal Lisowski\", \"Scott Listfield\", \"Cory Loftis\", \"Travis Louie\", \"George Luks\", \"Dora Maar\", \"August Macke\", \"Margaret Macdonald Mackintosh\", \"Clive Madgwick\", \"Lee Madgwick\", \"Rene Magritte\", \"Don Maitz\", \"Kazimir Malevich\", \"Édouard Manet\", \"Jeremy Mann\", \"Sally Mann\", \"Franz Marc\", \"Chris Mars\", \"Otto Marseus van Schrieck\", \"John Martin\", \"Masaaki Masamoto\", \"André Masson\", \"Henri Matisse\", \"Leiji Matsumoto\", \"Taiyō Matsumoto\", \"Roberto Matta\", \"Rodney Matthews\", \"David B. Mattingly\", \"Peter Max\", \"Marco Mazzoni\", \"Robert McCall\", \"Todd McFarlane\", \"Ryan McGinley\", \"Dave McKean\", \"Kelly McKernan\", \"Angus McKie\", \"Ralph McQuarrie\", \"Ian McQue\", \"Syd Mead\", \"Józef Mehoffer\", \"Eddie Mendoza\", \"Adolph Menzel\", \"Maria Sibylla Merian\", \"Daniel Merriam\", \"Jean Metzinger\", \"Michelangelo\", \"Mike Mignola\", \"Frank Miller\", \"Ian Miller\", \"Russ Mills\", \"Victor Adame Minguez\", \"Joan Miro\", \"Kentaro Miura\", \"Paula Modersohn-Becker\", \"Amedeo Modigliani\", \"Moebius\", \"Peter Mohrbacher\", \"Piet Mondrian\", \"Claude Monet\", \"Jean-Baptiste Monge\", \"Kent Monkman\", \"Alyssa Monks\", \"Sailor Moon\", \"Chris Moore\", \"Gustave Moreau\", \"William Morris\", \"Igor Morski\", \"John Kenn Mortensen\", \"Victor Moscoso\", \"Grandma Moses\", \"Robert Motherwell\", \"Alphonse Mucha\", \"Craig Mullins\", \"Augustus Edwin Mulready\", \"Dan Mumford\", \"Edvard Munch\", \"Gabriele Münter\", \"Gerhard Munthe\", \"Takashi Murakami\", \"Patrice Murciano\", \"Go Nagai\", \"Hiroshi Nagai\", \"Tibor Nagy\", \"Ted Nasmith\", \"Alice Neel\", \"Odd Nerdrum\", \"Mikhail Nesterov\", \"C. R. W. Nevinson\", \"Helmut Newton\", \"Victo Ngai\", \n",
        "           \"Dustin Nguyen\", \"Kay Nielsen\", \"Tsutomu Nihei\", \"Yasushi Nirasawa\", \"Sidney Nolan\", \"Emil Nolde\", \"Sven Nordqvist\", \"Earl Norem\", \"Marianne North\", \"Georgia O'Keeffe\", \"Terry Oakes\", \"Takeshi Obata\", \"Eiichiro Oda\", \"Koson Ohara\", \"Noriyoshi Ohrai\", \"Marek Okon\", \"Méret Oppenheim\", \"Katsuhiro Otomo\", \"Shohei Otomo\", \"Siya Oum\", \"Ida Rentoul Outhwaite\", \"James Paick\", \"David Palumbo\", \"Michael Parkes\", \"Keith Parkinson\", \"Maxfield Parrish\", \"Alfred Parsons\", \"Max Pechstein\", \"Agnes Lawrence Pelton\", \"Bruce Pennington\", \"John Perceval\", \"Gaetano Pesce\", \"Coles Phillips\", \"Francis Picabia\", \"Pablo Picasso\", \"Mauro Picenardi\", \"Anton Pieck\", \"Bonnard Pierre\", \"Yuri Ivanovich Pimenov\", \"Robert Antoine Pinchon\", \"Giovanni Battista Piranesi\", \"Camille Pissarro\", \"Patricia Polacco\", \"Jackson Pollock\", \"Lyubov Popova\", \"Candido Portinari\", \"Beatrix Potter\", \"Beatrix Potter\", \"Gediminas Pranckevicius\", \"Dod Procter\", \"Howard Pyle\", \"Arthur Rackham\", \"Alice Rahon\", \"Paul Ranson\", \"Raphael\", \"Robert Rauschenberg\", \"Man Ray\", \"Odilon Redon\", \"Pierre-Auguste Renoir\", \"Ilya Repin\", \"RHADS\", \"Gerhard Richter\", \"Diego Rivera\", \"Hubert Robert\", \"Andrew Robinson\", \"Charles Robinson\", \"W. Heath Robinson\", \"Andreas Rocha\", \"Norman Rockwell\", \"Nicholas Roerich\", \"Conrad Roset\", \"Bob Ross\", \"Jessica Rossier\", \"Ed Roth\", \"Mark Rothko\", \"Georges Rouault\", \"Henri Rousseau\", \"Luis Royo\", \"Jakub Rozalski\", \"Joao Ruas\", \"Peter Paul Rubens\", \"Mark Ryden\", \"Jan Pietersz Saenredam\", \"Pieter Jansz Saenredam\", \"Kay Sage\", \"Apollonia Saintclair\", \"John Singer Sargent\", \"Martiros Saryan\", \"Masaaki Sasamoto\", \"Thomas W Schaller\", \"Miriam Schapiro\", \"Yohann Schepacz\", \"Egon Schiele\", \"Karl Schmidt-Rottluff\", \"Charles Schulz\", \"Charles Schulz\", \"Carlos Schwabe\", \"Sean Scully\", \"Franz Sedlacek\", \"Maurice Sendak\", \"Zinaida Serebriakova\", \"Georges Seurat\", \"Ben Shahn\", \"Barclay Shaw\", \"E. H. Shepard\", \"Cindy Sherman\", \"Makoto Shinkai\", \"Yoji Shinkawa\", \"Chiharu Shiota\", \"Masamune Shirow\", \"Ivan Shishkin\", \"Bill Sienkiewicz\", \"Greg Simkins\", \"Marc Simonetti\", \"Kevin Sloan\", \"Adrian Smith\", \"Douglas Smith\", \"Jeffrey Smith\", \"Pamela Coleman Smith\", \"Zack Snyder\", \"Simeon Solomon\", \"Joaquín Sorolla\", \"Ettore Sottsass\", \"Chaïm Soutine\", \"Austin Osman Spare\", \"Sparth \", \"Art Spiegelman\", \"Simon Stalenhag\", \"Ralph Steadman\", \"William Steig\", \"Joseph Stella\", \"Irma Stern\", \"Anne Stokes\", \"James Stokoe\", \"William Stout\", \"George Stubbs\", \"Tatiana Suarez\", \"Ken Sugimori\", \"Hiroshi Sugimoto\", \"Brian Sum\", \"Matti Suuronen\", \"Raymond Swanland\", \"Naoko Takeuchi\", \"Rufino Tamayo\", \"Shaun Tan\", \"Yves Tanguay\", \"Henry Ossawa Tanner\", \"Dorothea Tanning\", \"Ben Templesmith\", \"theCHAMBA\", \"Tom Thomson\", \"Storm Thorgerson\", \"Bridget Bate Tichenor\", \"Louis Comfort Tiffany\", \"Tintoretto\", \"James Tissot\", \"Titian\", \"Akira Toriyama\", \"Ross Tran\", \"Clovis Trouille\", \"J.M.W. Turner\", \"James Turrell\", \"Daniela Uhlig\", \"Boris Vallejo\", \"Gustave Van de Woestijne\", \"Frits Van den Berghe\", \"Anthony van Dyck\", \"Jan van Eyck\", \"Vincent Van Gogh\", \"Willem van Haecht\", \"Rembrandt van Rijn\", \"Jacob van Ruisdael\", \"Salomon van Ruysdael\", \"Theo van Rysselberghe\", \"Remedios Varo\", \"Viktor Vasnetsov\", \"Kuno Veeber\", \"Diego Velázquez\", \"Giovanni Battista Venanzi\", \"Johannes Vermeer\", \"Alexej von Jawlensky\", \"Marianne von Werefkin\", \"Hendrick Cornelisz Vroom\", \"Mikhail Vrubel\", \"Louis Wain\", \"Ron Walotsky\", \"Andy Warhol\", \"John William Waterhouse\", \"Jean-Antoine Watteau\", \"George Frederic Watts\", \"Max Weber\", \"Gerda Wegener\", \"Edward Weston\", \"Michael Whelan\", \"James Abbott McNeill Whistler\", \"Tim White\", \"Coby Whitmore\", \"John Wilhelm\", \"Robert Williams\", \"Al Williamson\", \"Carel Willink\", \"Mike Winkelmann\", \"Franz Xaver Winterhalter\", \"Klaus Wittmann\", \"Liam Wong\", \"Paul Wonner\", \"Ashley Wood\", \"Grant Wood\", \"Patrick Woodroffe\", \"Frank Lloyd Wright\", \"Bernie Wrightson\", \"Andrew Wyeth\", \"Qian Xuan\", \"Takato Yamamoto\", \"Liu Ye\", \"Jacek Yerka\", \"Akihiko Yoshida\", \"Hiroshi Yoshida\", \"Skottie Young\", \"Konstantin Yuon\", \"Yuumei\", \"Amir Zand\", \"Fenghua Zhong\", \"Nele Zirnite\", \"Anders Zorn\") \n",
        "styles = ( \"1970s era\", \"2001: A Space Odyssey\", \"60s kitsch and psychedelia\", \"Aaahh!!! Real Monsters\", \"abstract illusionism\", \"afrofuturism\", \"alabaster\", \"alhambresque\", \"ambrotype\", \"american romanticism\", \"amethyst\", \"amigurumi\", \"anaglyph effect\", \"anaglyph filter\", \"Ancient Egyptian\", \"ancient Greek architecture\", \"anime\", \"art nouveau\", \"astrophotography\", \"at dawn\", \"at dusk\", \"at high noon\", \"at night\", \"atompunk\", \"aureolin\", \"avant-garde\", \"Avatar The Last Airbender\", \"Babylonian\", \"Baker-Miller pink\", \"Baroque\", \"Bauhaus\", \"biopunk\", \"bismuth\", \"Blade Runner 2049\", \"blueprint\", \"bokeh\", \"bonsai\", \"bright\", \"bronze\", \"brutalism\", \"burgundy\", \"Byzantine\", \"calotype\", \"Cambrian\", \"camcorder effect\", \"carmine\", \"cassette futurism\", \"cassettepunk\", \"catholicpunk\", \"cerulean\", \"chalk art\", \"chartreuse\", \"chiaroscuro\", \"chillwave\", \"chromatic aberration\", \"chrome\", \"Cirque du Soleil\", \"claymation\", \"clockpunk\", \"cloudpunk\", \"cobalt\", \"colored pencil art\", \"Concept Art World\", \"copper patina\", \"copper verdigris\", \"Coraline\", \"cosmic horror\", \"cottagecore\", \"crayon art\", \"crimson\", \"CryEngine\", \"crystalline lattice\", \"cubic zirconia\", \"cubism\", \"cyanotype\", \"cyber noir\", \"cyberpunk\", \"cyclopean masonry\", \"daguerreotype\", \"Danny Phantom\", \"dark academia\", \"dark pastel\", \"dark rainbow\", \"DayGlo\", \"decopunk\", \"Dexter's Lab\", \"diamond\", \"dieselpunk\", \"Digimon\", \"digital art\", \"doge\", \"dollpunk\", \"Doom engine\", \"Dreamworks\", \"dutch golden age\", \"Egyptian\", \"eldritch\", \"emerald\", \"empyrean\", \"Eraserhead\", \"ethereal\", \"expressionism\", \"Fantastic Planet\", \"Fendi\", \"figurativism\", \"fire\", \"fisheye lens\", \"fluorescent\", \"forestpunk\", \"fractal manifold\", \"fractalism\", \"fresco\", \"fuchsia\", \"futuresynth\", \"Game of Thrones\", \"german romanticism\", \"glitch art\", \"glittering\", \"golden\", \"golden hour\", \"gothic\", \"gothic art\", \"graffiti\", \"graphite\", \"grim dark\", \"Harry Potter\", \"holography\", \"Howl’s Moving Castle\", \"hygge\", \"hyperrealism\", \"icy\", \"ikebana\", \"impressionism\", \"in Ancient Egypt\", \"in Egypt\", \"in Italy\", \"in Japan\", \"in the Central African Republic\", \"in the desert\", \"in the jungle\", \"in the swamp\", \"in the tundra\", \"incandescent\", \"indigo\", \"infrared\", \"Interstellar\", \"inverted colors\", \"iridescent\", \"iron\", \"islandpunk\", \"isotype\", \"Kai Fine Art\", \"khaki\", \"kokedama\", \"Korean folk art\", \"lapis lazuli\", \"Lawrence of Arabia\", \"leather\", \"leopard print\", \"lilac\", \"liminal space\", \"long exposure\", \"Lord of the Rings\", \"Louis Vuitton\", \"Lovecraftian\", \"low poly\", \"mac and cheese\", \"macro lens\", \"magenta\", \"magic realism\", \"manga\", \"mariachi\", \"marimekko\", \"maroon\", \"Medieval\", \"Mediterranean\", \"modernism\", \"Monster Rancher\", \"moonstone\", \"Moulin Rouge!\", \"multiple exposure\", \"Myst\", \"nacreous\", \"narrative realism\", \"naturalism\", \"neon\", \"Nosferatu\", \"obsidian\", \"oil and canvas\", \"opalescent\", \"optical illusion\", \"optical art\", \"organometallics\", \"ossuary\", \"outrun\", \"Paleolithic\", \"Pan's Labyrinth\", \"pastel\", \"patina\", \"pearlescent\", \"pewter\", \"Pixar\", \"Play-Doh\", \"pointillism\", \"Pokemon\", \"polaroid\", \"porcelain\", \"positivism\", \"postcyberpunk\", \"Pride & Prejudice\", \"prismatic\", \"pyroclastic flow\", \"Quake engine\", \"quartz\", \"rainbow\", \"reflective\", \"Renaissance\", \"retrowave\", \"Rococo\", \"rococopunk\", \"ruby\", \"rusty\", \"Salad Fingers\", \"sapphire\", \"scarlet\", \"shimmering\", \"silk\", \"sketched\", \"Slenderman\", \"smoke\", \"snakeskin\", \"Spaceghost Coast to Coast\", \"stained glass\", \"Star Wars\", \"steampunk\", \"steel\", \"steelpunk\", \"still life\", \"stonepunk\", \"Stranger Things\", \"street art\", \"stuckism\", \"Studio Ghibli\", \"Sumerian\", \"surrealism\", \"symbolism\", \"synthwave\", \"telephoto lens\", \"thalassophobia\", \"thangka\", \"the matrix\", \"tiger print\", \"tilt-shift\", \"tintype\", \"tonalism\", \"Toonami\", \"turquoise\", \"Ukiyo-e\", \"ultramarine\", \"ultraviolet\", \"umber\", \"underwater photography\", \"Unreal Engine\", \"vantablack\", \"vaporwave\", \"verdigris\", \"Versacci\", \"viridian\", \"wabi-sabi\", \"watercolor painting\", \"wooden\", \"x-ray photography\", \"minimalist\", \"dadaist\", \"neo-expressionist\", \"post-impressionist\", \"hyper real\", \"Art brut\", \"3D rendering\", \"uncanny valley\", \"fractal landscape\", \"fractal flames\", \"Mandelbulb\", \"inception dream\", \"waking life\", \"occult inscriptions\", \"barr relief\", \"marble sculpture\", \"wood carving\", \"church stained glass\", \"Japanese jade\", \"Zoetrope\", \"beautiful\", \"wide-angle\", \"Digital Painting\", \"glossy reflections\", \"cinematic\", \"spooky\", \"Digital paint concept art\", \"dramatic\", \"global illumination\", \"immaculate\", \"woods\", ) \n",
        "\n",
        "\n",
        "def generate_prompt():\n",
        "  global art_Subjects, by_Artists, art_Styles\n",
        "  nsSubjects = nsp_parse(art_Subjects)\n",
        "  nsArtists = nsp_parse(by_Artists)\n",
        "  nsStyles = nsp_parse(art_Styles)\n",
        "  prompt = []\n",
        "  random_artist=[]\n",
        "  if nsArtists: random_artist.append(nsArtists)\n",
        "  for a in range(random_artists):\n",
        "    random_artist.append(random.choice(artists))\n",
        "  artist = \" and \".join([\", \".join(random_artist[:-1]),random_artist[-1]] if len(random_artist) > 2 else random_artist)\n",
        "  #artist = random.choice(artists) + \" and \" + random.choice(artists)\n",
        "  random_style = []\n",
        "  if art_Styles: random_style.append(nsStyles)\n",
        "  for s in range(random_styles):\n",
        "    random_style.append(random.choice(styles))\n",
        "  style = \", \".join(random_style)\n",
        "  if art_Subjects: prompt.append(nsSubjects + \":\" + str(weight_Subject))\n",
        "  if len(artist) > 0: prompt.append(f\"by {artist}:{weight_Artists}\")\n",
        "  if len(style) > 0: prompt.append(f\"style of {style}:{weight_Styles}\")\n",
        "  if mod_Custom and mod_Custom.strip(): prompt.append(mod_Custom)\n",
        "  negatives = []\n",
        "  if mod_noText: negatives.append(\"text, signature, signatures\")\n",
        "  if mod_noBlur: negatives.append(\"blur, blurry, depth of field, dof, bokeh\")\n",
        "  if mod_noArtifacts: negatives.append(\"watermark, jpeg artifacts, specular highlights, noise, pixilation, low quality\")\n",
        "  if mod_noDeformed: negatives.append(\"deformed, non realistic, unrealistic\")\n",
        "  if len(negatives) > 0: prompt.append(\", \".join(negatives) + f\":{weight_NegativeMods}\")\n",
        "  if mod_Artstation: prompt.append(f\"featured on ArtStation, trending on ArtStation, cgsociety, trending on 500px, deviantart:{weight_PositiveMods}\")\n",
        "  if mod_Photorealistic: prompt.append(f\"photorealistic, 4k, 8k, realistic, realism:{weight_PositiveMods}\")\n",
        "  if mod_Detailed: prompt.append(f\"highly detailed, intricate, ultrafine detail, micro details:{weight_PositiveMods}\")\n",
        "  if mod_3DRendered: prompt.append(f\"Unreal engine, Unity 3D, ray tracing, Octane render, CGI:{weight_PositiveMods}\")\n",
        "  if mod_Lighting: prompt.append(f\"volumetric lighting, in the golden hour, dynamic lighting, dramatic lighting:{weight_PositiveMods}\")\n",
        "  if mod_WideAngle: prompt.append(f\"ultra wide angle, wide-angle, ultrawide:{weight_PositiveMods}\")\n",
        "  if mod_Custom2 and mod_Custom2.strip(): prompt.append(mod_Custom2)\n",
        "  return prompt\n",
        "new_prompt = generate_prompt()\n",
        "text_prompt = '[\"' + '\", \"'.join(new_prompt) + '\"],'\n",
        "simple_prompt = new_prompt[0].rpartition(':')[0] + ' ' + new_prompt[1].rpartition(':')[0] + ', ' + new_prompt[2].rpartition(':')[0]\n",
        "print(text_prompt)\n",
        "#print('\\n' + simple_prompt)"
      ],
      "metadata": {
        "cellView": "form",
        "id": "uoxYek-mqbPw",
        "colab": {
          "base_uri": "https://localhost:8080/"
        },
        "outputId": "0b5efe85-d0ae-4532-d6e8-590d0293652c"
      },
      "id": "uoxYek-mqbPw",
      "execution_count": null,
      "outputs": [
        {
          "output_type": "stream",
          "name": "stdout",
          "text": [
            "[\"A Tourmaline alcohol that is glamourous and flawed with a Surprised Contempt:3\", \"by Eva Å vankmajerovÃ¡,Michal Lisowski and Akira Toriyama:2\", \"style of in the Style of Charcoals, dieselpunk, clockpunk:1.5\", \"text, signature, signatures, blur, blurry, depth of field, dof, bokeh, watermark, jpeg artifacts, specular highlights, noise, pixilation, low quality:-2\", \"featured on ArtStation, trending on ArtStation, cgsociety, trending on 500px, deviantart:1\", \"highly detailed, intricate, ultrafine detail, micro details:1\"],\n"
          ]
        }
      ]
    },
    {
      "cell_type": "code",
      "source": [
        "#!pip install pandas\n",
        "#import pandas as pd\n",
        "#@title ## **Generate Prompt List** (copy/paste/edit)\n",
        "amount = 10 #@param {type:\"integer\"}\n",
        "list_mode = 'Animation' #@param ['Animation', 'Images', 'Disco Image List', 'Stable Diffusion', 'Simple Text']\n",
        "if list_mode == 'Animation':\n",
        "  frames_between = 40 #@param {type:\"integer\"}\n",
        "output = \"\"\n",
        "prompt_list = []\n",
        "for p in range(amount):\n",
        "  prompt_list.append(generate_prompt())\n",
        "if list_mode == 'Animation':\n",
        "  text_prompts = {}\n",
        "  frame = 0\n",
        "  output += 'text_prompts = {\\n'\n",
        "  for pr in prompt_list:\n",
        "    text_prompts[frame] = pr\n",
        "    output += f'  {frame}: [\"' + '\", \"'.join(pr) + '\"],\\n'\n",
        "    frame += frames_between\n",
        "  output += '}\\n'\n",
        "if list_mode == 'Images':\n",
        "  output += 'prompts = [\\n'\n",
        "  for pr in prompt_list:\n",
        "    #text_prompts[frame] = pr\n",
        "    output += f'  [\"' + '\", \"'.join(pr) + '\"],\\n'\n",
        "  output += ']'\n",
        "if list_mode == 'Disco Image List':\n",
        "  output += 'prompts = [\\n'\n",
        "  for pr in prompt_list:\n",
        "    #text_prompts[frame] = pr\n",
        "    output += f'  Disco([\"' + '\", \"'.join(pr) + '\"], {}),\\n'\n",
        "  output += ']'\n",
        "def trim_weight(s):\n",
        "    return s.rpartition(':')[0] if ':' in s else s\n",
        "if list_mode == 'Simple Text':\n",
        "  for pr in prompt_list:\n",
        "    output += trim_weight(pr[0]) + ' ' + trim_weight(pr[1]) + (', ' + trim_weight(pr[2]) if len(pr) > 2 else '') + '\\n'\n",
        "if list_mode == 'Stable Diffusion':\n",
        "  stable_options = '-H 640 -W 1024 -n 4 -g'\n",
        "  for pr in prompt_list:\n",
        "    output += '!dream \"' + trim_weight(pr[0]) + ' ' + trim_weight(pr[1]) + (', ' + trim_weight(pr[2]) if len(pr) > 2 else '') + f'\" {stable_options}' + '\\n'\n",
        "print(output)\n",
        "#pd.DataFrame([output]).to_clipboard(index=False,header=False,line_terminator='')"
      ],
      "metadata": {
        "cellView": "form",
        "id": "v2tznGXHHceV",
        "colab": {
          "base_uri": "https://localhost:8080/"
        },
        "outputId": "cefb3369-02f6-4bf8-e576-111c414a46b5"
      },
      "id": "v2tznGXHHceV",
      "execution_count": null,
      "outputs": [
        {
          "output_type": "stream",
          "name": "stdout",
          "text": [
            "text_prompts = {\n",
            "  0: [\"A Amaranth purple satisfaction that is attractive and vital with a Hopeful Mystic:3\", \"by Pieter Aertsen,Coby Whitmore and Greg Hildebrandt:2\", \"style of in the Style of 3D Sculpting, atompunk, Ukiyo-e:1.5\", \"text, signature, signatures, blur, blurry, depth of field, dof, bokeh, watermark, jpeg artifacts, specular highlights, noise, pixilation, low quality:-2\", \"featured on ArtStation, trending on ArtStation, cgsociety, trending on 500px, deviantart:1\", \"highly detailed, intricate, ultrafine detail, micro details:1\"],\n",
            "  40: [\"A French lilac flight that is prettyish and elementary with a Bashful Scroll:3\", \"by John Currin,Giovanni Battista Piranesi and Marco Mazzoni:2\", \"style of in the Style of Matte Paintings, dark rainbow, inception dream:1.5\", \"text, signature, signatures, blur, blurry, depth of field, dof, bokeh, watermark, jpeg artifacts, specular highlights, noise, pixilation, low quality:-2\", \"featured on ArtStation, trending on ArtStation, cgsociety, trending on 500px, deviantart:1\", \"highly detailed, intricate, ultrafine detail, micro details:1\"],\n",
            "  80: [\"A MSU green feel that is glamorous and fluffy with a Sick Magic Spell:3\", \"by Konstantin Yuon,Klaus Wittmann and Mark Rothko:2\", \"style of in the Style of 2D Animation, chartreuse, in the tundra:1.5\", \"text, signature, signatures, blur, blurry, depth of field, dof, bokeh, watermark, jpeg artifacts, specular highlights, noise, pixilation, low quality:-2\", \"featured on ArtStation, trending on ArtStation, cgsociety, trending on 500px, deviantart:1\", \"highly detailed, intricate, ultrafine detail, micro details:1\"],\n",
            "  120: [\"A Rose bonbon weight that is glossy and blond with a Disgusted Castle Gate:3\", \"by Ellen von Unwerth,Grandma Moses and Gustave Van de Woestijne:2\", \"style of in the Style of Charcoals, glittering, snakeskin:1.5\", \"text, signature, signatures, blur, blurry, depth of field, dof, bokeh, watermark, jpeg artifacts, specular highlights, noise, pixilation, low quality:-2\", \"featured on ArtStation, trending on ArtStation, cgsociety, trending on 500px, deviantart:1\", \"highly detailed, intricate, ultrafine detail, micro details:1\"],\n",
            "  160: [\"A Chartreuse (web) delay that is delightful and grown with a Interested Sixth Sense:3\", \"by Stephan Martiniere,George Grosz and Jim Burns:2\", \"style of in the Style of Digital Collage, stuckism, Ukiyo-e:1.5\", \"text, signature, signatures, blur, blurry, depth of field, dof, bokeh, watermark, jpeg artifacts, specular highlights, noise, pixilation, low quality:-2\", \"featured on ArtStation, trending on ArtStation, cgsociety, trending on 500px, deviantart:1\", \"highly detailed, intricate, ultrafine detail, micro details:1\"],\n",
            "  200: [\"A Rich black (FOGRA39) fuel that is sublime and giving with a Hopeful Moonbeam:3\", \"by Raphaelle Peale,Ivan Shishkin and Gabriele Münter:2\", \"style of in the Style of Tempera, Cirque du Soleil, tilt-shift:1.5\", \"text, signature, signatures, blur, blurry, depth of field, dof, bokeh, watermark, jpeg artifacts, specular highlights, noise, pixilation, low quality:-2\", \"featured on ArtStation, trending on ArtStation, cgsociety, trending on 500px, deviantart:1\", \"highly detailed, intricate, ultrafine detail, micro details:1\"],\n",
            "  240: [\"A Pistachio affect that is splendid and excitable with a Scared Defender:3\", \"by Mike Winkelmann (Beeple),Willem van Haecht and Steve Dillon:2\", \"style of in the Style of Pixel Art #pixelart, global illumination, catholicpunk:1.5\", \"text, signature, signatures, blur, blurry, depth of field, dof, bokeh, watermark, jpeg artifacts, specular highlights, noise, pixilation, low quality:-2\", \"featured on ArtStation, trending on ArtStation, cgsociety, trending on 500px, deviantart:1\", \"highly detailed, intricate, ultrafine detail, micro details:1\"],\n",
            "  280: [\"A Schauss pink door that is personable and descriptive with a Shocked Ground:3\", \"by MÃ©ret Oppenheim,Giuseppe Arcimboldo and Les Edwards:2\", \"style of in the Style of Digital Collage, uncanny valley, narrative realism:1.5\", \"text, signature, signatures, blur, blurry, depth of field, dof, bokeh, watermark, jpeg artifacts, specular highlights, noise, pixilation, low quality:-2\", \"featured on ArtStation, trending on ArtStation, cgsociety, trending on 500px, deviantart:1\", \"highly detailed, intricate, ultrafine detail, micro details:1\"],\n",
            "  320: [\"A White god that is pretty and bite-sized with a Shocked Warrior:3\", \"by Alex Howitt,Arshile Gorky and Johannes Itten:2\", \"style of in the Style of Matte Paintings, atompunk, turquoise:1.5\", \"text, signature, signatures, blur, blurry, depth of field, dof, bokeh, watermark, jpeg artifacts, specular highlights, noise, pixilation, low quality:-2\", \"featured on ArtStation, trending on ArtStation, cgsociety, trending on 500px, deviantart:1\", \"highly detailed, intricate, ultrafine detail, micro details:1\"],\n",
            "  360: [\"A Zomp region that is sublime and polished with a Confident Archer:3\", \"by Didier LourenÃ§o,Edward Robert Hughes and Richard Eurich:2\", \"style of in the Style of 2D Animation, forestpunk, chartreuse:1.5\", \"text, signature, signatures, blur, blurry, depth of field, dof, bokeh, watermark, jpeg artifacts, specular highlights, noise, pixilation, low quality:-2\", \"featured on ArtStation, trending on ArtStation, cgsociety, trending on 500px, deviantart:1\", \"highly detailed, intricate, ultrafine detail, micro details:1\"],\n",
            "}\n",
            "\n"
          ]
        }
      ]
    },
    {
      "cell_type": "markdown",
      "source": [
        "---\n",
        "# Disco Diffusion Advanced Prompt Helpers\n",
        "If you want to experiment using the new prompt format option with prompt scheduling or clip guidance schedules, it starts to get tricky. You can do some incredibly cool stuff, if you know how to format it right..."
      ],
      "metadata": {
        "id": "N-C1jdJMRa1h"
      },
      "id": "N-C1jdJMRa1h"
    },
    {
      "cell_type": "code",
      "source": [
        "import json\n",
        "#@title Convert Prompt List to json standard\n",
        "prompt_list = [\"The Sandman character from graphic novel by Neil Gaiman, with his raven, gothic style, magic dream dust, master of the dreaming realm, Morpheus:3\", \"text, signature, signatures, watermark, jpeg artifacts, specular highlights, noise, pixilation, low quality:-2.5\", \"featured on ArtStation, trending on ArtStation, cgsociety, trending on 500px, deviantart:1\", \"highly detailed, intricate, ultrafine detail, micro details:1\", \"volumetric lighting, dynamic lighting, dramatic lighting:1\"] #@param {type:\"raw\"}\n",
        "indent = True #@param {type:'boolean'}\n",
        "if type(prompt_list) != list:\n",
        "  print(\"Paste your Disco prompt list with the brackets [list] without a comma at the end\\n\")\n",
        "text_prompts = {\n",
        "    'version': '1',\n",
        "}\n",
        "def int_or_float(s):\n",
        "    f = float(s)\n",
        "    i = int(f)\n",
        "    return i if i == f else f\n",
        "prompts = []\n",
        "for p in prompt_list:\n",
        "  prompt_dict = {'text':p.rpartition(':')[0]}\n",
        "  prompt_dict.update({'weight':int_or_float(p.rpartition(':')[2])})\n",
        "  prompts.append(prompt_dict)\n",
        "text_prompts.update({'prompts':prompts})\n",
        "json_string = json.dumps(text_prompts, indent=4 if indent else None)\n",
        "print(str(json_string))"
      ],
      "metadata": {
        "cellView": "form",
        "id": "tG7AYMQLRhns"
      },
      "id": "tG7AYMQLRhns",
      "execution_count": null,
      "outputs": []
    },
    {
      "cell_type": "code",
      "source": [
        "import json\n",
        "#@title Prompt Text Scheduling Helper\n",
        "prompt_phrase = \"ghost spirits haunting\" #@param {type:'string'}\n",
        "weight = 2 #@param {type:'number'}\n",
        "from_start = True #@param {type:'boolean'}\n",
        "percent_in = 20 #@param {type:\"slider\", min:0, max:100, step:10}\n",
        "add_to_converted = True #@param {type:'boolean'}\n",
        "indent = True #@param {type:'boolean'}\n",
        "spellcheck = False\n",
        "\n",
        "schedule_start = percent_in * 10\n",
        "schedule_end = 1000 - schedule_start\n",
        "if add_to_converted:\n",
        "  text_prompts['prompts'].append(\n",
        "          {\n",
        "              'text': prompt_phrase,\n",
        "              'weight': weight,\n",
        "              'schedule': f'[{from_start}]*{schedule_start}+[{not from_start}]*{schedule_end}',\n",
        "          },\n",
        "      )\n",
        "else:\n",
        "  text_prompts = {\n",
        "      'version': '1',\n",
        "      'prompts': [\n",
        "          {\n",
        "              'text': prompt_phrase,\n",
        "              'weight': weight,\n",
        "              'schedule': f'[{from_start}]*{schedule_start}+[{not from_start}]*{schedule_end}',\n",
        "          },\n",
        "      ],\n",
        "  }\n",
        "json_string = json.dumps(text_prompts, indent=4 if indent else None)\n",
        "print(str(json_string))"
      ],
      "metadata": {
        "cellView": "form",
        "id": "yKBVADloRl1Y"
      },
      "id": "yKBVADloRl1Y",
      "execution_count": null,
      "outputs": []
    },
    {
      "cell_type": "code",
      "source": [
        "#@title Prompt Clip Guidance Scheduling Helper\n",
        "prompt_phrase = \"\" #@param {type:'string'}\n",
        "#weight = 3 #@param {type:'number'}\n",
        "clip_schedule_weight = \"[1]*100+[2]*300+[8]*600\"  #@param {type:'string'}\n",
        "clip_guidance_list = ['ViT-L-14::openai'] #@param {type:'raw'}\n",
        "add_to_converted = True #@param {type:'boolean'}\n",
        "indent = True #@param {type:'boolean'}\n",
        " \n",
        "schedule_start = percent_in * 100\n",
        "schedule_end = 1000 - schedule_start\n",
        "if add_to_converted:\n",
        "  text_prompts['prompts'].append(\n",
        "          {\n",
        "              'text': prompt_phrase,\n",
        "              'weight': clip_schedule_weight,\n",
        "              'clip_guidance': clip_guidance_list\n",
        "          },\n",
        "      )\n",
        "else:\n",
        "  text_prompts = {\n",
        "      'version': '1',\n",
        "      'prompts': [\n",
        "          {\n",
        "              'text': prompt_phrase,\n",
        "              'weight': clip_schedule_weight,\n",
        "              'clip_guidance': clip_guidance_list\n",
        "          },\n",
        "      ],\n",
        "  }\n",
        "json_string = json.dumps(text_prompts, indent=4 if indent else None)\n",
        "print(str(json_string))"
      ],
      "metadata": {
        "cellView": "form",
        "id": "hKv9FVtPR1Ru"
      },
      "id": "hKv9FVtPR1Ru",
      "execution_count": null,
      "outputs": []
    },
    {
      "cell_type": "code",
      "source": [
        "import json\n",
        "#@title Custom Prompt Text Helper\n",
        "prompt_phrase = \"\" #@param {type:'string'}\n",
        "weight = 2 #@param {type:'number'}\n",
        "add_to_converted = True #@param {type:'boolean'}\n",
        "indent = True #@param {type:'boolean'}\n",
        "\n",
        "if add_to_converted:\n",
        "  text_prompts['prompts'].append(\n",
        "          {\n",
        "              'text': prompt_phrase,\n",
        "              'weight': weight,\n",
        "          },\n",
        "      )\n",
        "else:\n",
        "  text_prompts = {\n",
        "      'version': '1',\n",
        "      'prompts': [\n",
        "          {\n",
        "              'text': prompt_phrase,\n",
        "              'weight': weight,\n",
        "          },\n",
        "      ],\n",
        "  }\n",
        "json_string = json.dumps(text_prompts, indent=4 if indent else None)\n",
        "print(str(json_string))"
      ],
      "metadata": {
        "cellView": "form",
        "id": "WYJtpPc6VS8X"
      },
      "id": "WYJtpPc6VS8X",
      "execution_count": null,
      "outputs": []
    },
    {
      "cell_type": "markdown",
      "source": [
        "---\n",
        "# Convert prompts list to Disco Diffusion text_prompts keyframe animation format"
      ],
      "metadata": {
        "id": "mKV8qzXdbIBH"
      },
      "id": "mKV8qzXdbIBH"
    },
    {
      "cell_type": "code",
      "source": [
        "# Paste your list of prompts here to generate spaced out keyframes, and change frames_between to your liking\n",
        "prompts = [\n",
        "      [\"Magical crystals that have the ability to store memories and thoughts, each one a different color and size:3\", \"by Victoria Francés and Angus McKie:2\", \"style of symbolism:1.5\", \"text, signature, signatures:-2\", \"photorealistic, 4k, 8k, realistic, realism:1\", \"highly detailed, intricate, ultrafine detail, micro details:1\", \"Unreal engine, Unity 3D, ray tracing, Octane render, CGI:1\", \"volumetric lighting, dynamic lighting, dramatic lighting:1\"],\n",
        "      [\"Magical crystals that can be used to create powerful spells and potions:3\", \"by Wayne Barlowe and Steve Henderson:2\", \"style of Digital Painting:1.5\", \"text, signature, signatures:-2\", \"photorealistic, 4k, 8k, realistic, realism:1\", \"highly detailed, intricate, ultrafine detail, micro details:1\", \"Unreal engine, Unity 3D, ray tracing, Octane render, CGI:1\", \"volumetric lighting, dynamic lighting, dramatic lighting:1\"],\n",
        "]\n",
        "frames_between = 40\n",
        "\n",
        "frame = 0\n",
        "text_prompts = {}\n",
        "output = 'text_prompts = {\\n'\n",
        "for pr in prompts:\n",
        "  text_prompts[frame] = pr\n",
        "  output += f'  {frame}: [\"' + '\", \"'.join(pr) + '\"],\\n'\n",
        "  frame += frames_between\n",
        "output += '}\\n'\n",
        "print(output)"
      ],
      "metadata": {
        "id": "n6UNz9iPbPpd"
      },
      "id": "n6UNz9iPbPpd",
      "execution_count": null,
      "outputs": []
    }
  ],
  "metadata": {
    "kernelspec": {
      "display_name": "Python 3 (ipykernel)",
      "language": "python",
      "name": "python3"
    },
    "language_info": {
      "codemirror_mode": {
        "name": "ipython",
        "version": 3
      },
      "file_extension": ".py",
      "mimetype": "text/x-python",
      "name": "python",
      "nbconvert_exporter": "python",
      "pygments_lexer": "ipython3",
      "version": "3.7.9"
    },
    "colab": {
      "name": "Structured Prompt Generator.ipynb",
      "provenance": [],
      "collapsed_sections": [],
      "include_colab_link": true
    },
    "gpuClass": "standard"
  },
  "nbformat": 4,
  "nbformat_minor": 5
}