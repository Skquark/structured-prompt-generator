{
  "cells": [
    {
      "cell_type": "markdown",
      "metadata": {
        "id": "view-in-github",
        "colab_type": "text"
      },
      "source": [
        "<a href=\"https://colab.research.google.com/github/Skquark/structured-prompt-generator/blob/main/DiscoArt_%5B_w_Batch_Prompts_%26_GPT_3_Generator%5D.ipynb\" target=\"_parent\"><img src=\"https://colab.research.google.com/assets/colab-badge.svg\" alt=\"Open In Colab\"/></a>"
      ]
    },
    {
      "cell_type": "markdown",
      "id": "ba4a6587",
      "metadata": {
        "pycharm": {
          "name": "#%% md\n"
        },
        "id": "ba4a6587"
      },
      "source": [
        "<img src=\"https://github.com/jina-ai/discoart/blob/main/.github/banner.png?raw=true\" alt=\"Create Disco Diffusion artworks in one-line\">\n",
        "<p align=center>\n",
        "<a href=\"https://pypi.org/project/discoart/\"><img src=\"https://img.shields.io/pypi/v/discoart?style=flat-square&amp;label=Release\" alt=\"PyPI\"></a>\n",
        "<a href=\"https://slack.jina.ai\"><img src=\"https://img.shields.io/badge/Slack-3.1k-blueviolet?logo=slack&amp;logoColor=white&style=flat-square\"></a>\n",
        "<a href=\"https://colab.research.google.com/github/jina-ai/dalle-flow/blob/main/client.ipynb\"><img src=\"https://img.shields.io/badge/Open-in%20Colab-brightgreen?logo=google-colab&style=flat-square\" alt=\"Open in Google Colab\"/></a>\n",
        "</p>\n",
        "\n",
        "😎 **If you are already a DD user**: you are ready to go! There is no extra learning, DiscoArt respects the same parameter semantics as DD5.2. So just unleash your creativity! [Read more about DiscoArt vs. DD5.5](https://github.com/jina-ai/discoart/blob/main/FEATURES.md)\n",
        "\n",
        "You can always do `from discoart import cheatsheet; cheatsheet()` to check all new/modified parameters, DiscoArt specific parameters are highlighted in the cheatsheet. \n",
        "\n",
        "\n",
        "\n",
        "👶 **If you are a [DALL·E Flow](https://github.com/jina-ai/dalle-flow/) or new user**: you may want to take step by step, as Disco Diffusion works in a very different way than DALL·E. It is much more advanced and powerful: e.g. Disco Diffusion can take weighted & structured text prompts; it can initialize from a image with controlled noise; and there are way more parameters one can tweak. Impatient prompt like `\"armchair avocado\"` will give you nothing but confusion and frustration. I highly recommend you to check out the following resources before trying your own prompt:\n",
        "- [Zippy's Disco Diffusion Cheatsheet v0.3](https://docs.google.com/document/d/1l8s7uS2dGqjztYSjPpzlmXLjl5PM3IGkRWI3IiCuK7g/mobilebasic)\n",
        "- [EZ Charts - Diffusion Parameter Studies](https://docs.google.com/document/d/1ORymHm0Te18qKiHnhcdgGp-WSt8ZkLZvow3raiu2DVU/edit#)\n",
        "- [Disco Diffusion 70+ Artist Studies](https://weirdwonderfulai.art/resources/disco-diffusion-70-plus-artist-studies/)\n",
        "- [A Traveler’s Guide to the Latent Space](https://sweet-hall-e72.notion.site/A-Traveler-s-Guide-to-the-Latent-Space-85efba7e5e6a40e5bd3cae980f30235f#e122e748b86e4fc0ad6a7a50e46d6e10)\n",
        "- [Disco Diffusion Illustrated Settings](https://coar.notion.site/Disco-Diffusion-Illustrated-Settings-cd4badf06e08440c99d8a93d4cd39f51)\n",
        "- [Coar’s Disco Diffusion Guide](https://coar.notion.site/coar/Coar-s-Disco-Diffusion-Guide-3d86d652c15d4ca986325e808bde06aa#8a3c6e9e4b6847afa56106eacb6f1f79)\n",
        "\n",
        "# Install"
      ]
    },
    {
      "cell_type": "code",
      "execution_count": null,
      "id": "ca392ef6",
      "metadata": {
        "pycharm": {
          "name": "#%%\n"
        },
        "id": "ca392ef6"
      },
      "outputs": [],
      "source": [
        "!pip install -U discoart"
      ]
    },
    {
      "cell_type": "code",
      "source": [
        "#@title 1.1 Check GPU Status\n",
        "#@markdown A100 > G100 > V100 > P100 > T4 > K8\n",
        "import subprocess\n",
        "simple_nvidia_smi_display = False#@param {type:\"boolean\"}\n",
        "if simple_nvidia_smi_display:\n",
        "    #!nvidia-smi\n",
        "    nvidiasmi_output = subprocess.run(['nvidia-smi', '-L'], stdout=subprocess.PIPE).stdout.decode('utf-8')\n",
        "    print(nvidiasmi_output)\n",
        "else:\n",
        "    #!nvidia-smi -i 0 -e 0\n",
        "    nvidiasmi_output = subprocess.run(['nvidia-smi'], stdout=subprocess.PIPE).stdout.decode('utf-8')\n",
        "    print(nvidiasmi_output)\n",
        "    nvidiasmi_ecc_note = subprocess.run(['nvidia-smi', '-i', '0', '-e', '0'], stdout=subprocess.PIPE).stdout.decode('utf-8')\n",
        "    print(nvidiasmi_ecc_note)"
      ],
      "metadata": {
        "cellView": "form",
        "id": "3qpzfrQDbRSb"
      },
      "id": "3qpzfrQDbRSb",
      "execution_count": null,
      "outputs": []
    },
    {
      "cell_type": "markdown",
      "id": "47428f37",
      "metadata": {
        "pycharm": {
          "name": "#%% md\n"
        },
        "id": "47428f37"
      },
      "source": [
        "\n",
        "---\n",
        "\n",
        "# Create artworks"
      ]
    },
    {
      "cell_type": "code",
      "execution_count": null,
      "id": "78f39415",
      "metadata": {
        "pycharm": {
          "name": "#%%\n"
        },
        "id": "78f39415"
      },
      "outputs": [],
      "source": [
        "from discoart import create\n",
        "\n",
        "da = create()"
      ]
    },
    {
      "cell_type": "markdown",
      "id": "6269fd20",
      "metadata": {
        "pycharm": {
          "name": "#%% md\n"
        },
        "id": "6269fd20"
      },
      "source": [
        "That's it. It is that simple."
      ]
    },
    {
      "cell_type": "markdown",
      "id": "d36983b6",
      "metadata": {
        "pycharm": {
          "name": "#%% md\n"
        },
        "id": "d36983b6"
      },
      "source": [
        "# Specify parameters"
      ]
    },
    {
      "cell_type": "code",
      "execution_count": null,
      "id": "fbf748c5",
      "metadata": {
        "pycharm": {
          "name": "#%%\n"
        },
        "id": "fbf748c5"
      },
      "outputs": [],
      "source": [
        "from discoart import create\n",
        "\n",
        "da = create(text_prompts='A painting of sea cliffs in a tumultuous storm, Trending on ArtStation.',\n",
        "       init_image='https://d2vyhzeko0lke5.cloudfront.net/2f4f6dfa5a05e078469ebe57e77b72f0.png',\n",
        "       skip_steps=100)"
      ]
    },
    {
      "cell_type": "markdown",
      "id": "a6ac122d",
      "metadata": {
        "pycharm": {
          "name": "#%% md\n"
        },
        "id": "a6ac122d"
      },
      "source": [
        "## Check parameter cheatsheet\n",
        "\n",
        "But what parameters can be used in `create()`? just type `cheatsheet()` to lookup anytime:"
      ]
    },
    {
      "cell_type": "code",
      "execution_count": null,
      "id": "2c6c8306",
      "metadata": {
        "pycharm": {
          "name": "#%%\n"
        },
        "id": "2c6c8306"
      },
      "outputs": [],
      "source": [
        "from discoart import cheatsheet\n",
        "\n",
        "cheatsheet()"
      ]
    },
    {
      "cell_type": "markdown",
      "id": "d893ac95",
      "metadata": {
        "pycharm": {
          "name": "#%% md\n"
        },
        "id": "d893ac95"
      },
      "source": [
        "\n",
        "🎉 That's all you need to learn.\n",
        "\n",
        "Of course if you have some extra time, it would be helpful for you to learn the following API of DiscoArt.\n",
        "\n",
        "\n",
        "---\n",
        "\n",
        "## Visualize results\n",
        "\n",
        "\n",
        "Final results and intermediate results are created under the current working directory, e.g.\n",
        "```text\n",
        "./{name-docarray}/{i}-step-{j}.png\n",
        "./{name-docarray}/{i}-progress.png\n",
        "./{name-docarray}/{i}-progress.gif\n",
        "./{name-docarray}/{i}-done.png\n",
        "```\n",
        "\n",
        "![](https://github.com/jina-ai/discoart/blob/main/.github/result-persist.png?raw=1)\n",
        "\n",
        "where:\n",
        "\n",
        "- `name-docarray` is the name of the run, you can specify it otherwise it is a random name.\n",
        "- `i-*` is up to the value of `n_batches`.\n",
        "- `*-done-*` is the final image on done.\n",
        "- `*-step-*` is the intermediate image at certain step.\n",
        "- `*-progress.png` is the sprite image of all intermediate results so far.\n",
        "- `*-progress.gif` is the animated gif of all intermediate results so far.\n",
        "\n",
        "The save frequency is controlled by `save_rate`.\n"
      ]
    },
    {
      "cell_type": "markdown",
      "id": "df5020e4",
      "metadata": {
        "pycharm": {
          "name": "#%% md\n"
        },
        "id": "df5020e4"
      },
      "source": [
        "## Export configs\n",
        "\n",
        "You can review its parameters from `da[0].tags` or export it as an SVG image:"
      ]
    },
    {
      "cell_type": "code",
      "execution_count": null,
      "id": "0a190a7c",
      "metadata": {
        "pycharm": {
          "name": "#%%\n"
        },
        "id": "0a190a7c"
      },
      "outputs": [],
      "source": [
        "from discoart.config import save_config_svg\n",
        "\n",
        "save_config_svg(da, 'my.svg')"
      ]
    },
    {
      "cell_type": "markdown",
      "id": "fe0d4d89",
      "metadata": {
        "pycharm": {
          "name": "#%% md\n"
        },
        "id": "fe0d4d89"
      },
      "source": [
        "## Pull results anywhere anytime\n",
        "\n",
        "At anytime on any machine, you can pull the real-time results (including paramters, intermedidate diffusion steps, final results) with a session ID:\n",
        "\n",
        "> Please replace `discoart-3205998582` to your own when you run the above 2 cells!"
      ]
    },
    {
      "cell_type": "code",
      "execution_count": null,
      "id": "9db8e4e6",
      "metadata": {
        "pycharm": {
          "name": "#%%\n"
        },
        "id": "9db8e4e6"
      },
      "outputs": [],
      "source": [
        "from docarray import DocumentArray\n",
        "\n",
        "da = DocumentArray.pull('discoart-3205998582')"
      ]
    },
    {
      "cell_type": "markdown",
      "id": "9ca59262",
      "metadata": {
        "pycharm": {
          "name": "#%% md\n"
        },
        "id": "9ca59262"
      },
      "source": [
        "## Reuse a Document as initial state\n",
        "\n",
        "Consider a Document as a self-contained data with config and image, one can use it as the initial state for the future run. Its `.tags` will be used as the initial parameters; `.uri` if presented will be used as the initial image."
      ]
    },
    {
      "cell_type": "code",
      "execution_count": null,
      "id": "d29a95b0",
      "metadata": {
        "pycharm": {
          "name": "#%%\n"
        },
        "id": "d29a95b0"
      },
      "outputs": [],
      "source": [
        "from discoart import create\n",
        "from docarray import DocumentArray\n",
        "\n",
        "da = DocumentArray.pull('discoart-3205998582')\n",
        "\n",
        "create(init_document=da[0],\n",
        "       cut_ic_pow=0.5,\n",
        "       tv_scale=600, \n",
        "       cut_overview='[12]*1000', \n",
        "       cut_innercut='[12]*1000', \n",
        "       use_secondary_model=False)"
      ]
    },
    {
      "cell_type": "markdown",
      "source": [
        "\n",
        "\n",
        "---\n",
        "Mods by [Skquark](https://Skquark.com) start here. Can also use https://colab.research.google.com/github/Skquark/structured-prompt-generator/blob/main/Structured_Prompt_Generator.ipynb"
      ],
      "metadata": {
        "id": "YHrgR5wGTPww"
      },
      "id": "YHrgR5wGTPww"
    },
    {
      "cell_type": "markdown",
      "source": [
        "## Run Queue as a Batch list of Prompts, and Upload to GDrive\n",
        "\n"
      ],
      "metadata": {
        "id": "5QH0XylXbZ0k"
      },
      "id": "5QH0XylXbZ0k"
    },
    {
      "cell_type": "code",
      "source": [
        "%%time\n",
        "from discoart import create\n",
        "from google.colab import files\n",
        "from google.colab import drive\n",
        "import os\n",
        "import shutil\n",
        "import string\n",
        "drive.mount('/content/drive')\n",
        "dpath='/content/drive/MyDrive/AI/Disco_Diffusion/DiscoArt'\n",
        "if not os.path.isdir(dpath): os.mkdir(dpath)\n",
        "def format_filename(s):\n",
        "    valid_chars = \"-_.() %s%s\" % (string.ascii_letters, string.digits)\n",
        "    filename = ''.join(c for c in s if c in valid_chars)\n",
        "    filename = filename.replace(' ','_')\n",
        "    return filename[:248]\n",
        "\n",
        "prompts = (\n",
        "  [\"Burning Man festival in flat desert landscape, many people in colorful costumes dancing, rave party everywhere, people riding bikes, mutant vehicle art cars, interesting large sculptures, art camps, large architectural complex structures:2\", \"elevated, modern, modernism:1\", \"light tan colored sand and daytime skies with some clouds:1\", \"fire, smoke, trees, plants:-1\", \"blur, text, signature:-1\"],\n",
        "  [\"Burning Man festival in flat desert landscape, many people in colorful costumes dancing, rave party everywhere, people riding steampunk style bikes, steampunk cars, interesting large steampunk sculptures, art camps, large architectural complex structures:2\", \"by Esao Andrews, Steampunk, steampank, industrial:1\", \"light tan colored sand and daytime skies with some clouds:2\", \"fire, smoke, trees, plants:-1\", \"blur, text, signature:-1\"],\n",
        "  [\"Burning Man festival at night in flat desert landscape, many people in colorful costumes dancing, party everywhere, bon fires, large architectural complex structures:2\", \"realistic, intimate:1\", \"trees, plants:-1\", \"blur, text, signature:-1\"],\n",
        ")\n",
        "for pr in prompts:\n",
        "  name=format_filename(pr[0])\n",
        "  da = create(batch_name=name[:85], text_prompts=pr,\n",
        "        #init_image='https://d2vyhzeko0lke5.cloudfront.net/2f4f6dfa5a05e078469ebe57e77b72f0.png',\n",
        "        n_batches=2,\n",
        "        clip_guidance_scale=15000,\n",
        "        width_height=[1280, 720],\n",
        "        seed=2222,\n",
        "        steps=260,\n",
        "        sat_scale=20000,\n",
        "        clamp_max=0.09,\n",
        "        #cut_overview='[20]*200+[18]*200+[8]*200+[8]*200+[2]*200',\n",
        "        #cut_innercut='[0]*200+[2]*200+[4]*200+[6]*200+[10]*200',\n",
        "        #cut_ic_pow='[0]*200+[10]*200+[10]*200+[60]*200+[80]*200',\n",
        "        clip_models=['ViT-B-32::openai','ViT-B-16::openai','ViT-L-14::openai','RN50::cc12m','RN101::yfcc15m'],\n",
        "        display_rate=10)\n",
        "  for idx, d in enumerate(da):\n",
        "    fname = f'dd-{name}-{idx}.png'\n",
        "    fpath = f'/content/{fname}'\n",
        "    d.save_uri_to_file(fname)\n",
        "    shutil.copy(fpath, dpath)"
      ],
      "metadata": {
        "id": "lTq2flTqbjYF"
      },
      "id": "lTq2flTqbjYF",
      "execution_count": null,
      "outputs": []
    },
    {
      "cell_type": "markdown",
      "source": [
        "## Use OpenAI GPT-3 to Generate Prompts"
      ],
      "metadata": {
        "id": "2QNuOKFfblMY"
      },
      "id": "2QNuOKFfblMY"
    },
    {
      "cell_type": "code",
      "source": [
        "!pip install openai"
      ],
      "metadata": {
        "id": "NQivULWJbvFW"
      },
      "id": "NQivULWJbvFW",
      "execution_count": null,
      "outputs": []
    },
    {
      "cell_type": "code",
      "source": [
        "#@markdown **Paste your OpenAI key here and Run** (get GPT-3 API key from https://beta.openai.com)\n",
        "api_key = \"\"\n",
        "\n",
        "# Don't share publicly, keep your key hidden for your protection"
      ],
      "metadata": {
        "id": "YDhttJuRR0QZ"
      },
      "id": "YDhttJuRR0QZ",
      "execution_count": null,
      "outputs": []
    },
    {
      "cell_type": "code",
      "source": [
        "import json\n",
        "import openai\n",
        "import random\n",
        "\n",
        "#@title ## Structured Prompt Settings\n",
        "#@markdown Enter a **phrase** each prompt should start with and the amount of prompts to generate. **Subject_details** is optional to influence the output. **Phase_as_subject** makes it about phrase and subject detail. **Request_mode** is the way it asks for the visual description. Just experiment, AI will continue to surprise.\n",
        "\n",
        "openai.api_key = api_key # Insert your API key in the previous cell\n",
        "#openai.api_key = api_key\n",
        "phrase = \"Hyper-terrestrial entities\" #@param {type:\"string\"}\n",
        "subject_detail = \"\" #@param {type:\"string\"}\n",
        "phrase_as_subject = False #@param {type:\"boolean\"}\n",
        "amount = 10 #@param {type:\"integer\"}\n",
        "random_artists = 2 #@param {type:\"integer\"}\n",
        "random_styles = 3 #@param {type:\"integer\"}\n",
        "mod_noText = True #@param {type:\"boolean\"}\n",
        "mod_noBlur = True #@param {type:\"boolean\"}\n",
        "mod_noArtifacts = True #@param {type:\"boolean\"}\n",
        "mod_noDeformed = False #@param {type:\"boolean\"}\n",
        "mod_Artstation = True #@param {type:\"boolean\"}\n",
        "mod_Photorealistic = False #@param {type:\"boolean\"}\n",
        "mod_Detailed = False #@param {type:\"boolean\"}\n",
        "mod_3DRendered = False #@param {type:\"boolean\"}\n",
        "mod_WideAngle = False #@param {type:\"boolean\"}\n",
        "mod_Custom = \"\" #@param {type:\"string\"}\n",
        "weight_Subject = 3 #@param {type:\"number\"}\n",
        "weight_Artists = 2 #@param {type:\"number\"}\n",
        "weight_Styles = 1.5 #@param {type:\"number\"}\n",
        "weight_NegativeMods = -2 #@param {type:\"number\"}\n",
        "weight_PositiveMods = 1 #@param {type:\"number\"}\n",
        "request_mode = 4 #@param {type:\"slider\", min:0, max:4, step:1}\n",
        "#@markdown Try examples like these:\n",
        "#@markdown - Spacecraft\n",
        "#@markdown - Medieval Town\n",
        "#@markdown - Luminescent mushroom\n",
        "#@markdown - Fabric of spacetime continuum\n",
        "#@markdown - A majestic tree\n",
        "\n",
        "#@markdown You may need to run it 2-3 times before getting a really nice run.    \n",
        "\n",
        "subject = \"\"\n",
        "if subject_detail: subject = \", and \" + subject_detail\n",
        "request_modes = [\n",
        "    \"with long detailed colorful interesting artistic scenic visual descriptions\",\n",
        "    \"that is highly detailed, artistically interesting, describe a scene, colorful poetic language, with intricate visual descriptions\",\n",
        "    \"that are strange, descriptive, graphically visual, full of interesting subjects described in great detail, painted by an artist\",\n",
        "    \"that is highly technical, extremely wordy, extra detailed, confusingly tangental, colorfully worded, dramatically narrative\",\n",
        "    \"that is creative, imaginative, funny, interesting, scenic, dark, witty, visual, unexpected, wild\",\n",
        "]\n",
        "prompt = f\"\"\"\n",
        "List of image generation prompts about {phrase}{subject}, {request_modes[request_mode]}, and unique without repetition:\n",
        "\n",
        "\"\"\"\n",
        "#print(prompt)\n",
        "if phrase_as_subject:\n",
        "  prompt += \"*\"\n",
        "else:\n",
        "  prompt += f\"\"\"* A beautiful painting of a serene landscape with a river running through it, lush trees, golden sun illuminating\n",
        "* Fireflies illuminating autumnal woods, an Autumn in the Brightwood glade, with warm yellow lantern lights\n",
        "* The Fabric of spacetime continuum over a large cosmological vista, pieces of dark matter, space dust and nebula doted with small dots that seem to form fractal patterns and glowing bright lanterns in distances, also with an stardust effect towards the plane of the galaxy\n",
        "* Midnight landscape painting of a city under a starry sky, owl in the shaman forest knowing the ways of magic, warm glow over the buildings\n",
        "* {phrase}\"\"\"\n",
        "\n",
        "artists = ( \"Ivan Aivazovsky\", \"Beeple\", \"Zdzislaw Beksinski\", \"Albert Bierstadt\", \"Noah Bradley\", \"Jim Burns\", \"John Harris\", \"John Howe\", \"Thomas Kinkade\", \"Gediminas Pranckevicius\", \"Andreas Rocha\", \"Marc Simonetti\", \"Simon Stalenhag\", \"Yuumei\", \"Asher Brown Durand\", \"Tyler Edlin\", \"Jesper Ejsing\", \"Peter Mohrbacher\", \"RHADS\", \"Greg Rutkowski\", \"H.P. Lovecraft\", \"George Lucas\", \"Benoit B. Mandelbrot\", \"Edwin Austin Abbey\", \"Ansel Adams\", \"Arthur Adams\", \"Charles Addams\", \"Alena Aenami\", \"Pieter Aertsen\", \"Hilma af Klint\", \"Affandi\", \"Leonid Afremov\", \"Eileen Agar\", \"Ivan Aivazovsky\", \"Anni Albers\", \"Josef Albers\", \"Ivan Albright\", \"Yoshitaka Amano\", \"Cuno Amiet\", \"Sophie Anderson\", \"Wes Anderson\", \"Esao Andrews\", \"Charles Angrand\", \"Sofonisba Anguissola\", \"Hirohiko Araki\", \"Nobuyoshi Araki\", \"Shinji Aramaki\", \"Diane Arbus\", \"Giuseppe Arcimboldo\", \"Steve Argyle\", \"Jean Arp\", \"Artgerm\", \"John James Audubon\", \"Frank Auerbach\", \"Milton Avery\", \"Tex Avery\", \"Harriet Backer\", \"Francis Bacon\", \"Peter Bagge\", \"Tom Bagshaw\", \"Karol Bak\", \"Christopher Balaskas\", \"Hans Baldung\", \"Ronald Balfour\", \"Giacomo Balla\", \"Banksy\", \"Cicely Mary Barker\", \"Carl Barks\", \"Wayne Barlowe\", \"Jean-Michel Basquiat\", \"Jules Bastien-Lepage\", \"David Bates\", \"John Bauer\", \"Aubrey Beardsley\", \"Jasmine Becket-Griffith\", \"Max Beckmann\", \"Beeple\", \"Zdzislaw Beksinski\", \"Zdzisław Beksiński\", \"Julie Bell\", \"Hans Bellmer\", \"John Berkey\", \"Émile Bernard\", \"Elsa Beskow\", \"Albert Bierstadt\", \"Enki Bilal\", \"Ivan Bilibin\", \"Simon Bisley\", \"Charles Blackman\", \"Thomas Blackshear\", \"Mary Blair\", \"Quentin Blake\", \"William Blake\", \"Antoine Blanchard\", \"John Blanche\", \"Pascal Blanché\", \"Karl Blossfeldt\", \"Don Bluth\", \"Umberto Boccioni\", \"Arnold Böcklin\", \"Chesley Bonestell\", \"Franklin Booth\", \"Guido Borelli da Caluso\", \"Marius Borgeaud\", \"Hieronymous Bosch\", \"Hieronymus Bosch\", \"Sam Bosma\", \"Johfra Bosschart\", \"Sandro Botticelli\", \"William-Adolphe Bouguereau\", \"Louise Bourgeois\", \"Eleanor Vere Boyle\", \"Noah Bradley\", \"Victor Brauner\", \"Austin Briggs\", \"Raymond Briggs\", \"Mark Briscoe\", \"Romero Britto\", \"Gerald Brom\", \"Mark Brooks\", \"Patrick Brown\", \"Pieter Bruegel the Elder\", \"Bernard Buffet\", \"Laurel Burch\", \"Charles E. Burchfield\", \"David Burdeny\", \"Richard Burlet\", \"David Burliuk\", \"Edward Burne-Jones\", \"Jim Burns\", \"William S. Burroughs\", \"Gaston Bussière\", \"Kaethe Butcher\", \"Jack Butler Yeats\", \"Bob Byerley\", \"Alexandre Cabanel\", \"Ray Caesar\", \"Claude Cahun\", \"Zhichao Cai\", \"Randolph Caldecott\", \"Alexander Milne Calder\", \"Clyde Caldwell\", \"Eddie Campbell\", \"Pascale Campion\", \"Canaletto\", \"Caravaggio\", \"Annibale Carracci\", \"Carl Gustav Carus\", \"Santiago Caruso\", \"Mary Cassatt\", \"Paul Cézanne\", \"Marc Chagall\", \"Marcel Chagall\", \"Yanjun Cheng\", \"Sandra Chevrier\", \"Judy Chicago\", \"James C. Christensen\", \"Frederic Church\", \"Mikalojus Konstantinas Ciurlionis\", \"Pieter Claesz\", \"Amanda Clark\", \"Harry Clarke\", \"Thomas Cole\", \"Mat Collishaw\", \"John Constable\", \"Cassius Marcellus Coolidge\", \"Richard Corben\", \"Lovis Corinth\", \"Joseph Cornell\", \"Camille Corot\", \"cosmic nebulae\", \"Gustave Courbet\", \"Lucas Cranach the Elder\", \"Walter Crane\", \"Craola\", \"Gregory Crewdson\", \"Henri-Edmond Cross\", \"Robert Crumb\", \"Tivadar Csontváry Kosztka\", \"Krenz Cushart\", \"Leonardo da Vinci\", \"Richard Dadd\", \"Louise Dahl-Wolfe\", \"Salvador Dalí\", \"Farel Dalrymple\", \"Geof Darrow\", \"Honoré Daumier\", \"Jack Davis\", \"Marc Davis\", \"Stuart Davis\", \"Craig Davison\", \"Walter Percy Day\", \"Pierre Puvis de Chavannes\", \"Giorgio de Chirico\", \"Pieter de Hooch\", \"Elaine de Kooning\", \"Willem de Kooning\", \"Evelyn De Morgan\", \"Henri de Toulouse-Lautrec\", \"Richard Deacon\", \"Roger Dean\", \"Michael Deforge\", \"Edgar Degas\", \"Lise Deharme\", \"Eugene Delacroix\", \"Beauford Delaney\", \"Sonia Delaunay\", \"Nicolas Delort\", \"Paul Delvaux\", \"Jean Delville\", \"Martin Deschambault\", \"Brian Despain\", \"Vincent Di Fate\", \"Steve Dillon\", \"Walt Disney\", \"Tony DiTerlizzi\", \"Steve Ditko\", \"Anna Dittmann\", \"Otto Dix\", \"Óscar Domínguez\", \"Russell Dongjun Lu\", \"Stanley Donwood\", \"Gustave Doré\", \"Dave Dorman\", \"Arthur Dove\", \"Richard Doyle\", \"Tim Doyle\", \"Philippe Druillet\", \"Joseph Ducreux\", \"Edmund Dulac\", \"Asher Brown Durand\", \"Albrecht Dürer\", \"Thomas Eakins\", \"Eyvind Earle\", \"Jeff Easley\", \"Tyler Edlin\", \"Jason Edmiston\", \"Les Edwards\", \"Bob Eggleton\", \"Jesper Ejsing\", \"El Greco\", \"Olafur Eliasson\", \"Harold Elliott\", \"Dean Ellis\", \"Larry Elmore\", \"Peter Elson\", \"Ed Emshwiller\", \"Kilian Eng\", \"James Ensor\", \"Max Ernst\", \"Elliott Erwitt\", \"M.C. Escher\", \"Richard Eurich\", \"Glen Fabry\", \"Anton Fadeev\", \"Shepard Fairey\", \"John Philip Falter\", \"Lyonel Feininger\", \"Joe Fenton\", \"Agustín Fernández\", \"Roberto Ferri\", \"Hugh Ferriss\", \"David Finch\", \"Virgil Finlay\", \"Howard Finster\", \"Anton Otto Fischer\", \"Paul Gustav Fischer\", \"Paul Gustave Fischer\", \"Art Fitzpatrick\", \"Dan Flavin\", \"Kaja Foglio\", \"Phil Foglio\", \"Chris Foss\", \"Hal Foster\", \"Jean-Honoré Fragonard\", \"Victoria Francés\", \"Lisa Frank\", \"Frank Frazetta\", \"Kelly Freas\", \"Lucian Freud\", \"Caspar David Friedrich\", \"Brian Froud\", \"Wendy Froud\", \"Ernst Fuchs\", \"Goro Fujita\", \"Henry Fuseli\", \"Thomas Gainsborough\", \"Emile Galle\", \"Stephen Gammell\", \"Hope Gangloff\", \"Antoni Gaudi\", \"Antoni Gaudí\", \"Jack Gaughan\", \"Paul Gauguin\", \"Giovanni Battista Gaulli\", \"Nikolai Ge\", \"Emma Geary\", \"Anne Geddes\", \"Jeremy Geddes\", \"Artemisia Gentileschi\", \"Justin Gerard\", \"Jean-Leon Gerome\", \"Jean-Léon Gérôme\", \"Atey Ghailan\", \"Alberto Giacometti\", \"Donato Giancola\", \"Dave Gibbons\", \"H. R. Giger\", \"James Gilleard\", \"Jean Giraud\", \"Milton Glaser\", \"Warwick Goble\", \"Andy Goldsworthy\", \"Hendrick Goltzius\", \"Natalia Goncharova\", \"Rob Gonsalves\", \"Josan Gonzalez\", \"Edward Gorey\", \"Arshile Gorky\", \"Francisco Goya\", \"J. J. Grandville\", \"Jane Graverol\", \"Mab Graves\", \"Laurie Greasley\", \"Kate Greenaway\", \"Alex Grey\", \"Peter Gric\", \"Carne Griffiths\", \"John Atkinson Grimshaw\", \"Henriette Grindat\", \"Matt Groening\", \"William Gropper\", \"George Grosz\", \"Matthias Grünewald\", \"Rebecca Guay\", \"James Gurney\", \"Philip Guston\", \"Sir James Guthrie\", \"Zaha Hadid\", \"Ernst Haeckel\", \"Sydney Prior Hall\", \"Asaf Hanuka\", \"Tomer Hanuka\", \"David A. Hardy\", \"Keith Haring\", \"John Harris\", \"Lawren Harris\", \"Marsden Hartley\", \"Ryohei Hase\", \"Jacob Hashimoto\", \"Martin Johnson Heade\", \"Erich Heckel\", \"Michael Heizer\", \"Steve Henderson\", \"Patrick Heron\", \"Ryan Hewett\", \"Jamie Hewlett\", \"Brothers Hildebrandt\", \"Greg Hildebrandt\", \"Tim Hildebrandt\", \"Miho Hirano\", \"Adolf Hitler\", \"Hannah Hoch\", \"David Hockney\", \"Filip Hodas\", \"Howard Hodgkin\", \"Ferdinand Hodler\", \"William Hogarth\", \"Katsushika Hokusai\", \"Carl Holsoe\", \"Winslow Homer\", \"Edward Hopper\", \"Aaron Horkey\", \"Kati Horna\", \"Ralph Horsley\", \"John Howe\", \"John Hoyland\", \"Arthur Hughes\", \"Edward Robert Hughes\", \"Friedensreich Regentag Dunkelbunt Hundertwasser\", \"Hundertwasser\", \"William Henry Hunt\", \"Louis Icart\", \"Ismail Inceoglu\", \"Bjarke Ingels\", \"George Inness\", \"Shotaro Ishinomori\", \"Junji Ito\", \"Johannes Itten\", \"Ub Iwerks\", \"Alexander Jansson\", \"Jarosław Jaśnikowski\", \"James Jean\", \"Ruan Jia\", \"Martine Johanna\", \"Richard S. Johnson\", \"Jeffrey Catherine Jones\", \"Peter Andrew Jones\", \"Kim Jung Gi\", \"Joe Jusko\", \"Frida Kahlo\", \"M.W. Kaluta\", \"Wassily Kandinsky\", \"Terada Katsuya\", \"Audrey Kawasaki\", \"Hasui Kawase\", \"Zhang Kechun\", \"Felix Kelly\", \"John Frederick Kensett\", \"Rockwell Kent\", \"Hendrik Kerstens\", \"Brian Kesinger\", \"Jeremiah Ketner\", \"Adonna Khare\", \"Kitty Lange Kielland\", \"Thomas Kinkade\", \"Jack Kirby\", \"Ernst Ludwig Kirchner\", \"Tatsuro Kiuchi\", \"Mati Klarwein\", \"Jon Klassen\", \"Paul Klee\", \"Yves Klein\", \"Heinrich Kley\", \"Gustav Klimt\", \"Daniel Ridgway Knight\", \"Nick Knight\", \"Daniel Ridgway Knights\", \"Ayami Kojima\", \"Oskar Kokoschka\", \"Käthe Kollwitz\", \"Satoshi Kon\", \"Jeff Koons\", \"Konstantin Korovin\", \"Leon Kossoff\", \"Hugh Kretschmer\", \"Barbara Kruger\", \"Alfred Kubin\", \"Arkhyp Kuindzhi\", \"Kengo Kuma\", \"Yasuo Kuniyoshi\", \"Yayoi Kusama\", \"Ilya Kuvshinov\", \"Chris LaBrooy\", \"Raphael Lacoste\", \"Wilfredo Lam\", \"Mikhail Larionov\", \"Abigail Larson\", \"Jeffrey T. Larson\", \"Carl Larsson\", \"Dorothy Lathrop\", \"John Lavery\", \"Edward Lear\", \"André Leblanc\", \"Bastien Lecouffe-Deharme\", \"Alan Lee\", \"Jim Lee\", \"Heinrich Lefler\", \"Paul Lehr\", \"Edmund Leighton\", \"Frederick Lord Leighton\", \"Jeff Lemire\", \"Isaac Levitan\", \"J.C. Leyendecker\", \"Roy Lichtenstein\", \"Rob Liefeld\", \"Malcolm Liepke\", \"Jeremy Lipking\", \"Filippino Lippi\", \"Laurie Lipton\", \"Michal Lisowski\", \"Scott Listfield\", \"Cory Loftis\", \"Travis Louie\", \"George Luks\", \"Dora Maar\", \"August Macke\", \"Margaret Macdonald Mackintosh\", \"Clive Madgwick\", \"Lee Madgwick\", \"Rene Magritte\", \"Don Maitz\", \"Kazimir Malevich\", \"Édouard Manet\", \"Jeremy Mann\", \"Sally Mann\", \"Franz Marc\", \"Chris Mars\", \"Otto Marseus van Schrieck\", \"John Martin\", \"Masaaki Masamoto\", \"André Masson\", \"Henri Matisse\", \"Leiji Matsumoto\", \"Taiyō Matsumoto\", \"Roberto Matta\", \"Rodney Matthews\", \"David B. Mattingly\", \"Peter Max\", \"Marco Mazzoni\", \"Robert McCall\", \"Todd McFarlane\", \"Ryan McGinley\", \"Dave McKean\", \"Kelly McKernan\", \"Angus McKie\", \"Ralph McQuarrie\", \"Ian McQue\", \"Syd Mead\", \"Józef Mehoffer\", \"Eddie Mendoza\", \"Adolph Menzel\", \"Maria Sibylla Merian\", \"Daniel Merriam\", \"Jean Metzinger\", \"Michelangelo\", \"Mike Mignola\", \"Frank Miller\", \"Ian Miller\", \"Russ Mills\", \"Victor Adame Minguez\", \"Joan Miro\", \"Kentaro Miura\", \"Paula Modersohn-Becker\", \"Amedeo Modigliani\", \"Moebius\", \"Peter Mohrbacher\", \"Piet Mondrian\", \"Claude Monet\", \"Jean-Baptiste Monge\", \"Kent Monkman\", \"Alyssa Monks\", \"Sailor Moon\", \"Chris Moore\", \"Gustave Moreau\", \"William Morris\", \"Igor Morski\", \"John Kenn Mortensen\", \"Victor Moscoso\", \"Grandma Moses\", \"Robert Motherwell\", \"Alphonse Mucha\", \"Craig Mullins\", \"Augustus Edwin Mulready\", \"Dan Mumford\", \"Edvard Munch\", \"Gabriele Münter\", \"Gerhard Munthe\", \"Takashi Murakami\", \"Patrice Murciano\", \"Go Nagai\", \"Hiroshi Nagai\", \"Tibor Nagy\", \"Ted Nasmith\", \"Alice Neel\", \"Odd Nerdrum\", \"Mikhail Nesterov\", \"C. R. W. Nevinson\", \"Helmut Newton\", \"Victo Ngai\", \n",
        "           \"Dustin Nguyen\", \"Kay Nielsen\", \"Tsutomu Nihei\", \"Yasushi Nirasawa\", \"Sidney Nolan\", \"Emil Nolde\", \"Sven Nordqvist\", \"Earl Norem\", \"Marianne North\", \"Georgia O'Keeffe\", \"Terry Oakes\", \"Takeshi Obata\", \"Eiichiro Oda\", \"Koson Ohara\", \"Noriyoshi Ohrai\", \"Marek Okon\", \"Méret Oppenheim\", \"Katsuhiro Otomo\", \"Shohei Otomo\", \"Siya Oum\", \"Ida Rentoul Outhwaite\", \"James Paick\", \"David Palumbo\", \"Michael Parkes\", \"Keith Parkinson\", \"Maxfield Parrish\", \"Alfred Parsons\", \"Max Pechstein\", \"Agnes Lawrence Pelton\", \"Bruce Pennington\", \"John Perceval\", \"Gaetano Pesce\", \"Coles Phillips\", \"Francis Picabia\", \"Pablo Picasso\", \"Mauro Picenardi\", \"Anton Pieck\", \"Bonnard Pierre\", \"Yuri Ivanovich Pimenov\", \"Robert Antoine Pinchon\", \"Giovanni Battista Piranesi\", \"Camille Pissarro\", \"Patricia Polacco\", \"Jackson Pollock\", \"Lyubov Popova\", \"Candido Portinari\", \"Beatrix Potter\", \"Beatrix Potter\", \"Gediminas Pranckevicius\", \"Dod Procter\", \"Howard Pyle\", \"Arthur Rackham\", \"Alice Rahon\", \"Paul Ranson\", \"Raphael\", \"Robert Rauschenberg\", \"Man Ray\", \"Odilon Redon\", \"Pierre-Auguste Renoir\", \"Ilya Repin\", \"RHADS\", \"Gerhard Richter\", \"Diego Rivera\", \"Hubert Robert\", \"Andrew Robinson\", \"Charles Robinson\", \"W. Heath Robinson\", \"Andreas Rocha\", \"Norman Rockwell\", \"Nicholas Roerich\", \"Conrad Roset\", \"Bob Ross\", \"Jessica Rossier\", \"Ed Roth\", \"Mark Rothko\", \"Georges Rouault\", \"Henri Rousseau\", \"Luis Royo\", \"Jakub Rozalski\", \"Joao Ruas\", \"Peter Paul Rubens\", \"Mark Ryden\", \"Jan Pietersz Saenredam\", \"Pieter Jansz Saenredam\", \"Kay Sage\", \"Apollonia Saintclair\", \"John Singer Sargent\", \"Martiros Saryan\", \"Masaaki Sasamoto\", \"Thomas W Schaller\", \"Miriam Schapiro\", \"Yohann Schepacz\", \"Egon Schiele\", \"Karl Schmidt-Rottluff\", \"Charles Schulz\", \"Charles Schulz\", \"Carlos Schwabe\", \"Sean Scully\", \"Franz Sedlacek\", \"Maurice Sendak\", \"Zinaida Serebriakova\", \"Georges Seurat\", \"Ben Shahn\", \"Barclay Shaw\", \"E. H. Shepard\", \"Cindy Sherman\", \"Makoto Shinkai\", \"Yoji Shinkawa\", \"Chiharu Shiota\", \"Masamune Shirow\", \"Ivan Shishkin\", \"Bill Sienkiewicz\", \"Greg Simkins\", \"Marc Simonetti\", \"Kevin Sloan\", \"Adrian Smith\", \"Douglas Smith\", \"Jeffrey Smith\", \"Pamela Coleman Smith\", \"Zack Snyder\", \"Simeon Solomon\", \"Joaquín Sorolla\", \"Ettore Sottsass\", \"Chaïm Soutine\", \"Austin Osman Spare\", \"Sparth \", \"Art Spiegelman\", \"Simon Stalenhag\", \"Ralph Steadman\", \"William Steig\", \"Joseph Stella\", \"Irma Stern\", \"Anne Stokes\", \"James Stokoe\", \"William Stout\", \"George Stubbs\", \"Tatiana Suarez\", \"Ken Sugimori\", \"Hiroshi Sugimoto\", \"Brian Sum\", \"Matti Suuronen\", \"Raymond Swanland\", \"Naoko Takeuchi\", \"Rufino Tamayo\", \"Shaun Tan\", \"Yves Tanguay\", \"Henry Ossawa Tanner\", \"Dorothea Tanning\", \"Ben Templesmith\", \"theCHAMBA\", \"Tom Thomson\", \"Storm Thorgerson\", \"Bridget Bate Tichenor\", \"Louis Comfort Tiffany\", \"Tintoretto\", \"James Tissot\", \"Titian\", \"Akira Toriyama\", \"Ross Tran\", \"Clovis Trouille\", \"J.M.W. Turner\", \"James Turrell\", \"Daniela Uhlig\", \"Boris Vallejo\", \"Gustave Van de Woestijne\", \"Frits Van den Berghe\", \"Anthony van Dyck\", \"Jan van Eyck\", \"Vincent Van Gogh\", \"Willem van Haecht\", \"Rembrandt van Rijn\", \"Jacob van Ruisdael\", \"Salomon van Ruysdael\", \"Theo van Rysselberghe\", \"Remedios Varo\", \"Viktor Vasnetsov\", \"Kuno Veeber\", \"Diego Velázquez\", \"Giovanni Battista Venanzi\", \"Johannes Vermeer\", \"Alexej von Jawlensky\", \"Marianne von Werefkin\", \"Hendrick Cornelisz Vroom\", \"Mikhail Vrubel\", \"Louis Wain\", \"Ron Walotsky\", \"Andy Warhol\", \"John William Waterhouse\", \"Jean-Antoine Watteau\", \"George Frederic Watts\", \"Max Weber\", \"Gerda Wegener\", \"Edward Weston\", \"Michael Whelan\", \"James Abbott McNeill Whistler\", \"Tim White\", \"Coby Whitmore\", \"John Wilhelm\", \"Robert Williams\", \"Al Williamson\", \"Carel Willink\", \"Mike Winkelmann\", \"Franz Xaver Winterhalter\", \"Klaus Wittmann\", \"Liam Wong\", \"Paul Wonner\", \"Ashley Wood\", \"Grant Wood\", \"Patrick Woodroffe\", \"Frank Lloyd Wright\", \"Bernie Wrightson\", \"Andrew Wyeth\", \"Qian Xuan\", \"Takato Yamamoto\", \"Liu Ye\", \"Jacek Yerka\", \"Akihiko Yoshida\", \"Hiroshi Yoshida\", \"Skottie Young\", \"Konstantin Yuon\", \"Yuumei\", \"Amir Zand\", \"Fenghua Zhong\", \"Nele Zirnite\", \"Anders Zorn\") \n",
        "styles = ( \"1970s era\", \"2001: A Space Odyssey\", \"60s kitsch and psychedelia\", \"Aaahh!!! Real Monsters\", \"abstract illusionism\", \"afrofuturism\", \"alabaster\", \"alhambresque\", \"ambrotype\", \"american romanticism\", \"amethyst\", \"amigurumi\", \"anaglyph effect\", \"anaglyph filter\", \"Ancient Egyptian\", \"ancient Greek architecture\", \"anime\", \"art nouveau\", \"astrophotography\", \"at dawn\", \"at dusk\", \"at high noon\", \"at night\", \"atompunk\", \"aureolin\", \"avant-garde\", \"Avatar The Last Airbender\", \"Babylonian\", \"Baker-Miller pink\", \"Baroque\", \"Bauhaus\", \"biopunk\", \"bismuth\", \"Blade Runner 2049\", \"blueprint\", \"bokeh\", \"bonsai\", \"bright\", \"bronze\", \"brutalism\", \"burgundy\", \"Byzantine\", \"calotype\", \"Cambrian\", \"camcorder effect\", \"carmine\", \"cassette futurism\", \"cassettepunk\", \"catholicpunk\", \"cerulean\", \"chalk art\", \"chartreuse\", \"chiaroscuro\", \"chillwave\", \"chromatic aberration\", \"chrome\", \"Cirque du Soleil\", \"claymation\", \"clockpunk\", \"cloudpunk\", \"cobalt\", \"colored pencil art\", \"Concept Art World\", \"copper patina\", \"copper verdigris\", \"Coraline\", \"cosmic horror\", \"cottagecore\", \"crayon art\", \"crimson\", \"CryEngine\", \"crystalline lattice\", \"cubic zirconia\", \"cubism\", \"cyanotype\", \"cyber noir\", \"cyberpunk\", \"cyclopean masonry\", \"daguerreotype\", \"Danny Phantom\", \"dark academia\", \"dark pastel\", \"dark rainbow\", \"DayGlo\", \"decopunk\", \"Dexter's Lab\", \"diamond\", \"dieselpunk\", \"Digimon\", \"digital art\", \"doge\", \"dollpunk\", \"Doom engine\", \"Dreamworks\", \"dutch golden age\", \"Egyptian\", \"eldritch\", \"emerald\", \"empyrean\", \"Eraserhead\", \"ethereal\", \"expressionism\", \"Fantastic Planet\", \"Fendi\", \"figurativism\", \"fire\", \"fisheye lens\", \"fluorescent\", \"forestpunk\", \"fractal manifold\", \"fractalism\", \"fresco\", \"fuchsia\", \"futuresynth\", \"Game of Thrones\", \"german romanticism\", \"glitch art\", \"glittering\", \"golden\", \"golden hour\", \"gothic\", \"gothic art\", \"graffiti\", \"graphite\", \"grim dark\", \"Harry Potter\", \"holography\", \"Howl’s Moving Castle\", \"hygge\", \"hyperrealism\", \"icy\", \"ikebana\", \"impressionism\", \"in Ancient Egypt\", \"in Egypt\", \"in Italy\", \"in Japan\", \"in the Central African Republic\", \"in the desert\", \"in the jungle\", \"in the swamp\", \"in the tundra\", \"incandescent\", \"indigo\", \"infrared\", \"Interstellar\", \"inverted colors\", \"iridescent\", \"iron\", \"islandpunk\", \"isotype\", \"Kai Fine Art\", \"khaki\", \"kokedama\", \"Korean folk art\", \"lapis lazuli\", \"Lawrence of Arabia\", \"leather\", \"leopard print\", \"lilac\", \"liminal space\", \"long exposure\", \"Lord of the Rings\", \"Louis Vuitton\", \"Lovecraftian\", \"low poly\", \"mac and cheese\", \"macro lens\", \"magenta\", \"magic realism\", \"manga\", \"mariachi\", \"marimekko\", \"maroon\", \"Medieval\", \"Mediterranean\", \"modernism\", \"Monster Rancher\", \"moonstone\", \"Moulin Rouge!\", \"multiple exposure\", \"Myst\", \"nacreous\", \"narrative realism\", \"naturalism\", \"neon\", \"Nosferatu\", \"obsidian\", \"oil and canvas\", \"opalescent\", \"optical illusion\", \"optical art\", \"organometallics\", \"ossuary\", \"outrun\", \"Paleolithic\", \"Pan's Labyrinth\", \"pastel\", \"patina\", \"pearlescent\", \"pewter\", \"Pixar\", \"Play-Doh\", \"pointillism\", \"Pokemon\", \"polaroid\", \"porcelain\", \"positivism\", \"postcyberpunk\", \"Pride & Prejudice\", \"prismatic\", \"pyroclastic flow\", \"Quake engine\", \"quartz\", \"rainbow\", \"reflective\", \"Renaissance\", \"retrowave\", \"Rococo\", \"rococopunk\", \"ruby\", \"rusty\", \"Salad Fingers\", \"sapphire\", \"scarlet\", \"shimmering\", \"silk\", \"sketched\", \"Slenderman\", \"smoke\", \"snakeskin\", \"Spaceghost Coast to Coast\", \"stained glass\", \"Star Wars\", \"steampunk\", \"steel\", \"steelpunk\", \"still life\", \"stonepunk\", \"Stranger Things\", \"street art\", \"stuckism\", \"Studio Ghibli\", \"Sumerian\", \"surrealism\", \"symbolism\", \"synthwave\", \"telephoto lens\", \"thalassophobia\", \"thangka\", \"the matrix\", \"tiger print\", \"tilt-shift\", \"tintype\", \"tonalism\", \"Toonami\", \"turquoise\", \"Ukiyo-e\", \"ultramarine\", \"ultraviolet\", \"umber\", \"underwater photography\", \"Unreal Engine\", \"vantablack\", \"vaporwave\", \"verdigris\", \"Versacci\", \"viridian\", \"wabi-sabi\", \"watercolor painting\", \"wooden\", \"x-ray photography\", \"minimalist\", \"dadaist\", \"neo-expressionist\", \"post-impressionist\", \"hyper real\", \"Art brut\", \"3D rendering\", \"uncanny valley\", \"fractal landscape\", \"fractal flames\", \"Mandelbulb\", \"inception dream\", \"waking life\", \"occult inscriptions\", \"barr relief\", \"marble sculpture\", \"wood carving\", \"church stained glass\", \"Japanese jade\", \"Zoetrope\", \"beautiful\", \"wide-angle\", \"Digital Painting\", \"glossy reflections\", \"cinematic\", \"spooky\", \"Digital paint concept art\", \"dramatic\", \"global illumination\", \"immaculate\", \"woods\", ) \n",
        "\n",
        "prompts = []\n",
        "for j in range(amount):\n",
        "    random_artist=[]\n",
        "    for a in range(random_artists):\n",
        "      random_artist.append(random.choice(artists))\n",
        "    artist = \" and \".join([\",\".join(random_artist[:-1]),random_artist[-1]] if len(random_artist) > 2 else random_artist)\n",
        "    random_style = []\n",
        "    for s in range(random_styles):\n",
        "      random_style.append(random.choice(styles))\n",
        "    style = \", \".join(random_style)\n",
        "    response = openai.Completion.create(engine=\"text-davinci-002\", prompt=prompt, max_tokens=2000, stop= \"\\n\")\n",
        "    #print(response)\n",
        "    result = response[\"choices\"][0][\"text\"].strip()\n",
        "    if result[-1] == '.': result = result[:-1]\n",
        "    if phrase_as_subject: prompt = prompt + \" \" + result + \"\\n*\"\n",
        "    else: prompt = prompt + \" \"  + result + \"\\n* \" + phrase\n",
        "    text_prompt = [(\"\" if phrase_as_subject else phrase + \" \") + result + \":\" + str(weight_Subject)]\n",
        "    if random_artists > 0: text_prompt.append(\"by \" + artist + \":\" + str(weight_Artists))\n",
        "    if random_styles > 0: text_prompt.append(style + \":\" + str(weight_Styles))\n",
        "    negatives = []\n",
        "    if mod_noText: negatives.append(\"text, signature, signatures\")\n",
        "    if mod_noBlur: negatives.append(\"blur, blurry, depth of field, dof, bokeh\")\n",
        "    if mod_noArtifacts: negatives.append(\"watermark, jpeg artifacts, specular highlights, noise, pixilation, low quality\")\n",
        "    if mod_noDeformed: negatives.append(\"deformed, non realistic, unrealistic\")\n",
        "    if len(negatives) > 0: text_prompt.append(\", \".join(negatives) + f\":{weight_NegativeMods}\")\n",
        "    if mod_Artstation: text_prompt.append(\"featured on ArtStation, trending on ArtStation, cgsociety, trending on 500px, deviantart:\" + str(weight_PositiveMods))\n",
        "    if mod_Photorealistic: text_prompt.append(\"photorealistic, 4k, 8k, realistic, realism:\" + str(weight_PositiveMods))\n",
        "    if mod_Detailed: text_prompt.append(\"highly detailed, intricate, ultrafine detail, micro details:\" + str(weight_PositiveMods))\n",
        "    if mod_3DRendered: text_prompt.append(\"Unreal engine, Unity 3D, ray tracing, Octane render, CGI:\" + str(weight_PositiveMods))\n",
        "    if mod_WideAngle: text_prompt.append(\"ultra wide angle, wide-angle, ultrawide:\" + str(weight_PositiveMods))\n",
        "    prompts.append(text_prompt)\n",
        "for item in prompts:\n",
        "    print(item,\",\")"
      ],
      "metadata": {
        "cellView": "form",
        "id": "plo-8Pxjb3ui"
      },
      "id": "plo-8Pxjb3ui",
      "execution_count": null,
      "outputs": []
    },
    {
      "cell_type": "code",
      "source": [
        "#@title ## Generate Structured Prompt List from GPT-3 Results (copy/paste/edit)\n",
        "list_mode = 'Animation' #@param ['Animation', 'Images', 'Simple Text']\n",
        "if list_mode == 'Animation':\n",
        "  frames_between = 40 #@param {type:\"number\"}\n",
        "# Too bad it doen't hide form field here, maybe frames_between should be inline\n",
        "\n",
        "if list_mode == 'Animation':\n",
        "  text_prompts = {}\n",
        "  frame = 0\n",
        "  print('text_prompts = {')\n",
        "  for pr in prompts:\n",
        "    text_prompts[frame] = pr\n",
        "    print(f'  {frame}: [\"' + '\", \"'.join(pr) + '\"],')\n",
        "    frame += frames_between\n",
        "  print('}')\n",
        "if list_mode == 'Images':\n",
        "  print('text_prompts = (')\n",
        "  for pr in prompts:\n",
        "    #text_prompts[frame] = pr\n",
        "    print(f'  [\"' + '\", \"'.join(pr) + '\"],')\n",
        "  print(')')\n",
        "if list_mode == 'Simple Text':\n",
        "  for pr in prompts:\n",
        "    print(pr[0].rpartition(':')[0] + ' ' + pr[1].rpartition(':')[0] + ', ' + pr[2].rpartition(':')[0])"
      ],
      "metadata": {
        "cellView": "form",
        "id": "SLaqAUNMt13_"
      },
      "id": "SLaqAUNMt13_",
      "execution_count": null,
      "outputs": []
    },
    {
      "cell_type": "markdown",
      "source": [
        "### Run Diffusion and wait for the random magic..."
      ],
      "metadata": {
        "id": "LEM7h7M7oxFV"
      },
      "id": "LEM7h7M7oxFV"
    },
    {
      "cell_type": "code",
      "source": [
        "%%time\n",
        "from discoart import create\n",
        "from google.colab import files\n",
        "from google.colab import drive\n",
        "import os\n",
        "import shutil\n",
        "import string\n",
        "drive.mount('/content/drive')\n",
        "dpath='/content/drive/MyDrive/AI/Disco_Diffusion/DiscoArt'\n",
        "if not os.path.isdir(dpath): os.mkdir(dpath)\n",
        "def format_filename(s):\n",
        "    valid_chars = \"-_.() %s%s\" % (string.ascii_letters, string.digits)\n",
        "    filename = ''.join(c for c in s if c in valid_chars)\n",
        "    filename = filename.replace(' ','_')\n",
        "    return filename[:248]\n",
        "\n",
        "for pr in prompts:\n",
        "  name=format_filename(pr[0])\n",
        "  da = create(batch_name=name[:85], text_prompts=pr,\n",
        "        #init_image='https://d2vyhzeko0lke5.cloudfront.net/2f4f6dfa5a05e078469ebe57e77b72f0.png',\n",
        "        n_batches=1,\n",
        "        clip_guidance_scale=15000,\n",
        "        width_height=[1280, 720],\n",
        "        seed=2222,\n",
        "        steps=250,\n",
        "        sat_scale=20000,\n",
        "        cutn_batches=1,\n",
        "        clamp_grad=True,\n",
        "        clamp_max=0.09,\n",
        "        cut_overview=\"[15]*300+[14]*100+[12]*100+[6]*100+[4]*100+[2]*100+[0]*200\",\n",
        "        cut_innercut=\"[1]*300+[2]*100+[4]*100+[10]*100+[12]*100+[14]*100+[16]*200\",\n",
        "        cut_icgray_p=\"[0.7]*100+[0.6]*100+[0.45]*100+[0.3]*100+[0]*600\",\n",
        "        cut_ic_pow=\"[5]*1000\",\n",
        "        eta=0.75,\n",
        "        #cut_overview='[20]*200+[18]*200+[8]*200+[8]*200+[2]*200',\n",
        "        #cut_innercut='[0]*200+[2]*200+[4]*200+[6]*200+[10]*200',\n",
        "        #cut_ic_pow='[0]*200+[10]*200+[10]*200+[60]*200+[80]*200',\n",
        "        clip_models=['ViT-B-32::openai','ViT-B-16::openai','ViT-L-14::openai','RN50::cc12m','RN101::yfcc15m'],\n",
        "        display_rate=10)\n",
        "  for idx, d in enumerate(da):\n",
        "    fname = f'{name}-{idx}.png'\n",
        "    fpath = f'/content/{fname}'\n",
        "    d.save_uri_to_file(fname)\n",
        "    shutil.copy(fpath, dpath)"
      ],
      "metadata": {
        "id": "C5exRa7ShGoC"
      },
      "id": "C5exRa7ShGoC",
      "execution_count": null,
      "outputs": []
    },
    {
      "cell_type": "markdown",
      "source": [
        "# Noodle Soup Prompt Variables Instructions\n",
        "To use a term database, simply use one of keys below. \n",
        "\n",
        "For example if you wanted beauty adjective, you would write `_adj-beauty_` in your prompt. \n",
        "\n",
        "## Terminology Keys\n",
        "\n",
        "### &nbsp;&nbsp;&nbsp;&nbsp;&nbsp;&nbsp;&nbsp; Adjective Types\n",
        "   - `_adj-architecture_` - A list of architectural adjectives and styles\n",
        "   - `_adj-beauty_` - A list of beauty adjectives for people (maybe things?)\n",
        "   - `_adj-general_` - A list of general adjectives for people/things.\n",
        "   - `_adj-horror_` - A list of horror adjectives\n",
        "### Art Types\n",
        "   - `_artist_` - A comprehensive list of artists\n",
        "   - `_color_` - A comprehensive list of colors\n",
        "   - `_style_` - A list of art styles and mediums\n",
        "### Computer Graphics Types\n",
        "   - `_3d-terms_` - A list of 3D graphics terminology\n",
        "   - `_color-palette_` - A list of computer and video game console color palettes\n",
        "   - `_hd_` - A list of high definition resolution terms\n",
        "### Miscellaneous Types\n",
        "   - `_site_` - A list of websites to query\n",
        "   - `_nationality_` - A list of nationalities\n",
        "### Noun Types\n",
        "   - `_noun-beauty_` - A list of beauty related nouns\n",
        "   - `_noun-emote_` - A list of emotions and expressions\n",
        "   - `_noun-fantasy_` - A list of fantasy nouns\n",
        "   - `_noun-general_` - A list of general nouns\n",
        "   - `_noun-horror_` - A list of horror nouns\n",
        "### Photography / Image / Film Types\n",
        "   - `_aspect-ratio_` - A list of common aspect ratios\n",
        "   - `_cameras_` - A list of camera models *(including manufactuerer)*\n",
        "   - `_camera-manu_` - A list of camera manufacturers\n",
        "   - `_f-stop_` - A list of camera aperture f-stop\n",
        "   - `_focal-length_` - A list of focal length ranges\n",
        "   - `_photo-term_` - A list of photography terms relating to photos\n",
        "\n",
        "From https://github.com/WASasquatch/noodle-soup-prompts/blob/main/nsp_pantry.py and https://colab.research.google.com/drive/1ci7xDf7kidudNdUxUfmdkyWhjBMwu4pB#scrollTo=RbwymioxBBsx\n",
        "\n",
        "So in Subject try something like:\n",
        "`A _color_ _noun-general_ that is _adj-beauty_ and _adj-general_ with a _noun-emote_ _noun-fantasy_`"
      ],
      "metadata": {
        "id": "Tx8_GwlQQnNF"
      },
      "id": "Tx8_GwlQQnNF"
    },
    {
      "cell_type": "markdown",
      "source": [
        "# Structured Prompt Writer"
      ],
      "metadata": {
        "id": "te_bq0E2HHLG"
      },
      "id": "te_bq0E2HHLG"
    },
    {
      "cell_type": "code",
      "source": [
        "import random\n",
        "\n",
        "#@markdown Construct your DiscoDiffusion Art descriptions easier, with all the extras you need to engineer perfect prompts faster\n",
        "\n",
        "art_Subjects = \"A _color_ _noun-general_ that is _adj-beauty_ and _adj-general_ with a _noun-emote_ _noun-fantasy_\" #@param {type:\"string\"}\n",
        "#@markdown List one or more separated by commas, or leave blank for only random\n",
        "by_Artists = \"_artist_\" #@param {type:\"string\"}\n",
        "art_Styles = \"_style_\" #@param {type:\"string\"}\n",
        "#phrase_as_subject = False #@param {type:\"boolean\"}\n",
        "#@markdown If you don't want to add random Artists & Styles, set to 0.  Random picks are added to your list\n",
        "random_artists = 2 #@param {type:\"integer\"}\n",
        "random_styles = 2 #@param {type:\"integer\"}\n",
        "mod_noText = True #@param {type:\"boolean\"}\n",
        "mod_noBlur = True #@param {type:\"boolean\"}\n",
        "mod_noArtifacts = True #@param {type:\"boolean\"}\n",
        "mod_noDeformed = False #@param {type:\"boolean\"}\n",
        "mod_Artstation = True #@param {type:\"boolean\"}\n",
        "mod_Photorealistic = False #@param {type:\"boolean\"}\n",
        "mod_Detailed = True #@param {type:\"boolean\"}\n",
        "mod_3DRendered = False #@param {type:\"boolean\"}\n",
        "mod_WideAngle = False #@param {type:\"boolean\"}\n",
        "#@markdown Add any additional modifiers, including weights with :4 to :-1\n",
        "mod_Custom = \"\" #@param {type:\"string\"}\n",
        "mod_Custom2 = \"\" #@param {type:\"string\"}\n",
        "weight_Subject = 3 #@param {type:\"number\"}\n",
        "weight_Artists = 2 #@param {type:\"number\"}\n",
        "weight_Styles = 1.5 #@param {type:\"number\"}\n",
        "weight_NegativeMods = -2 #@param {type:\"number\"}\n",
        "weight_PositiveMods = 1 #@param {type:\"number\"}\n",
        "#@markdown After run, copy and paste to your text_prompts list. Rerun for new randoms.\n",
        "\n",
        "artists = ( \"Ivan Aivazovsky\", \"Beeple\", \"Zdzislaw Beksinski\", \"Albert Bierstadt\", \"Noah Bradley\", \"Jim Burns\", \"John Harris\", \"John Howe\", \"Thomas Kinkade\", \"Gediminas Pranckevicius\", \"Andreas Rocha\", \"Marc Simonetti\", \"Simon Stalenhag\", \"Yuumei\", \"Asher Brown Durand\", \"Tyler Edlin\", \"Jesper Ejsing\", \"Peter Mohrbacher\", \"RHADS\", \"Greg Rutkowski\", \"H.P. Lovecraft\", \"George Lucas\", \"Benoit B. Mandelbrot\", \"Edwin Austin Abbey\", \"Ansel Adams\", \"Arthur Adams\", \"Charles Addams\", \"Alena Aenami\", \"Pieter Aertsen\", \"Hilma af Klint\", \"Affandi\", \"Leonid Afremov\", \"Eileen Agar\", \"Ivan Aivazovsky\", \"Anni Albers\", \"Josef Albers\", \"Ivan Albright\", \"Yoshitaka Amano\", \"Cuno Amiet\", \"Sophie Anderson\", \"Wes Anderson\", \"Esao Andrews\", \"Charles Angrand\", \"Sofonisba Anguissola\", \"Hirohiko Araki\", \"Nobuyoshi Araki\", \"Shinji Aramaki\", \"Diane Arbus\", \"Giuseppe Arcimboldo\", \"Steve Argyle\", \"Jean Arp\", \"Artgerm\", \"John James Audubon\", \"Frank Auerbach\", \"Milton Avery\", \"Tex Avery\", \"Harriet Backer\", \"Francis Bacon\", \"Peter Bagge\", \"Tom Bagshaw\", \"Karol Bak\", \"Christopher Balaskas\", \"Hans Baldung\", \"Ronald Balfour\", \"Giacomo Balla\", \"Banksy\", \"Cicely Mary Barker\", \"Carl Barks\", \"Wayne Barlowe\", \"Jean-Michel Basquiat\", \"Jules Bastien-Lepage\", \"David Bates\", \"John Bauer\", \"Aubrey Beardsley\", \"Jasmine Becket-Griffith\", \"Max Beckmann\", \"Beeple\", \"Zdzislaw Beksinski\", \"Zdzisław Beksiński\", \"Julie Bell\", \"Hans Bellmer\", \"John Berkey\", \"Émile Bernard\", \"Elsa Beskow\", \"Albert Bierstadt\", \"Enki Bilal\", \"Ivan Bilibin\", \"Simon Bisley\", \"Charles Blackman\", \"Thomas Blackshear\", \"Mary Blair\", \"Quentin Blake\", \"William Blake\", \"Antoine Blanchard\", \"John Blanche\", \"Pascal Blanché\", \"Karl Blossfeldt\", \"Don Bluth\", \"Umberto Boccioni\", \"Arnold Böcklin\", \"Chesley Bonestell\", \"Franklin Booth\", \"Guido Borelli da Caluso\", \"Marius Borgeaud\", \"Hieronymous Bosch\", \"Hieronymus Bosch\", \"Sam Bosma\", \"Johfra Bosschart\", \"Sandro Botticelli\", \"William-Adolphe Bouguereau\", \"Louise Bourgeois\", \"Eleanor Vere Boyle\", \"Noah Bradley\", \"Victor Brauner\", \"Austin Briggs\", \"Raymond Briggs\", \"Mark Briscoe\", \"Romero Britto\", \"Gerald Brom\", \"Mark Brooks\", \"Patrick Brown\", \"Pieter Bruegel the Elder\", \"Bernard Buffet\", \"Laurel Burch\", \"Charles E. Burchfield\", \"David Burdeny\", \"Richard Burlet\", \"David Burliuk\", \"Edward Burne-Jones\", \"Jim Burns\", \"William S. Burroughs\", \"Gaston Bussière\", \"Kaethe Butcher\", \"Jack Butler Yeats\", \"Bob Byerley\", \"Alexandre Cabanel\", \"Ray Caesar\", \"Claude Cahun\", \"Zhichao Cai\", \"Randolph Caldecott\", \"Alexander Milne Calder\", \"Clyde Caldwell\", \"Eddie Campbell\", \"Pascale Campion\", \"Canaletto\", \"Caravaggio\", \"Annibale Carracci\", \"Carl Gustav Carus\", \"Santiago Caruso\", \"Mary Cassatt\", \"Paul Cézanne\", \"Marc Chagall\", \"Marcel Chagall\", \"Yanjun Cheng\", \"Sandra Chevrier\", \"Judy Chicago\", \"James C. Christensen\", \"Frederic Church\", \"Mikalojus Konstantinas Ciurlionis\", \"Pieter Claesz\", \"Amanda Clark\", \"Harry Clarke\", \"Thomas Cole\", \"Mat Collishaw\", \"John Constable\", \"Cassius Marcellus Coolidge\", \"Richard Corben\", \"Lovis Corinth\", \"Joseph Cornell\", \"Camille Corot\", \"cosmic nebulae\", \"Gustave Courbet\", \"Lucas Cranach the Elder\", \"Walter Crane\", \"Craola\", \"Gregory Crewdson\", \"Henri-Edmond Cross\", \"Robert Crumb\", \"Tivadar Csontváry Kosztka\", \"Krenz Cushart\", \"Leonardo da Vinci\", \"Richard Dadd\", \"Louise Dahl-Wolfe\", \"Salvador Dalí\", \"Farel Dalrymple\", \"Geof Darrow\", \"Honoré Daumier\", \"Jack Davis\", \"Marc Davis\", \"Stuart Davis\", \"Craig Davison\", \"Walter Percy Day\", \"Pierre Puvis de Chavannes\", \"Giorgio de Chirico\", \"Pieter de Hooch\", \"Elaine de Kooning\", \"Willem de Kooning\", \"Evelyn De Morgan\", \"Henri de Toulouse-Lautrec\", \"Richard Deacon\", \"Roger Dean\", \"Michael Deforge\", \"Edgar Degas\", \"Lise Deharme\", \"Eugene Delacroix\", \"Beauford Delaney\", \"Sonia Delaunay\", \"Nicolas Delort\", \"Paul Delvaux\", \"Jean Delville\", \"Martin Deschambault\", \"Brian Despain\", \"Vincent Di Fate\", \"Steve Dillon\", \"Walt Disney\", \"Tony DiTerlizzi\", \"Steve Ditko\", \"Anna Dittmann\", \"Otto Dix\", \"Óscar Domínguez\", \"Russell Dongjun Lu\", \"Stanley Donwood\", \"Gustave Doré\", \"Dave Dorman\", \"Arthur Dove\", \"Richard Doyle\", \"Tim Doyle\", \"Philippe Druillet\", \"Joseph Ducreux\", \"Edmund Dulac\", \"Asher Brown Durand\", \"Albrecht Dürer\", \"Thomas Eakins\", \"Eyvind Earle\", \"Jeff Easley\", \"Tyler Edlin\", \"Jason Edmiston\", \"Les Edwards\", \"Bob Eggleton\", \"Jesper Ejsing\", \"El Greco\", \"Olafur Eliasson\", \"Harold Elliott\", \"Dean Ellis\", \"Larry Elmore\", \"Peter Elson\", \"Ed Emshwiller\", \"Kilian Eng\", \"James Ensor\", \"Max Ernst\", \"Elliott Erwitt\", \"M.C. Escher\", \"Richard Eurich\", \"Glen Fabry\", \"Anton Fadeev\", \"Shepard Fairey\", \"John Philip Falter\", \"Lyonel Feininger\", \"Joe Fenton\", \"Agustín Fernández\", \"Roberto Ferri\", \"Hugh Ferriss\", \"David Finch\", \"Virgil Finlay\", \"Howard Finster\", \"Anton Otto Fischer\", \"Paul Gustav Fischer\", \"Paul Gustave Fischer\", \"Art Fitzpatrick\", \"Dan Flavin\", \"Kaja Foglio\", \"Phil Foglio\", \"Chris Foss\", \"Hal Foster\", \"Jean-Honoré Fragonard\", \"Victoria Francés\", \"Lisa Frank\", \"Frank Frazetta\", \"Kelly Freas\", \"Lucian Freud\", \"Caspar David Friedrich\", \"Brian Froud\", \"Wendy Froud\", \"Ernst Fuchs\", \"Goro Fujita\", \"Henry Fuseli\", \"Thomas Gainsborough\", \"Emile Galle\", \"Stephen Gammell\", \"Hope Gangloff\", \"Antoni Gaudi\", \"Antoni Gaudí\", \"Jack Gaughan\", \"Paul Gauguin\", \"Giovanni Battista Gaulli\", \"Nikolai Ge\", \"Emma Geary\", \"Anne Geddes\", \"Jeremy Geddes\", \"Artemisia Gentileschi\", \"Justin Gerard\", \"Jean-Leon Gerome\", \"Jean-Léon Gérôme\", \"Atey Ghailan\", \"Alberto Giacometti\", \"Donato Giancola\", \"Dave Gibbons\", \"H. R. Giger\", \"James Gilleard\", \"Jean Giraud\", \"Milton Glaser\", \"Warwick Goble\", \"Andy Goldsworthy\", \"Hendrick Goltzius\", \"Natalia Goncharova\", \"Rob Gonsalves\", \"Josan Gonzalez\", \"Edward Gorey\", \"Arshile Gorky\", \"Francisco Goya\", \"J. J. Grandville\", \"Jane Graverol\", \"Mab Graves\", \"Laurie Greasley\", \"Kate Greenaway\", \"Alex Grey\", \"Peter Gric\", \"Carne Griffiths\", \"John Atkinson Grimshaw\", \"Henriette Grindat\", \"Matt Groening\", \"William Gropper\", \"George Grosz\", \"Matthias Grünewald\", \"Rebecca Guay\", \"James Gurney\", \"Philip Guston\", \"Sir James Guthrie\", \"Zaha Hadid\", \"Ernst Haeckel\", \"Sydney Prior Hall\", \"Asaf Hanuka\", \"Tomer Hanuka\", \"David A. Hardy\", \"Keith Haring\", \"John Harris\", \"Lawren Harris\", \"Marsden Hartley\", \"Ryohei Hase\", \"Jacob Hashimoto\", \"Martin Johnson Heade\", \"Erich Heckel\", \"Michael Heizer\", \"Steve Henderson\", \"Patrick Heron\", \"Ryan Hewett\", \"Jamie Hewlett\", \"Brothers Hildebrandt\", \"Greg Hildebrandt\", \"Tim Hildebrandt\", \"Miho Hirano\", \"Adolf Hitler\", \"Hannah Hoch\", \"David Hockney\", \"Filip Hodas\", \"Howard Hodgkin\", \"Ferdinand Hodler\", \"William Hogarth\", \"Katsushika Hokusai\", \"Carl Holsoe\", \"Winslow Homer\", \"Edward Hopper\", \"Aaron Horkey\", \"Kati Horna\", \"Ralph Horsley\", \"John Howe\", \"John Hoyland\", \"Arthur Hughes\", \"Edward Robert Hughes\", \"Friedensreich Regentag Dunkelbunt Hundertwasser\", \"Hundertwasser\", \"William Henry Hunt\", \"Louis Icart\", \"Ismail Inceoglu\", \"Bjarke Ingels\", \"George Inness\", \"Shotaro Ishinomori\", \"Junji Ito\", \"Johannes Itten\", \"Ub Iwerks\", \"Alexander Jansson\", \"Jarosław Jaśnikowski\", \"James Jean\", \"Ruan Jia\", \"Martine Johanna\", \"Richard S. Johnson\", \"Jeffrey Catherine Jones\", \"Peter Andrew Jones\", \"Kim Jung Gi\", \"Joe Jusko\", \"Frida Kahlo\", \"M.W. Kaluta\", \"Wassily Kandinsky\", \"Terada Katsuya\", \"Audrey Kawasaki\", \"Hasui Kawase\", \"Zhang Kechun\", \"Felix Kelly\", \"John Frederick Kensett\", \"Rockwell Kent\", \"Hendrik Kerstens\", \"Brian Kesinger\", \"Jeremiah Ketner\", \"Adonna Khare\", \"Kitty Lange Kielland\", \"Thomas Kinkade\", \"Jack Kirby\", \"Ernst Ludwig Kirchner\", \"Tatsuro Kiuchi\", \"Mati Klarwein\", \"Jon Klassen\", \"Paul Klee\", \"Yves Klein\", \"Heinrich Kley\", \"Gustav Klimt\", \"Daniel Ridgway Knight\", \"Nick Knight\", \"Daniel Ridgway Knights\", \"Ayami Kojima\", \"Oskar Kokoschka\", \"Käthe Kollwitz\", \"Satoshi Kon\", \"Jeff Koons\", \"Konstantin Korovin\", \"Leon Kossoff\", \"Hugh Kretschmer\", \"Barbara Kruger\", \"Alfred Kubin\", \"Arkhyp Kuindzhi\", \"Kengo Kuma\", \"Yasuo Kuniyoshi\", \"Yayoi Kusama\", \"Ilya Kuvshinov\", \"Chris LaBrooy\", \"Raphael Lacoste\", \"Wilfredo Lam\", \"Mikhail Larionov\", \"Abigail Larson\", \"Jeffrey T. Larson\", \"Carl Larsson\", \"Dorothy Lathrop\", \"John Lavery\", \"Edward Lear\", \"André Leblanc\", \"Bastien Lecouffe-Deharme\", \"Alan Lee\", \"Jim Lee\", \"Heinrich Lefler\", \"Paul Lehr\", \"Edmund Leighton\", \"Frederick Lord Leighton\", \"Jeff Lemire\", \"Isaac Levitan\", \"J.C. Leyendecker\", \"Roy Lichtenstein\", \"Rob Liefeld\", \"Malcolm Liepke\", \"Jeremy Lipking\", \"Filippino Lippi\", \"Laurie Lipton\", \"Michal Lisowski\", \"Scott Listfield\", \"Cory Loftis\", \"Travis Louie\", \"George Luks\", \"Dora Maar\", \"August Macke\", \"Margaret Macdonald Mackintosh\", \"Clive Madgwick\", \"Lee Madgwick\", \"Rene Magritte\", \"Don Maitz\", \"Kazimir Malevich\", \"Édouard Manet\", \"Jeremy Mann\", \"Sally Mann\", \"Franz Marc\", \"Chris Mars\", \"Otto Marseus van Schrieck\", \"John Martin\", \"Masaaki Masamoto\", \"André Masson\", \"Henri Matisse\", \"Leiji Matsumoto\", \"Taiyō Matsumoto\", \"Roberto Matta\", \"Rodney Matthews\", \"David B. Mattingly\", \"Peter Max\", \"Marco Mazzoni\", \"Robert McCall\", \"Todd McFarlane\", \"Ryan McGinley\", \"Dave McKean\", \"Kelly McKernan\", \"Angus McKie\", \"Ralph McQuarrie\", \"Ian McQue\", \"Syd Mead\", \"Józef Mehoffer\", \"Eddie Mendoza\", \"Adolph Menzel\", \"Maria Sibylla Merian\", \"Daniel Merriam\", \"Jean Metzinger\", \"Michelangelo\", \"Mike Mignola\", \"Frank Miller\", \"Ian Miller\", \"Russ Mills\", \"Victor Adame Minguez\", \"Joan Miro\", \"Kentaro Miura\", \"Paula Modersohn-Becker\", \"Amedeo Modigliani\", \"Moebius\", \"Peter Mohrbacher\", \"Piet Mondrian\", \"Claude Monet\", \"Jean-Baptiste Monge\", \"Kent Monkman\", \"Alyssa Monks\", \"Sailor Moon\", \"Chris Moore\", \"Gustave Moreau\", \"William Morris\", \"Igor Morski\", \"John Kenn Mortensen\", \"Victor Moscoso\", \"Grandma Moses\", \"Robert Motherwell\", \"Alphonse Mucha\", \"Craig Mullins\", \"Augustus Edwin Mulready\", \"Dan Mumford\", \"Edvard Munch\", \"Gabriele Münter\", \"Gerhard Munthe\", \"Takashi Murakami\", \"Patrice Murciano\", \"Go Nagai\", \"Hiroshi Nagai\", \"Tibor Nagy\", \"Ted Nasmith\", \"Alice Neel\", \"Odd Nerdrum\", \"Mikhail Nesterov\", \"C. R. W. Nevinson\", \"Helmut Newton\", \"Victo Ngai\", \n",
        "           \"Dustin Nguyen\", \"Kay Nielsen\", \"Tsutomu Nihei\", \"Yasushi Nirasawa\", \"Sidney Nolan\", \"Emil Nolde\", \"Sven Nordqvist\", \"Earl Norem\", \"Marianne North\", \"Georgia O'Keeffe\", \"Terry Oakes\", \"Takeshi Obata\", \"Eiichiro Oda\", \"Koson Ohara\", \"Noriyoshi Ohrai\", \"Marek Okon\", \"Méret Oppenheim\", \"Katsuhiro Otomo\", \"Shohei Otomo\", \"Siya Oum\", \"Ida Rentoul Outhwaite\", \"James Paick\", \"David Palumbo\", \"Michael Parkes\", \"Keith Parkinson\", \"Maxfield Parrish\", \"Alfred Parsons\", \"Max Pechstein\", \"Agnes Lawrence Pelton\", \"Bruce Pennington\", \"John Perceval\", \"Gaetano Pesce\", \"Coles Phillips\", \"Francis Picabia\", \"Pablo Picasso\", \"Mauro Picenardi\", \"Anton Pieck\", \"Bonnard Pierre\", \"Yuri Ivanovich Pimenov\", \"Robert Antoine Pinchon\", \"Giovanni Battista Piranesi\", \"Camille Pissarro\", \"Patricia Polacco\", \"Jackson Pollock\", \"Lyubov Popova\", \"Candido Portinari\", \"Beatrix Potter\", \"Beatrix Potter\", \"Gediminas Pranckevicius\", \"Dod Procter\", \"Howard Pyle\", \"Arthur Rackham\", \"Alice Rahon\", \"Paul Ranson\", \"Raphael\", \"Robert Rauschenberg\", \"Man Ray\", \"Odilon Redon\", \"Pierre-Auguste Renoir\", \"Ilya Repin\", \"RHADS\", \"Gerhard Richter\", \"Diego Rivera\", \"Hubert Robert\", \"Andrew Robinson\", \"Charles Robinson\", \"W. Heath Robinson\", \"Andreas Rocha\", \"Norman Rockwell\", \"Nicholas Roerich\", \"Conrad Roset\", \"Bob Ross\", \"Jessica Rossier\", \"Ed Roth\", \"Mark Rothko\", \"Georges Rouault\", \"Henri Rousseau\", \"Luis Royo\", \"Jakub Rozalski\", \"Joao Ruas\", \"Peter Paul Rubens\", \"Mark Ryden\", \"Jan Pietersz Saenredam\", \"Pieter Jansz Saenredam\", \"Kay Sage\", \"Apollonia Saintclair\", \"John Singer Sargent\", \"Martiros Saryan\", \"Masaaki Sasamoto\", \"Thomas W Schaller\", \"Miriam Schapiro\", \"Yohann Schepacz\", \"Egon Schiele\", \"Karl Schmidt-Rottluff\", \"Charles Schulz\", \"Charles Schulz\", \"Carlos Schwabe\", \"Sean Scully\", \"Franz Sedlacek\", \"Maurice Sendak\", \"Zinaida Serebriakova\", \"Georges Seurat\", \"Ben Shahn\", \"Barclay Shaw\", \"E. H. Shepard\", \"Cindy Sherman\", \"Makoto Shinkai\", \"Yoji Shinkawa\", \"Chiharu Shiota\", \"Masamune Shirow\", \"Ivan Shishkin\", \"Bill Sienkiewicz\", \"Greg Simkins\", \"Marc Simonetti\", \"Kevin Sloan\", \"Adrian Smith\", \"Douglas Smith\", \"Jeffrey Smith\", \"Pamela Coleman Smith\", \"Zack Snyder\", \"Simeon Solomon\", \"Joaquín Sorolla\", \"Ettore Sottsass\", \"Chaïm Soutine\", \"Austin Osman Spare\", \"Sparth \", \"Art Spiegelman\", \"Simon Stalenhag\", \"Ralph Steadman\", \"William Steig\", \"Joseph Stella\", \"Irma Stern\", \"Anne Stokes\", \"James Stokoe\", \"William Stout\", \"George Stubbs\", \"Tatiana Suarez\", \"Ken Sugimori\", \"Hiroshi Sugimoto\", \"Brian Sum\", \"Matti Suuronen\", \"Raymond Swanland\", \"Naoko Takeuchi\", \"Rufino Tamayo\", \"Shaun Tan\", \"Yves Tanguay\", \"Henry Ossawa Tanner\", \"Dorothea Tanning\", \"Ben Templesmith\", \"theCHAMBA\", \"Tom Thomson\", \"Storm Thorgerson\", \"Bridget Bate Tichenor\", \"Louis Comfort Tiffany\", \"Tintoretto\", \"James Tissot\", \"Titian\", \"Akira Toriyama\", \"Ross Tran\", \"Clovis Trouille\", \"J.M.W. Turner\", \"James Turrell\", \"Daniela Uhlig\", \"Boris Vallejo\", \"Gustave Van de Woestijne\", \"Frits Van den Berghe\", \"Anthony van Dyck\", \"Jan van Eyck\", \"Vincent Van Gogh\", \"Willem van Haecht\", \"Rembrandt van Rijn\", \"Jacob van Ruisdael\", \"Salomon van Ruysdael\", \"Theo van Rysselberghe\", \"Remedios Varo\", \"Viktor Vasnetsov\", \"Kuno Veeber\", \"Diego Velázquez\", \"Giovanni Battista Venanzi\", \"Johannes Vermeer\", \"Alexej von Jawlensky\", \"Marianne von Werefkin\", \"Hendrick Cornelisz Vroom\", \"Mikhail Vrubel\", \"Louis Wain\", \"Ron Walotsky\", \"Andy Warhol\", \"John William Waterhouse\", \"Jean-Antoine Watteau\", \"George Frederic Watts\", \"Max Weber\", \"Gerda Wegener\", \"Edward Weston\", \"Michael Whelan\", \"James Abbott McNeill Whistler\", \"Tim White\", \"Coby Whitmore\", \"John Wilhelm\", \"Robert Williams\", \"Al Williamson\", \"Carel Willink\", \"Mike Winkelmann\", \"Franz Xaver Winterhalter\", \"Klaus Wittmann\", \"Liam Wong\", \"Paul Wonner\", \"Ashley Wood\", \"Grant Wood\", \"Patrick Woodroffe\", \"Frank Lloyd Wright\", \"Bernie Wrightson\", \"Andrew Wyeth\", \"Qian Xuan\", \"Takato Yamamoto\", \"Liu Ye\", \"Jacek Yerka\", \"Akihiko Yoshida\", \"Hiroshi Yoshida\", \"Skottie Young\", \"Konstantin Yuon\", \"Yuumei\", \"Amir Zand\", \"Fenghua Zhong\", \"Nele Zirnite\", \"Anders Zorn\") \n",
        "styles = ( \"1970s era\", \"2001: A Space Odyssey\", \"60s kitsch and psychedelia\", \"Aaahh!!! Real Monsters\", \"abstract illusionism\", \"afrofuturism\", \"alabaster\", \"alhambresque\", \"ambrotype\", \"american romanticism\", \"amethyst\", \"amigurumi\", \"anaglyph effect\", \"anaglyph filter\", \"Ancient Egyptian\", \"ancient Greek architecture\", \"anime\", \"art nouveau\", \"astrophotography\", \"at dawn\", \"at dusk\", \"at high noon\", \"at night\", \"atompunk\", \"aureolin\", \"avant-garde\", \"Avatar The Last Airbender\", \"Babylonian\", \"Baker-Miller pink\", \"Baroque\", \"Bauhaus\", \"biopunk\", \"bismuth\", \"Blade Runner 2049\", \"blueprint\", \"bokeh\", \"bonsai\", \"bright\", \"bronze\", \"brutalism\", \"burgundy\", \"Byzantine\", \"calotype\", \"Cambrian\", \"camcorder effect\", \"carmine\", \"cassette futurism\", \"cassettepunk\", \"catholicpunk\", \"cerulean\", \"chalk art\", \"chartreuse\", \"chiaroscuro\", \"chillwave\", \"chromatic aberration\", \"chrome\", \"Cirque du Soleil\", \"claymation\", \"clockpunk\", \"cloudpunk\", \"cobalt\", \"colored pencil art\", \"Concept Art World\", \"copper patina\", \"copper verdigris\", \"Coraline\", \"cosmic horror\", \"cottagecore\", \"crayon art\", \"crimson\", \"CryEngine\", \"crystalline lattice\", \"cubic zirconia\", \"cubism\", \"cyanotype\", \"cyber noir\", \"cyberpunk\", \"cyclopean masonry\", \"daguerreotype\", \"Danny Phantom\", \"dark academia\", \"dark pastel\", \"dark rainbow\", \"DayGlo\", \"decopunk\", \"Dexter's Lab\", \"diamond\", \"dieselpunk\", \"Digimon\", \"digital art\", \"doge\", \"dollpunk\", \"Doom engine\", \"Dreamworks\", \"dutch golden age\", \"Egyptian\", \"eldritch\", \"emerald\", \"empyrean\", \"Eraserhead\", \"ethereal\", \"expressionism\", \"Fantastic Planet\", \"Fendi\", \"figurativism\", \"fire\", \"fisheye lens\", \"fluorescent\", \"forestpunk\", \"fractal manifold\", \"fractalism\", \"fresco\", \"fuchsia\", \"futuresynth\", \"Game of Thrones\", \"german romanticism\", \"glitch art\", \"glittering\", \"golden\", \"golden hour\", \"gothic\", \"gothic art\", \"graffiti\", \"graphite\", \"grim dark\", \"Harry Potter\", \"holography\", \"Howl’s Moving Castle\", \"hygge\", \"hyperrealism\", \"icy\", \"ikebana\", \"impressionism\", \"in Ancient Egypt\", \"in Egypt\", \"in Italy\", \"in Japan\", \"in the Central African Republic\", \"in the desert\", \"in the jungle\", \"in the swamp\", \"in the tundra\", \"incandescent\", \"indigo\", \"infrared\", \"Interstellar\", \"inverted colors\", \"iridescent\", \"iron\", \"islandpunk\", \"isotype\", \"Kai Fine Art\", \"khaki\", \"kokedama\", \"Korean folk art\", \"lapis lazuli\", \"Lawrence of Arabia\", \"leather\", \"leopard print\", \"lilac\", \"liminal space\", \"long exposure\", \"Lord of the Rings\", \"Louis Vuitton\", \"Lovecraftian\", \"low poly\", \"mac and cheese\", \"macro lens\", \"magenta\", \"magic realism\", \"manga\", \"mariachi\", \"marimekko\", \"maroon\", \"Medieval\", \"Mediterranean\", \"modernism\", \"Monster Rancher\", \"moonstone\", \"Moulin Rouge!\", \"multiple exposure\", \"Myst\", \"nacreous\", \"narrative realism\", \"naturalism\", \"neon\", \"Nosferatu\", \"obsidian\", \"oil and canvas\", \"opalescent\", \"optical illusion\", \"optical art\", \"organometallics\", \"ossuary\", \"outrun\", \"Paleolithic\", \"Pan's Labyrinth\", \"pastel\", \"patina\", \"pearlescent\", \"pewter\", \"Pixar\", \"Play-Doh\", \"pointillism\", \"Pokemon\", \"polaroid\", \"porcelain\", \"positivism\", \"postcyberpunk\", \"Pride & Prejudice\", \"prismatic\", \"pyroclastic flow\", \"Quake engine\", \"quartz\", \"rainbow\", \"reflective\", \"Renaissance\", \"retrowave\", \"Rococo\", \"rococopunk\", \"ruby\", \"rusty\", \"Salad Fingers\", \"sapphire\", \"scarlet\", \"shimmering\", \"silk\", \"sketched\", \"Slenderman\", \"smoke\", \"snakeskin\", \"Spaceghost Coast to Coast\", \"stained glass\", \"Star Wars\", \"steampunk\", \"steel\", \"steelpunk\", \"still life\", \"stonepunk\", \"Stranger Things\", \"street art\", \"stuckism\", \"Studio Ghibli\", \"Sumerian\", \"surrealism\", \"symbolism\", \"synthwave\", \"telephoto lens\", \"thalassophobia\", \"thangka\", \"the matrix\", \"tiger print\", \"tilt-shift\", \"tintype\", \"tonalism\", \"Toonami\", \"turquoise\", \"Ukiyo-e\", \"ultramarine\", \"ultraviolet\", \"umber\", \"underwater photography\", \"Unreal Engine\", \"vantablack\", \"vaporwave\", \"verdigris\", \"Versacci\", \"viridian\", \"wabi-sabi\", \"watercolor painting\", \"wooden\", \"x-ray photography\", \"minimalist\", \"dadaist\", \"neo-expressionist\", \"post-impressionist\", \"hyper real\", \"Art brut\", \"3D rendering\", \"uncanny valley\", \"fractal landscape\", \"fractal flames\", \"Mandelbulb\", \"inception dream\", \"waking life\", \"occult inscriptions\", \"barr relief\", \"marble sculpture\", \"wood carving\", \"church stained glass\", \"Japanese jade\", \"Zoetrope\", \"beautiful\", \"wide-angle\", \"Digital Painting\", \"glossy reflections\", \"cinematic\", \"spooky\", \"Digital paint concept art\", \"dramatic\", \"global illumination\", \"immaculate\", \"woods\", ) \n",
        "\n",
        "# nsp_parse( prompt )\n",
        "# Input: dict, list, str\n",
        "# Parse strings for terminology keys and replace them with random terms\n",
        "def nsp_parse(prompt):\n",
        "  new_prompt = ''\n",
        "  new_prompts = []\n",
        "  new_dict = {}\n",
        "  ptype = type(prompt)\n",
        "\n",
        "  if ptype == dict:\n",
        "    for pkey, plist in prompt.items():\n",
        "      if type(plist) is list:\n",
        "        for pstr in plist:\n",
        "          new_prompt = pstr\n",
        "          for term in nspterminology:\n",
        "            tkey = f'_{term}_'\n",
        "            tcount = new_prompt.count(tkey)\n",
        "            for i in range(tcount):\n",
        "              new_prompt = new_prompt.replace(tkey, random.choice(nspterminology[term]), 1)\n",
        "          new_prompts.append(new_prompt)\n",
        "          new_prompt = None\n",
        "      new_dict[pkey] = new_prompts\n",
        "    return new_dict\n",
        "  elif ptype == list:\n",
        "    for pstr in prompt:\n",
        "      new_prompt = pstr\n",
        "      for term in nspterminology:\n",
        "        tkey = f'_{term}_'\n",
        "        tcount = new_prompt.count(tkey)\n",
        "        for i in range(tcount):\n",
        "          new_prompt = new_prompt.replace(tkey, random.choice(nspterminology[term]), 1)\n",
        "      new_prompts.append(new_prompt)\n",
        "      new_prompt = None\n",
        "    return new_prompts\n",
        "  elif ptype == str:\n",
        "    new_prompt = prompt\n",
        "    for term in nspterminology:\n",
        "      tkey = f'_{term}_'\n",
        "      tcount = new_prompt.count(tkey)\n",
        "      for i in range(tcount):\n",
        "        new_prompt = new_prompt.replace(tkey, random.choice(nspterminology[term]), 1)\n",
        "    return new_prompt\n",
        "  else:\n",
        "    return prompt\n",
        "\n",
        "nspterminology = {\n",
        "\t# BEAUTY/HANDSOME ADJECTIVES DATABASE\n",
        "\t\"adj-beauty\": [ \"aesthetic\", \"esthetic\", \"aesthetical\", \"esthetical\", \"attractive\", \"beauteous\", \"bonny\", \"bonnie\", \"comely\", \"cute\", \"drop-dead\", \"fair\", \"fetching\", \"good\", \"good-looking\", \"goodly\", \"gorgeous\", \"handsome\", \"knockout\", \"likely\", \"lovely\", \"lovesome\", \"pretty\", \"ravishing\", \"seemly\", \"sightly\", \"stunning\", \"taking\", \"well-favored\", \"alluring\", \"appealing\", \"charming\", \"cunning\", \"delightful\", \"engaging\", \"fascinating\", \"glamorous\", \"glamourous\", \"prepossessing\", \"elegant\", \"exquisite\", \"glorious\", \"Junoesque\", \"magnificent\", \"resplendent\", \"splendid\", \"statuesque\", \"sublime\", \"superb\", \"flawless\", \"perfect\", \"radiant\", \"dainty\", \"delicate\", \"personable\", \"pleasant\", \"presentable\", \"chocolate-box\", \"prettyish\", \"desirable\", \"dishy\", \"dollish\", \"foxy\", \"hot\", \"luscious\", \"nubile\", \"pulchritudinous\", \"seductive\", \"sexy\", \"toothsome\", \"hunky\", \"studly\", \"arresting\", \"eye-catching\", \"flamboyant\", \"flashy\", \"glossy\", \"showstopping\", \"showy\", \"slick\", \"snazzy\", \"splashy\", \"striking\", \"zingy\", \"photogenic\", \"telegenic\", ], \n",
        "\n",
        "\t# BEAUTY NOUNS DATABASE\n",
        "\t\"noun-beauty\": [ \"a perfect 10\", \"a vision\", \"admirer\", \"allure\", \"amazement\", \"angel\", \"appeal\", \"appreciation\", \"art\", \"artistry\", \"artwork\", \"awe\", \"beautiful creature\", \"beauty\", \"charm\", \"charmer\", \"composition\", \"cutie pie\", \"infatuation\", \"inner beauty\", \"jewel\", \"knockout\", \"longing\", \"look\", \"looker\", \"loveliness\", \"marvel\", \"miracle\", \"natural beauty\", \"object of desire\", \"objet d’art\", \"perfection\", \"purity\", \"rarity\", \"reverence\", \"sculpture\", \"dish\", \"doll\", \"dream\", \"dream girl\", \"dream guy\", \"dreamboat\", \"elegance\", \"enchanter\", \"exotic beauty\", \"eye candy\", \"eyeful\", \"feast for the eyes\", \"femininity\", \"fox\", \"glorification\", \"good looks\", \"good-looking person\", \"grace\", \"sex appeal\", \"sex symbol\", \"sight\", \"sophistication\", \"stunner\", \"stupor\", \"treasure\", \"uncontested beauty\", \"universal beauty\", \"visual feast\", \"visual poetry\", \"visual treat\", \"wonder\", \"wonderment\", \"work of art\", \"worshiper\", \"wow factor\", ], \n",
        "\n",
        "\t# FANTASY NOUNS DATABASE \n",
        "\t\"noun-fantasy\": [ \"Alchemy\", \"Apprentice\", \"Archer\", \"Armor\", \"Battering Ram\", \"Black Ice\", \"Black Magic\", \"Breaking Point\", \"Burn Mark\", \"Candlelight\", \"Castle Gate\", \"Castle Wall\", \"Castle\", \"Contempt\", \"Countermeasure\", \"Crossroads\", \"Crypt\", \"Dark Elf\", \"Dark Elves\", \"Defender\", \"Dragon\", \"Dreaming\", \"Drow Elf\", \"Drow Elves\", \"Dungeon\", \"Dwarf\", \"Dwarves\", \"Elf\", \"Elves\", \"Energy\", \"Explosion\", \"Fang\", \"Figure\", \"Folklore\", \"Gems\", \"Gemstones\", \"Gentle Wind\", \"Goblin\" \"Goblins\", \"Gold\", \"Golum\", \"Griffin\", \"Ground\", \"Gryphon\", \"Guard\", \"Guardhouse\", \"Guild\", \"Hippogriff\", \"Hobbit\", \"Hobbits\", \"Imp\", \"Imps\", \"Interloper\", \"King\", \"Knight\", \"Knight\", \"Lich\", \"Limit\", \"Magic Spell\", \"Magical Power\", \"Magnetic North\", \"Mayhem\", \"Melancholy\", \"Mercury\", \"Monster\", \"Moonbeam\", \"Mystic\", \"Necromancer\" \"Necromancer\", \"Nightmare\", \"Pandemonium\", \"Psychic\", \"Queen\", \"Radiation\", \"Resistance\", \"Retribution\", \"Rogue\", \"Royal\", \"Scroll\", \"Scrolls\", \"Serpent\", \"Shadows\", \"Shard\", \"Shoreline\", \"Sixth Sense\", \"Skeleton Warrior\", \"Skeleton\", \"Skeletons\", \"Society\", \"Sorcerer\", \"Sorceress\", \"Sorcery\", \"Southeast\", \"Spellcaster\", \"Spirit World\", \"Spirit\", \"Squire\", \"Stare Down\", \"Strike Down\", \"Stronghold\", \"Summoner\", \"Sunburst\", \"Survivor\", \"Sword\", \"Tarot Card\", \"Tavern\", \"Templar\", \"Third Eye\", \"Throw Back\", \"Thunderclap\", \"Treasure\", \"Turning\", \"Undead\", \"Undersurface\", \"Underworld\", \"Vampire\", \"Viper\", \"Warlock\", \"Warrior\", \"Watchman\", \"Whisperer\", \"Wind\", \"Witch\", \"Wizard\", \"Wizardry\", \"Wood Elf\", \"Wood Elves\", \"World\", ], \n",
        "\n",
        "\t# HORROR ADJECTIVES DATABASE\n",
        "\t\"adj-horror\": [ \"alarming\", \"dire\", \"direful\", \"dread\", \"dreadful\", \"fearful\", \"fearsome\", \"forbidding\", \"foreboding\", \"formidable\", \"frightening\", \"hair-raising\", \"horrendous\", \"horrible\", \"horrifying\", \"intimidating\", \"redoubtable\", \"shocking\", \"spine-chilling\", \"terrible\", \"terrifying\", \"daunting\", \"demoralizing\", \"disconcerting\", \"discouraging\", \"dismaying\", \"disquieting\", \"distressing\", \"disturbing\", \"perturbing\", \"startling\", \"threatening\", \"troubling\", \"trying\", \"unnerving\", \"atrocious\", \"awful\", \"dreadful\", \"frightful\", \"ghastly\", \"grisline\", \"gruesome\", \"hideous\", \"horrid\", \"monstrosity\", \"repulsive\", ], \n",
        "\n",
        "\t# EMOTION / EXPRESSIONS DATABASE\n",
        "\t\"noun-emote\": [ \"Happy\", \"Afraid\", \"Sad\", \"Hot\", \"Amused\", \"Bored\", \"Anxious\", \"Confident\", \"Cold\", \"Suspicious\", \"Surprised\", \"Loving\", \"Curious\", \"Envious\", \"Jealous\", \"Miserable\", \"Confused\", \"Stupid\", \"Angry\", \"Sick\", \"Ashamed\", \"Withdrawn\", \"Indifferent\", \"Sorry\", \"Determined\", \"Crazy\", \"Bashful\", \"Depressed\", \"Enraged\", \"Frightened\", \"Interested\", \"Shy\", \"Hopeful\", \"Regretful\", \"Scared\", \"Stubborn\", \"Thirsty\", \"Guilty\", \"Nervous\", \"Embarrassed\", \"Disgusted\", \"Proud\", \"Ecstatic\", \"Lonely\", \"Frustrated\", \"Hurt\", \"Hungry\", \"Tired\", \"Smug\", \"Thoughtful\", \"Pained\", \"Optimistic\", \"Relieved\", \"Puzzled\", \"Shocked\", \"Joyful\", \"Sleepy\", \"Excited\", \"Skeptical\", \"Bad\", \"Worried\", ],\n",
        "\n",
        "\t# HORROR NOUNS DATABASE\n",
        "\t\"noun-horror\": [ \"apparition\", \"enchanted\", \"ghost\", \"ghostly\", \"ghoulish\", \"goblin\", \"haunted house\", \"haunting\", \"hobgoblin\", \"levitation\", \"medium\", \"occult\", \"orbs\", \"the paranormal\", \"paranormal activity\", \"phantasm\", \"phantasms\" \"phantom\", \"poltergeist\", \"possessed\", \"possession\", \"seance\", \"specter\", \"spirit\", \"unearthly\", \"wraith\", \"potion\", \"tombstone\", \"death\", \"poltergeist\", \"demon\", \"crow\", \"ghoul\", \"ghost story\", \"hell\", \"graveyard\", \"monster\", \"full moon\", \"mummy\", \"devil incarnate\", \"vampire\", \"make-up\", \"spider web\", \"screams\", \"scary story\", \"vampire\", \"sorceress\", \"pumpkin\", \"mask\", \"headless horseman\", \"skulls\", \"fantasy\", \"horror\", \"creature\", \"specter\", \"moonlight\", \"doom\", \"nightmare\", \"threat\", \"eye of newt\", \"brains\", \"occult\", \"worms\", \"haunted house\", \"goblin\", \"witch\", \"bonfire\", \"fright\", \"werewolf\", \"noose\", \"shadow\", \"lightening\", \"bogeyman\", \"fire & brimstone\", \"hell-hound\", \"intestines\", \"darkness\", \"evil spirit\", \"trick\", \"superstition\", \"grave\", \"graves\", \"nightfall\", \"spider\", \"fangs\", \"phantom\", \"magic\", \"phenomena\", \"skeleton\", \"spirits\", \"pillow case\", \"werewolf\", \"tale of horror\", \"fog\", \"tomb\", \"corpse\", \"bones\", \"dead body\", \"zombie\", \"banshee\", \"bats\", \"blood\", \"terror\", \"cemetery\", \"haunting\", \"murder\", \"lightning\", \"thunder\", \"midnight\", \"raven\", \"cobweb\", \"cobwebs\", \"owl\", \"night of fright\", ],\n",
        "\n",
        "\t# ARCHITECTURE ADJECTIVES\n",
        "\t\"adj-architecture\": [ \"Minimalist\", \"Eclectic architecture\", \"Reflective\", \"Congested\", \"Streamlined\", \"Opaque\", \"Pleasant\", \"Gothic architecture\", \"Gothic Revival architecture\", \"Fabric\", \"Structure\", \"Suspended\", \"Facade\", \"Monolithic\", \"Diminutive\", \"Resemble\", \"Revivalist\", \"Streamline\", \"Economical\", \"Sparse\", \"Luxurious\", \"Compact\", \"Pervasive\", \"Effusive\", \"Tatami\", \"Shoji\", \"Fusuma\", \"Engawa\", \"Genkan\", \"Byzantine architecture\", \"Roman architecture\", \"Romanesque architecture\", \"Islamic architecture\", \"Persian architecture\", \"Renaissance architecture\", \"Baroque architecture\", \"Churrigueresque architecture\", \"Churrigueresco architecture\", \"Rococo architecture\", \"Bauhaus architecture\", \"Art Deco\", \"Art Nouveau\", \"Brutalism architecture\", \"Colonial architecture\", \"Composite architecture\", \"Corinthian architecture\", \"Decorated style\", \"Doric architecture\", \"Early Christian architecture\", \"Early English architecture\", \"Edwardian architecture\", \"Empire architecture\", \"Federation architecture\", \"functionalism\", \"Georgian architecture\", \"International Style\", \"Modernist\", \"Ionic\", \"Jacobean architecture\", \"Louis Quatorze\", \"Louis Quinze\", \"Louis Seize\", \"Louis Treize\", \"Mannerism\", \"Moderne\", \"Moorish architecture\", \"Morisco architecture\", \"Mudéjar architecture\", \"Neoclassicial\", \"Palladian\", \"perpendicular\", \"postmodernism\", \"post-modernism\", \"Queen-Anne architecture\", \"Regency architecture\", \"Saracen architecture\", \"transition\", \"transitional\", \"Tudor architecture\", \"Tuscan architecture\", \"Victorian architecture\", \"Cambodian Khmer architecture\", \"Buddhist architecture\", \"New Indies architecture\", \"French Colonial architecture\", \"Spanish Colonial architecture\", \"Vernacular\", \"Neo-Tropical\", \"Bilateral Symmetry\", \"Horizontal emphasis\", \"Cosmological concept architecture\", \"Imperial architecture\", \"Relgious architecture\", \"Confucius era\", \"Hui Style architecture\", \"Shanxi architecture\", \"Lingnan architecture\", \"Cantonese architecture\", \"Minnan architecture\", \"Hokkien architecture\", \"Hakka architecture\", \"Gan architecture\", \"Yaodong architecture\", \"Tibetan architecture\", \"Xinjiang architecture\", \"Hutong architecture\", \"Longtang architecture\", \"Shikumen architecture\", \"Shanghainese architecture\", \"Meiji architecture\", \"Taishō architecture\", \"Shōwa architecture\", \"Heisei architecture\", \"Meiji period\", \"Taishō period\", \"Shōwa period\", \"Heisei period\", \"Japanese aesthetic\", \"Chinese aesthetic\", \"Korean aesthetic\", \"Russian aesthetic\", \"Eastern Roman\", \"Pagan Roman\", \"Kievan Rus architecture\", \"Muscovite architecture\", \"Imperial Russia architecture\", \"Soviet Union architecture\", \"Postwar Soviet architecture\", \"Modern Russian architecture\", ],\n",
        "\n",
        "\t# NATIONALITY DATABASE\n",
        "\t\"nationality\": [ \"Afghan\", \"Albanian\", \"Algerian\", \"American\", \"Andorran\", \"Angolan\", \"Anguillan\", \"Citizen of Antigua\", \"Barbuda\", \"Argentine\", \"Armenian\", \"Australian\", \"Austrian\", \"Azerbaijani\", \"Bahamian\", \"Bahraini\", \"Bangladeshi\", \"Barbadian\", \"Belarusian\", \"Belgian\", \"Belizean\", \"Beninese\", \"Bermudian\", \"Bhutanese\", \"Bolivian\", \"Citizen of Bosnia\", \"Herzegovina\", \"Botswanan\", \"Brazilian\", \"British\", \"British Virgin Islander\", \"Bruneian\", \"Bulgarian\", \"Burkinan\", \"Burmese\", \"Burundian\", \"Cambodian\", \"Cameroonian\", \"Canadian\", \"Cape Verdean\", \"Cayman Islander\", \"Central African\", \"Chadian\", \"Chilean\", \"Chinese\", \"Colombian\", \"Comoran\", \"Congolese (Congo)\", \"Congolese (DRC)\", \"Cook Islander\", \"Costa Rican\", \"Croatian\", \"Cuban\", \"Cymraes\", \"Cymro\", \"Cypriot\", \"Czech\", \"Danish\", \"Djiboutian\", \"Dominican\", \"Citizen of the Dominican Republic\", \"Dutch\", \"East Timorese\", \"Ecuadorean\", \"Egyptian\", \"Emirati\", \"English\", \"Equatorial Guinean\", \"Eritrean\", \"Estonian\", \"Ethiopian\", \"Faroese\", \"Fijian\", \"Filipino\", \"Finnish\", \"French\", \"Gabonese\", \"Gambian\", \"Georgian\", \"German\", \"Ghanaian\", \"Gibraltarian\", \"Greek\", \"Greenlandic\", \"Grenadian\", \"Guamanian\", \"Guatemalan\", \"Citizen of Guinea-Bissau\", \"Guinean\", \"Guyanese\", \"Haitian\", \"Honduran\", \"Hong Konger\", \"Hungarian\", \"Icelandic\", \"Indian\", \"Indonesian\", \"Iranian\", \"Iraqi\", \"Irish\", \"Israeli\", \"Italian\", \"Ivorian\", \"Jamaican\", \"Japanese\", \"Jordanian\", \"Kazakh\", \"Kenyan\", \"Kittitian\", \"Citizen of Kiribati\", \"Kosovan\", \"Kuwaiti\", \"Kyrgyz\", \"Lao\", \"Latvian\", \"Lebanese\", \"Liberian\", \"Libyan\", \"Liechtenstein citizen\", \"Lithuanian\", \"Luxembourger\", \"Macanese\", \"Macedonian\", \"Malagasy\", \"Malawian\", \"Malaysian\", \"Maldivian\", \"Malian\", \"Maltese\", \"Marshallese\", \"Martiniquais\", \"Mauritanian\", \"Mauritian\", \"Mexican\", \"Micronesian\", \"Moldovan\", \"Monegasque\", \"Mongolian\", \"Montenegrin\", \"Montserratian\", \"Moroccan\", \"Mosotho\", \"Mozambican\", \"Namibian\", \"Nauruan\", \"Nepalese\", \"New Zealander\", \"Nicaraguan\", \"Nigerian\", \"Nigerien\", \"Niuean\", \"North Korean\", \"Northern Irish\", \"Norwegian\", \"Omani\", \"Pakistani\", \"Palauan\", \"Palestinian\", \"Panamanian\", \"Papua New Guinean\", \"Paraguayan\", \"Peruvian\", \"Pitcairn Islander\", \"Polish\", \"ortuguese\", \"Prydeinig\", \"Puerto Rican\", \"Qatari\", \"Romanian\", \"Russian\", \"Rwandan\", \"Salvadorean\", \"Sammarinese\", \"Samoan\", \"Sao Tomean\", \"Saudi Arabian\", \"Scottish\", \"Senegalese\", \"Serbian\", \"Citizen of Seychelles\", \"Sierra Leonean\", \"Singaporean\", \"Slovak\", \"Slovenian\", \"Solomon Islander\", \"Somali\", \"South African\", \"South Korean\", \"South Sudanese\", \"Spanish\", \"Sri Lankan\", \"St Helenian\", \"St Lucian\", \"Stateless\", \"Sudanese\", \"Surinamese\", \"Swazi\", \"Swedish\", \"Swiss\", \"Syrian\", \"Taiwanese\", \"Tajik\", \"Tanzanian\", \"Thai\", \"Togolese\", \"Tongan\", \"Trinidadian\", \"Tristanian\", \"Tunisian\", \"Turkish\", \"Turkmen\", \"Turks\", \"Caicos Islander\", \"Tuvaluan\", \"Ugandan\", \"Ukrainian\", \"Uruguayan\", \"Uzbek\", \"Vatican citizen\", \"Citizen of Vanuatu\", \"Venezuelan\", \"Vietnamese\", \"Vincentian\", \"Wallisian\", \"Welsh\", \"Yemeni\", \"Zambian\", \"Zimbabwean\", ],\n",
        "\n",
        "\t# SITE DATABASE\n",
        "\t\"site\": [ \"trending on ArtStation\", \"trending on ConceptArtWorld\", \"trending on Flickr\", \"trending on Behance\", \"trending on 500px\", \"trending on Getty Images\", \"trending on DeviantArt\", \"trending on Pixiv\", \"trending on IllustrationX\", \"trending on CGSociety\", \"trending on Unsplash\", \"trending on Google Images\", \"trending on Pinterest\", \"trending on Sketchfab\", \"trending on Artsy\", \"National Gallery of Art Highlights\", \"trending on Saatchi Art\", ],\n",
        "\n",
        "  # STYLE / FINISHES DATABASE\n",
        "\t\"style\": [ \"in the Style of Tempera\", \"in the Style of Oil Paints\", \"in the Style of Acrylic Paints\", \"in the Style of Watercolors\", \"in the Style of Charcoals\", \"in the Style of Pastels\", \"in the Style of Chalks\", \"in the Style of Graphite Pencils\", \"in the Style of Color Pencils\", \"in the Style of Ink and Pen\", \"in the Style of Digital Paintings\", \"in the Style of Vector Art\", \"in the Style of 3D Renderings\", \"in the Style of 3D Path Tracing\", \"in the Style of 3D Ray Tracing\", \"in the Style of 3D Sculpting\", \"in the Style of Matte Paintings\", \"in the Style of Digital Matte Paintings\", \"in the Style of Pixel Art #pixelart\", \"in the Style of 2D Animation\", \"in the Style of Concept Artist\", \"in the Style of Fractal Art\", \"in the Style of Algorithmic Art\", \"in the Style of Data-Moshing\", \"in the Style of Dynamic Paintings\", \"in the Style of Digital Collage\", \"in the Style of 2D Digital Paintings\", \"in the Style of 3D Digital Paintings\", \"in the Style of Integrated Arts\" \"in the Style of Mixed-Medium Arts\", \"in the Style of Raster Paintings\", ],\n",
        "\n",
        "\t# HD TERMS DATABASE\n",
        "\t\"hd\": [ \"2k resolution\", \"4k resolution\", \"8k resolution\", \"12k resolution\", \"16k resolution\", \"32k resolution\", \"High resolution\", \"High definition\", \"HD\", \"HDR\", \"Blu-ray\", \"HD-DVD\", ],\n",
        "\n",
        "\t# ASPECT RATIOS DATABASE\n",
        "\t\"aspect-ratio\": [ \"4:3 aspect ratio\", \"5:4 aspect ratio\", \"2:1 aspect ratio\", \"1.33:1 aspect ratio\", \"16:9 aspect ratio\", \"1.85:1 aspect ratio\", \"2.39:1 anamorphic aspect ratio\", \"2.76:1 (70mm) aspect ratio\", \"1.37:1 (Academy) aspect ratio\", \"2.59:1 (Cinerama) aspect ratio\", \"2.65:1 (Cinerama) aspect ratio\", \"2.35:1 (Cinemascope) aspect ratio\", \"2.66:1 (Cinemascope) aspect ratio\", ],\n",
        "\n",
        "\t# 3D GRAPHICS TERMINOLOGY DATABASE\n",
        "\t\"3d-terms\": [ \"2D Sprite\", \"Ambient Lighting\", \"Ambient Occlusion\", \"Anti-aliasing\", \"Augmented Reality\", \"Bitmap\", \"Cel shading\", \"Chromatic Abberation\", \"Direct Lighting\", \"Flat shading\", \"FXAA\", \"Global Illumination\", \"Indirect Illumination\", \"Lumen Global Illumination\", \"Manhattan Distance\", \"Microdisplacement\", \"Nanite Geometry\", \"Path Traced\", \"PBR Material\", \"Phong Shading\", \"Physically based rendering (PBR)\", \"Post Processed\", \"Procedural Generation\", \"Procedural Texture\", \"Raster graphics\", \"Ray Traced\", \"Screen space ambient occlusion\", \"Skybox\", \"Terrain rendering\", \"Tesselation\", \"Virtual reality\", \"Volumetric Lighting\", \"Voronoi Manhattan\", \"Voronoi Minkowski\", \"Voxel Engine\", \"Voxel Geometry\", \"Wireframe Model\", \"Wireframe Rendering\", ],\n",
        "\n",
        "\t# COMPUTER / CONSOLE COLOR PALETTES\n",
        "\t\"color-palette\": [ \"Teletext palette\", \"Apple II palette\", \"Commodore VIC-20 palette\", \"CGA for IBM-PC palette\", \"Commodore 64 palette\", \"ZX Spectrum palette\", \"Mattel Aquarius palette\", \"MSX systems color palette\", \"Thomson MO5 color palette\", \"Commodore Plus/4 color palette\", \"Amstrad CPC color palette\", \"MSX2 systems color palette\", \"Fujitsu FM-77 AV 40 color palette\", \"EGA for IBM PC/AT color palette\", \"Atari ST color palette\", \"Commodore Amiga OCS color palette\", \"Apple IIgs color palette\", \"Sharp X68000 color palette\", \"Atari 2600 color palette\", \"Famicom/NES color palette\", \"Sega Master System color palette\", \"NEC PC-Engine color palette\", \"TurboGrafx-16 color palette\", \"Sega Mega Drive color palette\", \"Sega Genesis color palette\", \"Nintendo Game Boy color palette\", \"Sega Game Gear color palette\", \"Super Famicom/SNES color palette\", \"Nintendo Game Boy Color palette\", \"Nintendo Game Boy Advance color palette\", \"Monochrome color palette\", \"3-bit color palette\", \"4-bit color palette\", \"6-bit color palette\", \"8-bit color palette\", \"9-bit color palette\", \"12-bit color palette\", \"16-bit color palette\", \"18-bit color palette\", \"24-bit color palette\", \"30-bit color palette\", \"32-bit color palette\", ],\n",
        "\n",
        "  # CAMERA DATABASE\n",
        "\t\"camera\": [ \"Canon EOS Rebel T7 DSLR Camera\", \"Sony a7 IV Mirrorless Camera\", \"Canon EOS R6 Mirrorless Camera\", \"Canon EOS 5D Mark IV DSLR Camera\", \"Sony a6600 Mirrorless Camera\", \"Canon EOS Rebel T7 DSLR Camera\", \"Canon EOS R6 Mirrorless Camera\", \"Canon EOS 5D Mark IV DSLR Camera\", \"Canon EOS RP Mirrorless Camera\", \"Canon EOS Rebel T8i DSLR Camera\", \"Canon EOS R5 Mirrorless Camera\", \"Canon EOS R Mirrorless Camera\", \"Canon EOS M6 Mark II Mirrorless Camera\", \"Canon EOS M50 Mark II Mirrorless Camera\", \"Canon EOS 90D DSLR Camera\", \"Sony a7 IV Mirrorless Camera\", \"Sony a6600 Mirrorless Camera\", \"Sony a7 III Mirrorless Camera\", \"Sony a6400 Mirrorless Camera\", \"Sony a7R IV Mirrorless Camera\", \"Sony a7S III Mirrorless Camera\", \"Sony ZV-E10 Mirrorless Camera\", \"Sony a9 II Mirrorless Camera\", \"Sony a7C Mirrorless Camera\", \"Sony a6100 Mirrorless Camera\", \"Nikon Z6 II Mirrorless Camera\", \"Nikon Z7 II Mirrorless Camera\", \"Nikon D3500 DSLR Camera\", \"Nikon D850 DSLR Camera\", \"Nikon Z fc Mirrorless Camera\", \"Nikon D7500 DSLR Camera\", \"Nikon Z5 Mirrorless Camera\", \"Fujifilm X-H2S Mirrorless Camera\", \"Fujifilm X-T30 II Mirrorless Camera\", \"Panasonic Lumix G7 Mirrorless Camera\", \"Fujifilm X-S10 Mirrorless Camera\", \"Panasonic Lumix GH6 Mirrorless Camera\", \"Fujifilm X-T4 Mirrorless Camera\", \"Panasonic Lumix GH5 II Mirrorless Camera\", \"Vest Pocket Autographic Kodak Camera\", \"Kodak 616 Junior Camera\", \"Kodak 35 Camera\", \"Kodak PIXPRO FZ43 16MP Digital Camera\", \"Kodak PIXPRO AZ252 16.15MP Digital Camera\", \"Kodak PIXPRO FZ152 16MP Digital Camera\", \"Kodak PIXPRO AZ241 16.15MP Digital Camera\", \"Kodak PIXPRO AZ401 16MP Digital Camera\", \"Kodak Smile 10MP Digital Camera\", \"Yashica T4 Camera\", \"Konica Hexar AF Camera\", \"Nikon L35AF Camera\", \"Olympus XA2 Camera\", \"Olympus OM-1 Camera\", \"Nikon F2 Camera\", \"Nikon FE Camera\", \"Pentax 67 Camera\", \"Pentax K1000 Camera\", \"Canon AE-1 Camera\", \"Canon A2/A2e Camera\", \"Plaubel Makina W67 Camera\", \"Lubitel 2\", \"Kodak No 3A Folding Pocket Camera\", \"Canon G III QL17 Camera\", \"Polaroid SX-70 Alpha Camera\", \"Graflex Century Graphic 2×3 Camera\", \"Pentacon Six TL Camera\", \"Zenza Bronica ETRSi Camera\", \"Hasselblad 500C Camera\", \"Contax G1/G2 Camera\", \"Leica M3 Double Stroke Camera\", \"Leica M6 Camera\", \"Horseman 4×5 (45HD) Camera\", \"Mamiya 7 II Camera\", ],\n",
        "\n",
        "\t# CAMERA MANUFACTUTERS DATABASE\n",
        "\t\"camera-manu\": [ \"Canon\", \"Nikon\", \"Sony\", \"Fujifilm\", \"Olympus\", \"Panasonic\", \"Pentax\", \"Leica\", \"Hasselblad\", \"Kodak\", ],\n",
        "\n",
        "\t# F-STOP SETTINGS\n",
        "\t\"f-stop\": [ \"ƒ/1\", \"ƒ/1.4\", \"ƒ2\", \"ƒ/2.8\", \"ƒ4\", \"ƒ/5.6\", \"ƒ/8\", \"ƒ/11\", \"ƒ/16\", \"ƒ/22\", ],\n",
        "\n",
        "\t# ISO FULL-STOP DATABASE\n",
        "\t\"iso-stop\": [ \"ISO 100\", \"ISO 200\", \"ISO 400\", \"ISO 800\", \"ISO 1600\", \"ISO 3200\", \"ISO 6400\", \"ISO 12500\", \"ISO 25600\", \"ISO 51200\", \"ISO 102400\", \"ISO 204800\", \"ISO 409600\", ],\n",
        "\n",
        "\t# FOCAL LENGTH RANGES DATABASE\n",
        "\t\"focal-length\": [ \"4mm - 14mm focal length\", \"Fisheye focal length\", \"14mm - 35mm focal length\", \"Wide angle focal length\", \"35mm - 85mm focal length\", \"Standard focal length\" \"85mm - 135mm\", \"Short telephoto focal length\", \"135mm+ focal length\", \"Medium telephoto focal length\", \"300mm+ focal length\", \"Macro\", \"Macro focal length\", ],\n",
        "\n",
        "\t# PHOTOGRAPHY TERMS\n",
        "\t\"photo-term\": [ \"Bokeh\", \"Depth of Field\", \"DoF\", \"Digital Camera\", \"Optical Camera\", \"Long Exposure\", \"Short Exposure\", \"Over Exposed\", \"Focused\" ],\n",
        "\n",
        "  # LONG DATABASES\n",
        "\n",
        "\t# GENERAL ADJECTIVES DATABASE\n",
        "\t\"adj-general\": [ \"abandoned\", \"able\", \"absolute\", \"adorable\", \"adventurous\", \"academic\", \"acceptable\", \"acclaimed\", \"accomplished\", \"accurate\", \"aching\", \"acidic\", \"acrobatic\", \"active\", \"actual\", \"adept\", \"admirable\", \"admired\", \"adolescent\", \"adorable\", \"adored\", \"advanced\", \"afraid\", \"affectionate\", \"aged\", \"aggravating\", \"aggressive\", \"agile\", \"agitated\", \"agonizing\", \"agreeable\", \"ajar\", \"alarmed\", \"alarming\", \"alert\", \"alienated\", \"alive\", \"all\", \"altruistic\", \"amazing\", \"ambitious\", \"ample\", \"amused\", \"amusing\", \"anchored\", \"ancient\", \"angelic\", \"angry\", \"anguished\", \"animated\", \"annual\", \"another\", \"antique\", \"anxious\", \"any\", \"apprehensive\", \"appropriate\", \"apt\", \"arctic\", \"arid\", \"aromatic\", \"artistic\", \"ashamed\", \"assured\", \"astonishing\", \"athletic\", \"attached\", \"attentive\", \"attractive\", \"austere\", \"authentic\", \"authorized\", \"automatic\", \"avaricious\", \"average\", \"aware\", \"awesome\", \"awful\", \"awkward\", \"babyish\", \"bad\", \"back\", \"baggy\", \"bare\", \"barren\", \"basic\", \"beautiful\", \"belated\", \"beloved\", \"beneficial\", \"better\", \"best\", \"bewitched\", \"big\", \"big-hearted\", \"biodegradable\", \"bite-sized\", \"bitter\", \"black\", \"black-and-white\", \"bland\", \"blank\", \"blaring\", \"bleak\", \"blind\", \"blissful\", \"blond\", \"blue\", \"blushing\", \"bogus\", \"boiling\", \"bold\", \"bony\", \"boring\", \"bossy\", \"both\", \"bouncy\", \"bountiful\", \"bowed\", \"brave\", \"breakable\", \"brief\", \"bright\", \"brilliant\", \"brisk\", \"broken\", \"bronze\", \"brown\", \"bruised\", \"bubbly\", \"bulky\", \"bumpy\", \"buoyant\", \"burdensome\", \"burly\", \"bustling\", \"busy\", \"buttery\", \"buzzing\", \"calculating\", \"calm\", \"candid\", \"canine\", \"capital\", \"carefree\", \"careful\", \"careless\", \"caring\", \"cautious\", \"cavernous\", \"celebrated\", \"charming\", \"cheap\", \"cheerful\", \"cheery\", \"chief\", \"chilly\", \"chubby\", \"circular\", \"classic\", \"clean\", \"clear\", \"clear-cut\", \"clever\", \"close\", \"closed\", \"cloudy\", \"clueless\", \"clumsy\", \"cluttered\", \"coarse\", \"cold\", \"colorful\", \"colorless\", \"colossal\", \"comfortable\", \"common\", \"compassionate\", \"competent\", \"complete\", \"complex\", \"complicated\", \"composed\", \"concerned\", \"concrete\", \"confused\", \"conscious\", \"considerate\", \"constant\", \"content\", \"conventional\", \"cooked\", \"cool\", \"cooperative\", \"coordinated\", \"corny\", \"corrupt\", \"costly\", \"courageous\", \"courteous\", \"crafty\", \"crazy\", \"creamy\", \"creative\", \"creepy\", \"criminal\", \"crisp\", \"critical\", \"crooked\", \"crowded\", \"cruel\", \"crushing\", \"cuddly\", \"cultivated\", \"cultured\", \"cumbersome\", \"curly\", \"curvy\", \"cute\", \"cylindrical\", \"damaged\", \"damp\", \"dangerous\", \"dapper\", \"daring\", \"darling\", \"dark\", \"dazzling\", \"dead\", \"deadly\", \"deafening\", \"dear\", \"dearest\", \"decent\", \"decimal\", \"decisive\", \"deep\", \"defenseless\", \"defensive\", \"defiant\", \"deficient\", \"definite\", \"definitive\", \"delayed\", \"delectable\", \"delicious\", \"delightful\", \"delirious\", \"demanding\", \"dense\", \"dental\", \"dependable\", \"dependent\", \"descriptive\", \"deserted\", \"detailed\", \"determined\", \"devoted\", \"different\", \"difficult\", \"digital\", \"diligent\", \"dim\", \"dimpled\", \"dimwitted\", \"direct\", \"disastrous\", \"discrete\", \"disfigured\", \"disgusting\", \"disloyal\", \"dismal\", \"distant\", \"downright\", \"dreary\", \"dirty\", \"disguised\", \"dishonest\", \"dismal\", \"distant\", \"distinct\", \"distorted\", \"dizzy\", \"dopey\", \"doting\", \"double\", \"downright\", \"drab\", \"drafty\", \"dramatic\", \"dreary\", \"droopy\", \"dry\", \"dual\", \"dull\", \"dutiful\", \"each\", \"eager\", \"earnest\", \"early\", \"easy\", \"easy-going\", \"ecstatic\", \"edible\", \"educated\", \"elaborate\", \"elastic\", \"elated\", \"elderly\", \"electric\", \"elegant\", \"elementary\", \"elliptical\", \"embarrassed\", \"embellished\", \"eminent\", \"emotional\", \"empty\", \"enchanted\", \"enchanting\", \"energetic\", \"enlightened\", \"enormous\", \"enraged\", \"entire\", \"envious\", \"equal\", \"equatorial\", \"essential\", \"esteemed\", \"ethical\", \"euphoric\", \"even\", \"evergreen\", \"everlasting\", \"every\", \"evil\", \"exalted\", \"excellent\", \"exemplary\", \"exhausted\", \"excitable\", \"excited\", \"exciting\", \"exotic\", \"expensive\", \"experienced\", \"expert\", \"extraneous\", \"extroverted\", \"extra-large\", \"extra-small\", \"fabulous\", \"failing\", \"faint\", \"fair\", \"faithful\", \"fake\", \"false\", \"familiar\", \"famous\", \"fancy\", \"fantastic\", \"far\", \"faraway\", \"far-flung\", \"far-off\", \"fast\", \"fat\", \"fatal\", \"fatherly\", \"favorable\", \"favorite\", \"fearful\", \"fearless\", \"feisty\", \"feline\", \"female\", \"feminine\", \"few\", \"fickle\", \"filthy\", \"fine\", \"finished\", \"firm\", \"first\", \"firsthand\", \"fitting\", \"fixed\", \"flaky\", \"flamboyant\", \"flashy\", \"flat\", \"flawed\", \"flawless\", \"flickering\", \"flimsy\", \"flippant\", \"flowery\", \"fluffy\", \"fluid\", \"flustered\", \"focused\", \"fond\", \"foolhardy\", \"foolish\", \"forceful\", \"forked\", \"formal\", \"forsaken\", \"forthright\", \"fortunate\", \"fragrant\", \"frail\", \"frank\", \"frayed\", \"free\", \"French\", \"fresh\", \"frequent\", \"friendly\", \"frightened\", \"frightening\", \"frigid\", \"frilly\", \"frizzy\", \"frivolous\", \"front\", \"frosty\", \"frozen\", \"frugal\", \"fruitful\", \"full\", \"fumbling\", \"functional\", \"funny\", \"fussy\", \"fuzzy\", \"gargantuan\", \"gaseous\", \"general\", \"generous\", \"gentle\", \"genuine\", \"giant\", \"giddy\", \"gigantic\", \"gifted\", \"giving\", \"glamorous\", \"glaring\", \"glass\", \"gleaming\", \"gleeful\", \"glistening\", \"glittering\", \"gloomy\", \"glorious\", \"glossy\", \"glum\", \"golden\", \"good\", \"good-natured\", \"gorgeous\", \"graceful\", \"gracious\", \"grand\", \"grandiose\", \"granular\", \"grateful\", \"grave\", \"gray\", \"great\", \"greedy\", \"green\", \"gregarious\", \"grim\", \"grimy\", \"gripping\", \"grizzled\", \"gross\", \"grotesque\", \"grouchy\", \"grounded\", \"growing\", \"growling\", \"grown\", \"grubby\", \"gruesome\", \"grumpy\", \"guilty\", \"gullible\", \"gummy\", \"hairy\", \"half\", \"handmade\", \"handsome\", \"handy\", \"happy\", \"happy-go-lucky\", \"hard\", \"hard-to-find\", \"harmful\", \"harmless\", \"harmonious\", \"harsh\", \"hasty\", \"hateful\", \"haunting\", \"healthy\", \"heartfelt\", \"hearty\", \"heavenly\", \"heavy\", \"hefty\", \"helpful\", \"helpless\", \"hidden\", \"hideous\", \"high\", \"high-level\", \"hilarious\", \"hoarse\", \"hollow\", \"homely\", \"honest\", \"honorable\", \"honored\", \"hopeful\", \"horrible\", \"hospitable\", \"hot\", \"huge\", \"humble\", \"humiliating\", \"humming\", \"humongous\", \"hungry\", \"hurtful\", \"husky\", \"icky\", \"icy\", \"ideal\", \"idealistic\", \"identical\", \"idle\", \"idiotic\", \"idolized\", \"ignorant\", \"ill\", \"illegal\", \"ill-fated\", \"ill-informed\", \"illiterate\", \"illustrious\", \"imaginary\", \"imaginative\", \"immaculate\", \"immaterial\", \"immediate\", \"immense\", \"impassioned\", \"impeccable\", \"impartial\", \"imperfect\", \"imperturbable\", \"impish\", \"impolite\", \"important\", \"impossible\", \"impractical\", \"impressionable\", \"impressive\", \"improbable\", \"impure\", \"inborn\", \"incomparable\", \"incompatible\", \"incomplete\", \"inconsequential\", \"incredible\", \"indelible\", \"inexperienced\", \"indolent\", \"infamous\", \"infantile\", \"infatuated\", \"inferior\", \"infinite\", \"informal\", \"innocent\", \"insecure\", \"insidious\", \"insignificant\", \"insistent\", \"instructive\", \"insubstantial\", \"intelligent\", \"intent\", \"intentional\", \"interesting\", \"internal\", \"international\", \"intrepid\", \"ironclad\", \"irresponsible\", \"irritating\", \"itchy\", \"jaded\", \"jagged\", \"jam-packed\", \"jaunty\", \"jealous\", \"jittery\", \"joint\", \"jolly\", \"jovial\", \"joyful\", \"joyous\", \"jubilant\", \"judicious\", \"juicy\", \"jumbo\", \"junior\", \"jumpy\", \"juvenile\", \"kaleidoscopic\", \"keen\", \"key\", \"kind\", \"kindhearted\", \"kindly\", \"klutzy\", \"knobby\", \"knotty\", \"knowledgeable\", \"knowing\", \"known\", \"kooky\", \"kosher\", \"lame\", \"lanky\", \"large\", \"last\", \"lasting\", \"late\", \"lavish\", \"lawful\", \"lazy\", \"leading\", \"lean\", \"leafy\", \"left\", \"legal\", \"legitimate\", \"light\", \"lighthearted\", \"likable\", \"likely\", \"limited\", \"limp\", \"limping\", \"linear\", \"lined\", \"liquid\", \"little\", \"live\", \"lively\", \"livid\", \"loathsome\", \"lone\", \"lonely\", \"long\", \"long-term\", \"loose\", \"lopsided\", \"lost\", \"loud\", \"lovable\", \"lovely\", \"loving\", \"low\", \"loyal\", \"lucky\", \"lumbering\", \"luminous\", \"lumpy\", \"lustrous\", \"luxurious\", \"mad\", \"made-up\", \"magnificent\", \"majestic\", \"major\", \"male\", \"mammoth\", \"married\", \"marvelous\", \"masculine\", \"massive\", \"mature\", \"meager\", \"mealy\", \"mean\", \"measly\", \"meaty\", \"medical\", \"mediocre\", \"medium\", \"meek\", \"mellow\", \"melodic\", \"memorable\", \"menacing\", \"merry\", \"messy\", \"metallic\", \"mild\", \"milky\", \"mindless\", \"miniature\", \"minor\", \"minty\", \"miserable\", \"miserly\", \"misguided\", \"misty\", \"mixed\", \"modern\", \"modest\", \"moist\", \"monstrous\", \"monthly\", \"monumental\", \"moral\", \"mortified\", \"motherly\", \"motionless\", \"mountainous\", \"muddy\", \"muffled\", \"multicolored\", \"mundane\", \"murky\", \"mushy\", \"musty\", \"muted\", \"mysterious\", \"naive\", \"narrow\", \"nasty\", \"natural\", \"naughty\", \"nautical\", \"near\", \"neat\", \"necessary\", \"needy\", \"negative\", \"neglected\", \"negligible\", \"neighboring\", \"nervous\", \"new\", \"next\", \"nice\", \"nifty\", \"nimble\", \"nippy\", \"nocturnal\", \"noisy\", \"nonstop\", \"normal\", \"notable\", \"noted\", \"noteworthy\", \"novel\", \"noxious\", \"numb\", \"nutritious\", \"nutty\", \"obedient\", \"obese\", \"oblong\", \"oily\", \"oblong\", \"obvious\", \"occasional\", \"odd\", \"oddball\", \"offbeat\", \"offensive\", \"official\", \"old\", \"old-fashioned\", \"only\", \"open\", \"optimal\", \"optimistic\", \"opulent\", \"orange\", \"orderly\", \"organic\", \"ornate\", \"ornery\", \"ordinary\", \"original\", \"other\", \"our\", \"outlying\", \"outgoing\", \"outlandish\", \"outrageous\", \"outstanding\", \"oval\", \"overcooked\", \"overdue\", \"overjoyed\", \"overlooked\", \"palatable\", \"pale\", \"paltry\", \"parallel\", \"parched\", \"partial\", \"passionate\", \"past\", \"pastel\", \"peaceful\", \"peppery\", \"perfect\", \"perfumed\", \"periodic\", \"perky\", \"personal\", \"pertinent\", \"pesky\", \"pessimistic\", \"petty\", \"phony\", \"physical\", \"piercing\", \"pink\", \"pitiful\", \"plain\", \"plaintive\", \"plastic\", \"playful\", \"pleasant\", \"pleased\", \"pleasing\", \"plump\", \"plush\", \"polished\", \"polite\", \"political\", \"pointed\", \"pointless\", \"poised\", \"poor\", \"popular\", \"portly\", \"posh\", \"positive\", \"possible\", \"potable\", \"powerful\", \"powerless\", \"practical\", \"precious\", \"present\", \"prestigious\", \"pretty\", \"precious\", \"previous\", \"pricey\", \"prickly\", \"primary\", \"prime\", \"pristine\", \"private\", \"prize\", \"probable\", \"productive\", \"profitable\", \"profuse\", \"proper\", \"proud\", \"prudent\", \"punctual\", \"pungent\", \"puny\", \"pure\", \"purple\", \"pushy\", \"putrid\", \"puzzled\", \"puzzling\", \"quaint\", \"qualified\", \"quarrelsome\", \"quarterly\", \"queasy\", \"querulous\", \"questionable\", \"quick\", \"quick-witted\", \"quiet\", \"quintessential\", \"quirky\", \"quixotic\", \"quizzical\", \"radiant\", \"ragged\", \"rapid\", \"rare\", \"rash\", \"raw\", \"recent\", \"reckless\", \"rectangular\", \"ready\", \"real\", \"realistic\", \"reasonable\", \"red\", \"reflecting\", \"regal\", \"regular\", \"reliable\", \"relieved\", \"remarkable\", \"remorseful\", \"remote\", \"repentant\", \"required\", \"respectful\", \"responsible\", \"repulsive\", \"revolving\", \"rewarding\", \"rich\", \"rigid\", \"right\", \"ringed\", \"ripe\", \"roasted\", \"robust\", \"rosy\", \"rotating\", \"rotten\", \"rough\", \"round\", \"rowdy\", \"royal\", \"rubbery\", \"rundown\", \"ruddy\", \"rude\", \"runny\", \"rural\", \"rusty\", \"sad\", \"safe\", \"salty\", \"same\", \"sandy\", \"sane\", \"sarcastic\", \"sardonic\", \"satisfied\", \"scaly\", \"scarce\", \"scared\", \"scary\", \"scented\", \"scholarly\", \"scientific\", \"scornful\", \"scratchy\", \"scrawny\", \"second\", \"secondary\", \"second-hand\", \"secret\", \"self-assured\", \"self-reliant\", \"selfish\", \"sentimental\", \"separate\", \"serene\", \"serious\", \"serpentine\", \"several\", \"severe\", \"shabby\", \"shadowy\", \"shady\", \"shallow\", \"shameful\", \"shameless\", \"sharp\", \"shimmering\", \"shiny\", \"shocked\", \"shocking\", \"shoddy\", \"short\", \"short-term\", \"showy\", \"shrill\", \"shy\", \"sick\", \"silent\", \"silky\", \"silly\", \"silver\", \"similar\", \"simple\", \"simplistic\", \"sinful\", \"single\", \"sizzling\", \"skeletal\", \"skinny\", \"sleepy\", \"slight\", \"slim\", \"slimy\", \"slippery\", \"slow\", \"slushy\", \"small\", \"smart\", \"smoggy\", \"smooth\", \"smug\", \"snappy\", \"snarling\", \"sneaky\", \"sniveling\", \"snoopy\", \"sociable\", \"soft\", \"soggy\", \"solid\", \"somber\", \"some\", \"spherical\", \"sophisticated\", \"sore\", \"sorrowful\", \"soulful\", \"soupy\", \"sour\", \"Spanish\", \"sparkling\", \"sparse\", \"specific\", \"spectacular\", \"speedy\", \"spicy\", \"spiffy\", \"spirited\", \"spiteful\", \"splendid\", \"spotless\", \"spotted\", \"spry\", \"square\", \"squeaky\", \"squiggly\", \"stable\", \"staid\", \"stained\", \"stale\", \"standard\", \"starchy\", \"stark\", \"starry\", \"steep\", \"sticky\", \"stiff\", \"stimulating\", \"stingy\", \"stormy\", \"straight\", \"strange\", \"steel\", \"strict\", \"strident\", \"striking\", \"striped\", \"strong\", \"studious\", \"stunning\", \"stupendous\", \"stupid\", \"sturdy\", \"stylish\", \"subdued\", \"submissive\", \"substantial\", \"subtle\", \"suburban\", \"sudden\", \"sugary\", \"sunny\", \"super\", \"superb\", \"superficial\", \"superior\", \"supportive\", \"sure-footed\", \"surprised\", \"suspicious\", \"svelte\", \"sweaty\", \"sweet\", \"sweltering\", \"swift\", \"sympathetic\", \"tall\", \"talkative\", \"tame\", \"tan\", \"tangible\", \"tart\", \"tasty\", \"tattered\", \"taut\", \"tedious\", \"teeming\", \"tempting\", \"tender\", \"tense\", \"tepid\", \"terrible\", \"terrific\", \"testy\", \"thankful\", \"that\", \"these\", \"thick\", \"thin\", \"third\", \"thirsty\", \"this\", \"thorough\", \"thorny\", \"those\", \"thoughtful\", \"threadbare\", \"thrifty\", \"thunderous\", \"tidy\", \"tight\", \"timely\", \"tinted\", \"tiny\", \"tired\", \"torn\", \"total\", \"tough\", \"traumatic\", \"treasured\", \"tremendous\", \"tragic\", \"trained\", \"tremendous\", \"triangular\", \"tricky\", \"trifling\", \"trim\", \"trivial\", \"troubled\", \"true\", \"trusting\", \"trustworthy\", \"trusty\", \"truthful\", \"tubby\", \"turbulent\", \"twin\", \"ugly\", \"ultimate\", \"unacceptable\", \"unaware\", \"uncomfortable\", \"uncommon\", \"unconscious\", \"understated\", \"unequaled\", \"uneven\", \"unfinished\", \"unfit\", \"unfolded\", \"unfortunate\", \"unhappy\", \"unhealthy\", \"uniform\", \"unimportant\", \"unique\", \"united\", \"unkempt\", \"unknown\", \"unlawful\", \"unlined\", \"unlucky\", \"unnatural\", \"unpleasant\", \"unrealistic\", \"unripe\", \"unruly\", \"unselfish\", \"unsightly\", \"unsteady\", \"unsung\", \"untidy\", \"untimely\", \"untried\", \"untrue\", \"unused\", \"unusual\", \"unwelcome\", \"unwieldy\", \"unwilling\", \"unwitting\", \"unwritten\", \"upbeat\", \"upright\", \"upset\", \"urban\", \"usable\", \"used\", \"useful\", \"useless\", \"utilized\", \"utter\", \"vacant\", \"vague\", \"vain\", \"valid\", \"valuable\", \"vapid\", \"variable\", \"vast\", \"velvety\", \"venerated\", \"vengeful\", \"verifiable\", \"vibrant\", \"vicious\", \"victorious\", \"vigilant\", \"vigorous\", \"villainous\", \"violet\", \"violent\", \"virtual\", \"virtuous\", \"visible\", \"vital\", \"vivacious\", \"vivid\", \"voluminous\", \"wan\", \"warlike\", \"warm\", \"warmhearted\", \"warped\", \"wary\", \"wasteful\", \"watchful\", \"waterlogged\", \"watery\", \"wavy\", \"wealthy\", \"weak\", \"weary\", \"webbed\", \"wee\", \"weekly\", \"weepy\", \"weighty\", \"weird\", \"welcome\", \"well-documented\", \"well-groomed\", \"well-informed\", \"well-lit\", \"well-made\", \"well-off\", \"well-to-do\", \"well-worn\", \"wet\", \"which\", \"whimsical\", \"whirlwind\", \"whispered\", \"white\", \"whole\", \"whopping\", \"wicked\", \"wide\", \"wide-eyed\", \"wiggly\", \"wild\", \"willing\", \"wilted\", \"winding\", \"windy\", \"winged\", \"wiry\", \"wise\", \"witty\", \"wobbly\", \"woeful\", \"wonderful\", \"wooden\", \"woozy\", \"wordy\", \"worldly\", \"worn\", \"worried\", \"worrisome\", \"worse\", \"worst\", \"worthless\", \"worthwhile\", \"worthy\", \"wrathful\", \"wretched\", \"writhing\", \"wrong\", \"wry\", \"yawning\", \"yearly\", \"yellow\", \"yellowish\", \"young\", \"youthful\", \"yummy\", \"zany\", \"zealous\", \"zesty\", \"zigzag\", ],\n",
        "\n",
        "\t# GENERAL NOUNS DATABASE\n",
        "\t\"noun-general\": [ \"ability\", \"abroad\", \"abuse\", \"access\", \"accident\", \"account\", \"act\", \"action\", \"active\", \"activity\", \"actor\", \"ad\", \"addition\", \"address\", \"administration\", \"adult\", \"advance\", \"advantage\", \"advertising\", \"advice\", \"affair\", \"affect\", \"afternoon\", \"age\", \"agency\", \"agent\", \"agreement\", \"air\", \"airline\", \"airport\", \"alarm\", \"alcohol\", \"alternative\", \"ambition\", \"amount\", \"analysis\", \"analyst\", \"anger\", \"angle\", \"animal\", \"annual\", \"answer\", \"anxiety\", \"anybody\", \"anything\", \"anywhere\", \"apartment\", \"appeal\", \"appearance\", \"apple\", \"application\", \"appointment\", \"area\", \"argument\", \"arm\", \"army\", \"arrival\", \"art\", \"article\", \"aside\", \"ask\", \"aspect\", \"assignment\", \"assist\", \"assistance\", \"assistant\", \"associate\", \"association\", \"assumption\", \"atmosphere\", \"attack\", \"attempt\", \"attention\", \"attitude\", \"audience\", \"author\", \"average\", \"award\", \"awareness\", \"baby\", \"back\", \"background\", \"bad\", \"bag\", \"bake\", \"balance\", \"ball\", \"band\", \"bank\", \"bar\", \"base\", \"baseball\", \"basis\", \"basket\", \"bat\", \"bath\", \"bathroom\", \"battle\", \"beach\", \"bear\", \"beat\", \"beautiful\", \"bed\", \"bedroom\", \"beer\", \"beginning\", \"being\", \"bell\", \"belt\", \"bench\", \"bend\", \"benefit\", \"bet\", \"beyond\", \"bicycle\", \"bid\", \"big\", \"bike\", \"bill\", \"bird\", \"birth\", \"birthday\", \"bit\", \"bite\", \"bitter\", \"black\", \"blame\", \"blank\", \"blind\", \"block\", \"blood\", \"blow\", \"blue\", \"board\", \"boat\", \"body\", \"bone\", \"bonus\", \"book\", \"boot\", \"border\", \"boring\", \"boss\", \"bother\", \"bottle\", \"bottom\", \"bowl\", \"box\", \"boy\", \"boyfriend\", \"brain\", \"branch\", \"brave\", \"bread\", \"break\", \"breakfast\", \"breast\", \"breath\", \"brick\", \"bridge\", \"brief\", \"brilliant\", \"broad\", \"brother\", \"brown\", \"brush\", \"buddy\", \"budget\", \"bug\", \"building\", \"bunch\", \"burn\", \"bus\", \"business\", \"button\", \"buy\", \"buyer\", \"cabinet\", \"cable\", \"cake\", \"calendar\", \"call\", \"calm\", \"camera\", \"camp\", \"campaign\", \"can\", \"cancel\", \"cancer\", \"candidate\", \"candle\", \"candy\", \"cap\", \"capital\", \"car\", \"card\", \"care\", \"career\", \"carpet\", \"carry\", \"case\", \"cash\", \"cat\", \"catch\", \"category\", \"cause\", \"celebration\", \"cell\", \"chain\", \"chair\", \"challenge\", \"champion\", \"championship\", \"chance\", \"change\", \"channel\", \"chapter\", \"character\", \"charge\", \"charity\", \"chart\", \"check\", \"cheek\", \"chemical\", \"chemistry\", \"chest\", \"chicken\", \"child\", \"childhood\", \"chip\", \"chocolate\", \"choice\", \"church\", \"cigarette\", \"city\", \"claim\", \"class\", \"classic\", \"classroom\", \"clerk\", \"click\", \"client\", \"climate\", \"clock\", \"closet\", \"clothes\", \"cloud\", \"club\", \"clue\", \"coach\", \"coast\", \"coat\", \"code\", \"coffee\", \"cold\", \"collar\", \"collection\", \"college\", \"combination\", \"combine\", \"comfort\", \"comfortable\", \"command\", \"comment\", \"commercial\", \"commission\", \"committee\", \"common\", \"communication\", \"community\", \"company\", \"comparison\", \"competition\", \"complaint\", \"complex\", \"computer\", \"concentrate\", \"concept\", \"concern\", \"concert\", \"conclusion\", \"condition\", \"conference\", \"confidence\", \"conflict\", \"confusion\", \"connection\", \"consequence\", \"consideration\", \"consist\", \"constant\", \"construction\", \"contact\", \"contest\", \"context\", \"contract\", \"contribution\", \"control\", \"conversation\", \"convert\", \"cook\", \"cookie\", \"copy\", \"corner\", \"cost\", \"count\", \"counter\", \"country\", \"county\", \"couple\", \"courage\", \"course\", \"court\", \"cousin\", \"cover\", \"cow\", \"crack\", \"craft\", \"crash\", \"crazy\", \"cream\", \"creative\", \"credit\", \"crew\", \"criticism\", \"cross\", \"cry\", \"culture\", \"cup\", \"currency\", \"current\", \"curve\", \"customer\", \"cut\", \"cycle\", \"dad\", \"damage\", \"dance\", \"dare\", \"dark\", \"data\", \"database\", \"date\", \"daughter\", \"day\", \"dead\", \"deal\", \"dealer\", \"dear\", \"death\", \"debate\", \"debt\", \"decision\", \"deep\", \"definition\", \"degree\", \"delay\", \"delivery\", \"demand\", \"department\", \"departure\", \"dependent\", \"deposit\", \"depression\", \"depth\", \"description\", \"design\", \"designer\", \"desire\", \"desk\", \"detail\", \"development\", \"device\", \"devil\", \"diamond\", \"diet\", \"difference\", \"difficulty\", \"dig\", \"dimension\", \"dinner\", \"direction\", \"director\", \"dirt\", \"disaster\", \"discipline\", \"discount\", \"discussion\", \"disease\", \"dish\", \"disk\", \"display\", \"distance\", \"distribution\", \"district\", \"divide\", \"doctor\", \"document\", \"dog\", \"door\", \"dot\", \"double\", \"doubt\", \"draft\", \"drag\", \"drama\", \"draw\", \"drawer\", \"drawing\", \"dream\", \"dress\", \"drink\", \"drive\", \"driver\", \"drop\", \"drunk\", \"due\", \"dump\", \"dust\", \"duty\", \"ear\", \"earth\", \"ease\", \"east\", \"eat\", \"economics\", \"economy\", \"edge\", \"editor\", \"education\", \"effect\", \"effective\", \"efficiency\", \"effort\", \"egg\", \"election\", \"elevator\", \"emergency\", \"emotion\", \"emphasis\", \"employ\", \"employee\", \"employer\", \"employment\", \"end\", \"energy\", \"engine\", \"engineer\", \"engineering\", \"entertainment\", \"enthusiasm\", \"entrance\", \"entry\", \"environment\", \"equal\", \"equipment\", \"equivalent\", \"error\", \"escape\", \"essay\", \"establishment\", \"estate\", \"estimate\", \"evening\", \"event\", \"evidence\", \"exam\", \"examination\", \"example\", \"exchange\", \"excitement\", \"excuse\", \"exercise\", \"exit\", \"experience\", \"expert\", \"explanation\", \"expression\", \"extension\", \"extent\", \"external\", \"extreme\", \"eye\", \"face\", \"fact\", \"factor\", \"failure\", \"fall\", \"familiar\", \"family\", \"fan\", \"farm\", \"farmer\", \"fat\", \"father\", \"fault\", \"fear\", \"feature\", \"fee\", \"feed\", \"feedback\", \"feel\", \"feeling\", \"female\", \"few\", \"field\", \"fight\", \"figure\", \"file\", \"fill\", \"film\", \"final\", \"finance\", \"finding\", \"finger\", \"finish\", \"fire\", \"fish\", \"fishing\", \"fix\", \"flight\", \"floor\", \"flow\", \"flower\", \"fly\", \"focus\", \"fold\", \"following\", \"food\", \"foot\", \"football\", \"force\", \"forever\", \"form\", \"formal\", \"fortune\", \"foundation\", \"frame\", \"freedom\", \"friend\", \"friendship\", \"front\", \"fruit\", \"fuel\", \"fun\", \"function\", \"funeral\", \"funny\", \"future\", \"gain\", \"game\", \"gap\", \"garage\", \"garbage\", \"garden\", \"gas\", \"gate\", \"gather\", \"gear\", \"gene\", \"general\", \"gift\", \"girl\", \"girlfriend\", \"give\", \"glad\", \"glass\", \"glove\", \"go\", \"goal\", \"god\", \"gold\", \"golf\", \"good\", \"government\", \"grab\", \"grade\", \"grand\", \"grandfather\", \"grandmother\", \"grass\", \"great\", \"green\", \"grocery\", \"ground\", \"group\", \"growth\", \"guarantee\", \"guard\", \"guess\", \"guest\", \"guidance\", \"guide\", \"guitar\", \"guy\", \"habit\", \"hair\", \"half\", \"hall\", \"hand\", \"handle\", \"hang\", \"harm\", \"hat\", \"hate\", \"head\", \"health\", \"hearing\", \"heart\", \"heat\", \"heavy\", \"height\", \"hell\", \"hello\", \"help\", \"hide\", \"high\", \"highlight\", \"highway\", \"hire\", \"historian\", \"history\", \"hit\", \"hold\", \"hole\", \"holiday\", \"home\", \"homework\", \"honey\", \"hook\", \"hope\", \"horror\", \"horse\", \"hospital\", \"host\", \"hotel\", \"hour\", \"house\", \"housing\", \"human\", \"hunt\", \"hurry\", \"hurt\", \"husband\", \"ice\", \"idea\", \"ideal\", \"if\", \"illegal\", \"image\", \"imagination\", \"impact\", \"implement\", \"importance\", \"impress\", \"impression\", \"improvement\", \"incident\", \"income\", \"increase\", \"independence\", \"independent\", \"indication\", \"individual\", \"industry\", \"inevitable\", \"inflation\", \"influence\", \"information\", \"initial\", \"initiative\", \"injury\", \"insect\", \"inside\", \"inspection\", \"inspector\", \"instance\", \"instruction\", \"insurance\", \"intention\", \"interaction\", \"interest\", \"internal\", \"international\", \"internet\", \"interview\", \"introduction\", \"investment\", \"invite\", \"iron\", \"island\", \"issue\", \"it\", \"item\", \"jacket\", \"job\", \"join\", \"joint\", \"joke\", \"judge\", \"judgment\", \"juice\", \"jump\", \"junior\", \"jury\", \"keep\", \"key\", \"kick\", \"kid\", \"kill\", \"kind\", \"king\", \"kiss\", \"kitchen\", \"knee\", \"knife\", \"knowledge\", \"lab\", \"lack\", \"ladder\", \"lady\", \"lake\", \"land\", \"landscape\", \"language\", \"laugh\", \"law\", \"lawyer\", \"lay\", \"layer\", \"lead\", \"leader\", \"leadership\", \"leading\", \"league\", \"leather\", \"leave\", \"lecture\", \"leg\", \"length\", \"lesson\", \"let\", \"letter\", \"level\", \"library\", \"lie\", \"life\", \"lift\", \"light\", \"limit\", \"line\", \"link\", \"lip\", \"list\", \"listen\", \"literature\", \"living\", \"load\", \"loan\", \"local\", \"location\", \"lock\", \"log\", \"long\", \"look\", \"loss\", \"love\", \"low\", \"luck\", \"lunch\", \"machine\", \"magazine\", \"mail\", \"main\", \"maintenance\", \"major\", \"make\", \"male\", \"mall\", \"man\", \"management\", \"manager\", \"manner\", \"manufacturer\", \"many\", \"map\", \"march\", \"mark\", \"market\", \"marketing\", \"marriage\", \"master\", \"match\", \"mate\", \"material\", \"math\", \"matter\", \"maximum\", \"maybe\", \"meal\", \"meaning\", \"measurement\", \"meat\", \"media\", \"medicine\", \"medium\", \"meet\", \"meeting\", \"member\", \"membership\", \"memory\", \"mention\", \"menu\", \"mess\", \"message\", \"metal\", \"method\", \"middle\", \"midnight\", \"might\", \"milk\", \"mind\", \"mine\", \"minimum\", \"minor\", \"minute\", \"mirror\", \"miss\", \"mission\", \"mistake\", \"mix\", \"mixture\", \"mobile\", \"mode\", \"model\", \"mom\", \"moment\", \"money\", \"monitor\", \"month\", \"mood\", \"morning\", \"mortgage\", \"most\", \"mother\", \"motor\", \"mountain\", \"mouse\", \"mouth\", \"move\", \"movie\", \"mud\", \"muscle\", \"music\", \"nail\", \"name\", \"nasty\", \"nation\", \"national\", \"native\", \"natural\", \"nature\", \"neat\", \"necessary\", \"neck\", \"negative\", \"negotiation\", \"nerve\", \"net\", \"network\", \"news\", \"newspaper\", \"night\", \"nobody\", \"noise\", \"normal\", \"north\", \"nose\", \"note\", \"nothing\", \"notice\", \"novel\", \"number\", \"nurse\", \"object\", \"objective\", \"obligation\", \"occasion\", \"offer\", \"office\", \"officer\", \"official\", \"oil\", \"one\", \"opening\", \"operation\", \"opinion\", \"opportunity\", \"opposite\", \"option\", \"orange\", \"order\", \"ordinary\", \"organization\", \"original\", \"other\", \"outcome\", \"outside\", \"oven\", \"owner\", \"pace\", \"pack\", \"package\", \"page\", \"pain\", \"paint\", \"painting\", \"pair\", \"panic\", \"paper\", \"parent\", \"park\", \"parking\", \"part\", \"particular\", \"partner\", \"party\", \"pass\", \"passage\", \"passenger\", \"passion\", \"past\", \"path\", \"patience\", \"patient\", \"pattern\", \"pause\", \"pay\", \"payment\", \"peace\", \"peak\", \"pen\", \"penalty\", \"pension\", \"people\", \"percentage\", \"perception\", \"performance\", \"period\", \"permission\", \"permit\", \"person\", \"personal\", \"personality\", \"perspective\", \"phase\", \"philosophy\", \"phone\", \"photo\", \"phrase\", \"physical\", \"physics\", \"piano\", \"pick\", \"picture\", \"pie\", \"piece\", \"pin\", \"pipe\", \"pitch\", \"pizza\", \"place\", \"plan\", \"plane\", \"plant\", \"plastic\", \"plate\", \"platform\", \"play\", \"player\", \"pleasure\", \"plenty\", \"poem\", \"poet\", \"poetry\", \"point\", \"police\", \"policy\", \"politics\", \"pollution\", \"pool\", \"pop\", \"population\", \"position\", \"positive\", \"possession\", \"possibility\", \"possible\", \"post\", \"pot\", \"potato\", \"potential\", \"pound\", \"power\", \"practice\", \"preference\", \"preparation\", \"presence\", \"present\", \"presentation\", \"president\", \"press\", \"pressure\", \"price\", \"pride\", \"priest\", \"primary\", \"principle\", \"print\", \"prior\", \"priority\", \"private\", \"prize\", \"problem\", \"procedure\", \"process\", \"produce\", \"product\", \"profession\", \"professional\", \"professor\", \"profile\", \"profit\", \"program\", \"progress\", \"project\", \"promise\", \"promotion\", \"prompt\", \"proof\", \"property\", \"proposal\", \"protection\", \"psychology\", \"public\", \"pull\", \"punch\", \"purchase\", \"purple\", \"purpose\", \"push\", \"put\", \"quality\", \"quantity\", \"quarter\", \"queen\", \"question\", \"quiet\", \"quit\", \"quote\", \"race\", \"radio\", \"rain\", \"raise\", \"range\", \"rate\", \"ratio\", \"raw\", \"reach\", \"reaction\", \"read\", \"reading\", \"reality\", \"reason\", \"reception\", \"recipe\", \"recognition\", \"recommendation\", \"record\", \"recording\", \"recover\", \"red\", \"reference\", \"reflection\", \"refrigerator\", \"refuse\", \"region\", \"register\", \"regret\", \"regular\", \"relation\", \"relationship\", \"relative\", \"release\", \"relief\", \"remote\", \"remove\", \"rent\", \"repair\", \"repeat\", \"replacement\", \"reply\", \"report\", \"representative\", \"republic\", \"reputation\", \"request\", \"requirement\", \"research\", \"reserve\", \"resident\", \"resist\", \"resolution\", \"resolve\", \"resort\", \"resource\", \"respect\", \"respond\", \"response\", \"responsibility\", \"rest\", \"restaurant\", \"result\", \"return\", \"reveal\", \"revenue\", \"review\", \"revolution\", \"reward\", \"rice\", \"rich\", \"ride\", \"ring\", \"rip\", \"rise\", \"risk\", \"river\", \"road\", \"rock\", \"role\", \"roll\", \"roof\", \"room\", \"rope\", \"rough\", \"round\", \"routine\", \"row\", \"royal\", \"rub\", \"ruin\", \"rule\", \"run\", \"rush\", \"sad\", \"safe\", \"safety\", \"sail\", \"salad\", \"salary\", \"sale\", \"salt\", \"sample\", \"sand\", \"sandwich\", \"satisfaction\", \"save\", \"savings\", \"scale\", \"scene\", \"schedule\", \"scheme\", \"school\", \"science\", \"score\", \"scratch\", \"screen\", \"screw\", \"script\", \"sea\", \"search\", \"season\", \"seat\", \"second\", \"secret\", \"secretary\", \"section\", \"sector\", \"security\", \"selection\", \"self\", \"sell\", \"senior\", \"sense\", \"sensitive\", \"sentence\", \"series\", \"serve\", \"service\", \"session\", \"set\", \"setting\", \"sex\", \"shake\", \"shame\", \"shape\", \"share\", \"she\", \"shelter\", \"shift\", \"shine\", \"ship\", \"shirt\", \"shock\", \"shoe\", \"shoot\", \"shop\", \"shopping\", \"shot\", \"shoulder\", \"show\", \"shower\", \"sick\", \"side\", \"sign\", \"signal\", \"signature\", \"significance\", \"silly\", \"silver\", \"simple\", \"sing\", \"singer\", \"single\", \"sink\", \"sir\", \"sister\", \"site\", \"situation\", \"size\", \"skill\", \"skin\", \"skirt\", \"sky\", \"sleep\", \"slice\", \"slide\", \"slip\", \"smile\", \"smoke\", \"snow\", \"society\", \"sock\", \"soft\", \"software\", \"soil\", \"solid\", \"solution\", \"somewhere\", \"son\", \"song\", \"sort\", \"sound\", \"soup\", \"source\", \"south\", \"space\", \"spare\", \"speaker\", \"special\", \"specialist\", \"specific\", \"speech\", \"speed\", \"spell\", \"spend\", \"spirit\", \"spiritual\", \"spite\", \"split\", \"sport\", \"spot\", \"spray\", \"spread\", \"spring\", \"square\", \"stable\", \"staff\", \"stage\", \"stand\", \"standard\", \"star\", \"start\", \"state\", \"statement\", \"station\", \"status\", \"stay\", \"steak\", \"steal\", \"step\", \"stick\", \"still\", \"stock\", \"stomach\", \"stop\", \"storage\", \"store\", \"storm\", \"story\", \"strain\", \"stranger\", \"strategy\", \"street\", \"strength\", \"stress\", \"stretch\", \"strike\", \"string\", \"strip\", \"stroke\", \"structure\", \"struggle\", \"student\", \"studio\", \"study\", \"stuff\", \"stupid\", \"style\", \"subject\", \"substance\", \"success\", \"suck\", \"sugar\", \"suggestion\", \"suit\", \"summer\", \"sun\", \"supermarket\", \"support\", \"surgery\", \"surprise\", \"surround\", \"survey\", \"suspect\", \"sweet\", \"swim\", \"swimming\", \"swing\", \"switch\", \"sympathy\", \"system\", \"table\", \"tackle\", \"tale\", \"talk\", \"tank\", \"tap\", \"target\", \"task\", \"taste\", \"tax\", \"tea\", \"teach\", \"teacher\", \"teaching\", \"team\", \"tear\", \"technology\", \"telephone\", \"television\", \"tell\", \"temperature\", \"temporary\", \"tennis\", \"tension\", \"term\", \"test\", \"text\", \"thanks\", \"theme\", \"theory\", \"thing\", \"thought\", \"throat\", \"ticket\", \"tie\", \"till\", \"time\", \"tip\", \"title\", \"today\", \"toe\", \"tomorrow\", \"tone\", \"tongue\", \"tonight\", \"tool\", \"tooth\", \"top\", \"topic\", \"total\", \"touch\", \"tough\", \"tour\", \"tourist\", \"towel\", \"tower\", \"town\", \"track\", \"trade\", \"tradition\", \"traffic\", \"train\", \"trainer\", \"training\", \"transition\", \"transportation\", \"trash\", \"travel\", \"treat\", \"tree\", \"trick\", \"trip\", \"trouble\", \"truck\", \"trust\", \"truth\", \"try\", \"tune\", \"turn\", \"twist\", \"two\", \"type\", \"uncle\", \"understanding\", \"union\", \"unique\", \"unit\", \"university\", \"upper\", \"upstairs\", \"use\", \"user\", \"usual\", \"vacation\", \"valuable\", \"value\", \"variation\", \"variety\", \"vast\", \"vegetable\", \"vehicle\", \"version\", \"video\", \"view\", \"village\", \"virus\", \"visit\", \"visual\", \"voice\", \"volume\", \"wait\", \"wake\", \"walk\", \"wall\", \"war\", \"warning\", \"wash\", \"watch\", \"water\", \"wave\", \"way\", \"weakness\", \"wealth\", \"wear\", \"weather\", \"web\", \"wedding\", \"week\", \"weekend\", \"weight\", \"weird\", \"welcome\", \"west\", \"western\", \"wheel\", \"whereas\", \"while\", \"white\", \"whole\", \"wife\", \"will\", \"win\", \"wind\", \"window\", \"wine\", \"wing\", \"winner\", \"winter\", \"wish\", \"witness\", \"woman\", \"wonder\", \"wood\", \"word\", \"work\", \"worker\", \"working\", \"world\", \"worry\", \"worth\", \"wrap\", \"writer\", \"writing\", \"yard\", \"year\", \"yellow\", \"yesterday\", \"you\", \"young\", \"youth\", \"zone\", ],\n",
        "\n",
        "\t# COLOR DATABASE\n",
        "\t\"color\": [ \"Absolute Zero\", \"Acid green\", \"Aero\", \"African violet\", \"Air superiority blue\", \"Alabaster\", \"Alice blue\", \"Alizarin\", \"Alloy orange\", \"Almond\", \"Amaranth\", \"Amaranth deep purple\", \"Amaranth pink\", \"Amaranth purple\", \"Amazon\", \"Amber\", \"Amber (SAE/ECE)\", \"Amethyst\", \"Android green\", \"Antique brass\", \"Antique bronze\", \"Antique fuchsia\", \"Antique ruby\", \"Antique white\", \"Apricot\", \"Aqua\", \"Aquamarine\", \"Arctic lime\", \"Artichoke green\", \"Arylide yellow\", \"Ash gray\", \"Atomic tangerine\", \"Aureolin\", \"Azure\", \"Azure (X11/web color)\", \"Baby blue\", \"Baby blue eyes\", \"Baby pink\", \"Baby powder\", \"Baker-Miller pink\", \"Banana Mania\", \"Barbie Pink\", \"Barn red\", \"Battleship grey\", \"Beau blue\", \"Beaver\", \"Beige\", \"B'dazzled blue\", \"Big dip o’ruby\", \"Bisque\", \"Bistre\", \"Bistre brown\", \"Bitter lemon\", \"Black\", \"Black bean\", \"Black coral\", \"Black olive\", \"Black Shadows\", \"Blanched almond\", \"Blast-off bronze\", \"Bleu de France\", \"Blizzard blue\", \"Blood red\", \"Blue\", \"Blue (Crayola)\", \"Blue (Munsell)\", \"Blue (NCS)\", \"Blue (Pantone)\", \"Blue (pigment)\", \"Blue bell\", \"Blue-gray\", \"Blue jeans\", \"Blue sapphire\", \"Blue-violet\", \"Blue yonder\", \"Bluetiful\", \"Blush\", \"Bole\", \"Bone\", \"Brick red\", \"Bright green\", \"Bright lilac\", \"Bright maroon\", \"Bright navy blue\", \"Bright yellow (Crayola)\", \"British racing green\", \"Bronze\", \"Brown\", \"Brown sugar\", \"Brunswick green\", \"Bud green\", \"Buff\", \"Burgundy\", \"Burlywood\", \"Burnished brown\", \"Burnt orange\", \"Burnt sienna\", \"Burnt umber\", \"Byzantine\", \"Byzantium\", \"Cadet\", \"Cadet blue\", \"Cadet grey\", \"Cadmium green\", \"Cadmium orange\", \"Cadmium red\", \"Cadmium yellow\", \"Café au lait\", \"Café noir\", \"Cambridge blue\", \"Camel\", \"Cameo pink\", \"Canary\", \"Canary yellow\", \"Candy apple red\", \"Candy pink\", \"Capri\", \"Cardinal\", \"Caribbean green\", \"Carmine\", \"Carmine (M&P)\", \"Carnation pink\", \"Carnelian\", \"Carolina blue\", \"Carrot orange\", \"Catawba\", \"Cedar Chest\", \"Celadon\", \"Celeste\", \"Celtic blue\", \"Cerise\", \"Cerulean\", \"Cerulean blue\", \"Cerulean frost\", \"Cerulean (Crayola)\", \"Champagne\", \"Champagne pink\", \"Charcoal\", \"Charleston green\", \"Charm pink\", \"Chartreuse (web)\", \"Cherry blossom pink\", \"Chestnut\", \"Chili red\", \"China pink\", \"Chinese red\", \"Chinese violet\", \"Chinese yellow\", \"Chocolate (traditional)\", \"Chocolate (web)\", \"Chocolate Cosmos\", \"Cinereous\", \"Cinnabar\", \"Cinnamon Satin\", \"Citrine\", \"Citron\", \"Claret\", \"Cobalt blue\", \"Coffee\", \"Columbia Blue\", \"Congo pink\", \"Cool grey\", \"Copper\", \"Copper (Crayola)\", \"Copper penny\", \"Copper red\", \"Copper rose\", \"Coquelicot\", \"Coral\", \"Coral pink\", \"Cordovan\", \"Corn\", \"Cornflower blue \", \"Cornsilk\", \"Cosmic cobalt\", \"Cosmic latte\", \"Coyote brown\", \"Cotton candy\", \"Cream\", \"Crimson\", \"Crimson (UA)\", \"Cultured\", \"Cyan\", \"Cyan (process)\", \"Cyber grape\", \"Cyber yellow\", \"Cyclamen\", \"Dark blue-gray\", \"Dark brown\", \"Dark byzantium\", \"Dark cyan\", \"Dark electric blue\", \"Dark goldenrod\", \"Dark green (X11)\", \"Dark jungle green\", \"Dark khaki\", \"Dark lava\", \"Dark liver\", \"Dark liver (horses)\", \"Dark magenta\", \"Dark olive green\", \"Dark orange\", \"Dark orchid\", \"Dark purple\", \"Dark red\", \"Dark salmon\", \"Dark sea green\", \"Dark sienna\", \"Dark sky blue\", \"Dark slate blue\", \"Dark slate gray\", \"Dark spring green\", \"Dark turquoise\", \"Dark violet\", \"Davy's grey\", \"Deep cerise\", \"Deep champagne\", \"Deep chestnut\", \"Deep jungle green\", \"Deep pink\", \"Deep saffron\", \"Deep sky blue\", \"Deep Space Sparkle\", \"Deep taupe\", \"Denim\", \"Denim blue\", \"Desert\", \"Desert sand\", \"Dim gray\", \"Dodger blue\", \"Drab\", \"Duke blue\", \"Dutch white\", \"Earth yellow\", \"Ebony\", \"Ecru\", \"Eerie black\", \"Eggplant\", \"Eggshell\", \"Egyptian blue\", \"Electric blue\", \"Electric indigo\", \"Electric lime\", \"Electric purple\", \"Electric violet\", \"Emerald\", \"Eminence\", \"English lavender\", \"English red\", \"English vermillion\", \"English violet\", \"Erin\", \"Eton blue\", \"Fallow\", \"Falu red\", \"Fandango\", \"Fandango pink\", \"Fawn\", \"Fern green\", \"Field drab\", \"Fiery rose\", \"Finn\", \"Firebrick\", \"Fire engine red\", \"Flame\", \"Flax\", \"Flirt\", \"Floral white\", \"Fluorescent blue\", \"Forest green (web)\", \"French beige\", \"French bistre\", \"French blue\", \"French fuchsia\", \"French lilac\", \"French lime\", \"French mauve\", \"French pink\", \"French raspberry\", \"French sky blue\", \"French violet\", \"Frostbite\", \"Fuchsia\", \"Fuchsia (Crayola)\", \"Fuchsia purple\", \"Fulvous\", \"Fuzzy Wuzzy\", \"Gainsboro\", \"Gamboge\", \"Generic viridian\", \"Ghost white\", \"Glaucous\", \"Glossy grape\", \"GO green\", \"Gold\", \"Gold (metallic)\", \"Gold (web) (Golden)\", \"Gold (Crayola)\", \"Gold Fusion\", \"Golden brown\", \"Golden poppy\", \"Golden yellow\", \"Goldenrod\", \"Gotham green\", \"Granite gray\", \"Granny Smith apple\", \"Gray (web)\", \"Gray (X11 gray)\", \"Green\", \"Green (Crayola)\", \"Green (web)\", \"Green (Munsell)\", \"Green (NCS)\", \"Green (Pantone)\", \"Green (pigment)\", \"Green (RYB)\", \"Green-blue\", \"Green-blue (Crayola)\", \"Green-cyan\", \"Green Lizard\", \"Green Sheen\", \"Green-yellow\", \"Green-yellow (Crayola)\", \"Grenadier\", \"Grullo\", \"Gunmetal\", \"Han blue\", \"Han purple\", \"Hansa yellow\", \"Harlequin\", \"Harvest gold\", \"Heat Wave\", \"Heliotrope\", \"Heliotrope gray\", \"Hollywood cerise\", \"Honeydew\", \"Honolulu blue\", \"Hooker's green\", \"Hot magenta\", \"Hot pink\", \"Hunter green\", \"Iceberg\", \"Icterine\", \"Illuminating emerald\", \"Imperial red\", \"Inchworm\", \"Independence\", \"India green\", \"Indian red\", \"Indian yellow\", \"Indigo\", \"Indigo dye\", \"Infrared\", \"International Klein Blue\", \"International orange (aerospace)\", \"International orange (engineering)\", \"International orange (Golden Gate Bridge)\", \"Iris\", \"Irresistible\", \"Isabelline\", \"Italian sky blue\", \"Ivory\", \"Jade\", \"Japanese carmine\", \"Japanese violet\", \"Jasmine\", \"Jazzberry jam\", \"Jet\", \"Jonquil\", \"June bud\", \"Jungle green\", \"Kelly green\", \"Keppel\", \"Key lime\", \"Khaki (web)\", \"Khaki (X11) (Light khaki)\", \"Kobe\", \"Kobi\", \"Kobicha\", \"Kombu green\", \"KSU purple\", \"Languid lavender\", \"Lapis lazuli\", \"Laser lemon\", \"Laurel green\", \"Lava\", \"Lavender (floral)\", \"Lavender (web)\", \"Lavender blue\", \"Lavender blush\", \"Lavender gray\", \"Lawn green\", \"Lemon\", \"Lemon chiffon\", \"Lemon curry\", \"Lemon glacier\", \"Lemon meringue\", \"Lemon yellow\", \"Lemon yellow (Crayola)\", \"Liberty\", \"Light blue\", \"Light coral\", \"Light cornflower blue\", \"Light cyan\", \"Light French beige\", \"Light goldenrod yellow\", \"Light gray\", \"Light green\", \"Light orange\", \"Light periwinkle\", \"Light pink\", \"Light salmon\", \"Light sea green\", \"Light sky blue\", \"Light slate gray\", \"Light steel blue\", \"Light yellow\", \"Lilac\", \"Lilac Luster\", \"Lime (color wheel)\", \"Lime (web) (X11 green)\", \"Lime green\", \"Lincoln green\", \"Linen\", \"Lion\", \"Liseran purpl\", \"Little boy blue\", \"Liver\", \"Liver (dogs)\", \"Liver (organ)\", \"Liver chestnut\", \"Livid\", \"Macaroni and Cheese\", \"Madder Lake\", \"Magenta\", \"Magenta (Crayola)\", \"Magenta (dye)\", \"Magenta (Pantone)\", \"Magenta (process)\", \"Magenta haze\", \"Magic mint\", \"Magnolia\", \"Mahogany\", \"Maize\", \"Maize (Crayola)\", \"Majorelle blue\", \"Malachite\", \"Manatee\", \"Mandarin\", \"Mango\", \"Mango Tango\", \"Mantis\", \"Mardi Gras\", \"Marigold\", \"Maroon (Crayola)\", \"Maroon (web)\", \"Maroon (X11)\", \"Mauve\", \"Mauve taupe\", \"Mauvelous\", \"Maximum blue\", \"Maximum blue green\", \"Maximum blue purple\", \"Maximum green\", \"Maximum green yellow\", \"Maximum purple\", \"Maximum red\", \"Maximum red purple\", \"Maximum yellow\", \"Maximum yellow red\", \"May green\", \"Maya blue\", \"Medium aquamarine\", \"Medium blue\", \"Medium candy apple red\", \"Medium carmine\", \"Medium champagne\", \"Medium orchid\", \"Medium purple\", \"Medium sea green\", \"Medium slate blue\", \"Medium spring green\", \"Medium turquoise\", \"Medium violet-red\", \"Mellow apricot\", \"Mellow yellow\", \"Melon\", \"Metallic gold\", \"Metallic Seaweed\", \"Metallic Sunburst\", \"Mexican pink\", \"Middle blue\", \"Middle blue green\", \"Middle blue purple\", \"Middle grey\", \"Middle green\", \"Middle green yellow\", \"Middle purple\", \"Middle red\", \"Middle red purple\", \"Middle yellow\", \"Middle yellow red\", \"Midnight\", \"Midnight blue\", \"Midnight green (eagle green)\", \"Mikado yellow\", \"Mimi pink\", \"Mindaro\", \"Ming\", \"Minion yellow\", \"Mint\", \"Mint cream\", \"Mint green\", \"Misty moss\", \"Misty rose\", \"Mode beige\", \"Mona Lisa\", \"Morning blue\", \"Moss green\", \"Mountain Meadow\", \"Mountbatten pink\", \"MSU green\", \"Mulberry\", \"Mulberry\", \"Mustard\", \"Myrtle green\", \"Mystic\", \"Mystic maroon\", \"Nadeshiko pink\", \"Naples yellow\", \"Navajo white\", \"Navy blue\", \"Navy blue (Crayola)\", \"Neon blue\", \"Neon Carrot\", \"Neon green\", \"Neon fuchsia\", \"Netflix red\", \"New York pink\", \"Nickel\", \"Non-photo blue\", \"Nyanza\", \"Ocean Blue\", \"Ocean green\", \"Ochre\", \"Old burgundy\", \"Old gold\", \"Old lace\", \"Old lavender\", \"Old mauve\", \"Old rose\", \"Old silver\", \"Olive\", \"Olive Drab (#3\", \"Olive Drab #7\", \"Olive green\", \"Olivine\", \"Onyx\", \"Opal\", \"Opera mauve\", \"Orange\", \"Orange (Crayola)\", \"Orange (Pantone)\", \"Orange (web)\", \"Orange peel\", \"Orange-red\", \"Orange-red (Crayola)\", \"Orange soda\", \"Orange-yellow\", \"Orange-yellow (Crayola)\", \"Orchid\", \"Orchid pink\", \"Orchid (Crayola)\", \"Outer space (Crayola)\", \"Outrageous Orange\", \"Oxblood\", \"Oxford blue\", \"OU Crimson red\", \"Pacific blue\", \"Pakistan green\", \"Palatinate purple\", \"Pale aqua\", \"Pale cerulean\", \"Pale Dogwood\", \"Pale pink\", \"Pale purple (Pantone)\", \"Pale silver\", \"Pale spring bud\", \"Pansy purple\", \"Paolo Veronese green\", \"Papaya whip\", \"Paradise pink\", \"Parchment\", \"Paris Green\", \"Pastel pink\", \"Patriarch\", \"Paua\", \"Payne's grey\", \"Peach\", \"Peach (Crayola)\", \"Peach puff\", \"Pear\", \"Pearly purple\", \"Periwinkle\", \"Periwinkle (Crayola)\", \"Permanent Geranium Lake\", \"Persian blue\", \"Persian green\", \"Persian indigo\", \"Persian orange\", \"Persian pink\", \"Persian plum\", \"Persian red\", \"Persian rose\", \"Persimmon\", \"Pewter Blue\", \"Phlox\", \"Phthalo blue\", \"Phthalo green\", \"Picotee blue\", \"Pictorial carmine\", \"Piggy pink\", \"Pine green\", \"Pine tree\", \"Pink\", \"Pink (Pantone)\", \"Pink flamingo\", \"Pink lace\", \"Pink lavender\", \"Pink Sherbet\", \"Pistachio\", \"Platinum\", \"Plum\", \"Plum (web)\", \"Plump Purple\", \"Polished Pine\", \"Pomp and Power\", \"Popstar\", \"Portland Orange\", \"Powder blue\", \"Princeton orange\", \"Process yellow\", \"Prune\", \"Prussian blue\", \"Psychedelic purple\", \"Puce\", \"Pullman Brown (UPS Brown)\", \"Pumpkin\", \"Purple\", \"Purple (web)\", \"Purple (Munsell)\", \"Purple (X11)\", \"Purple mountain majesty\", \"Purple navy\", \"Purple pizzazz\", \"Purple Plum\", \"Purpureus\", \"Queen blue\", \"Queen pink\", \"Quick Silver\", \"Quinacridone magenta\", \"Radical Red\", \"Raisin black\", \"Rajah\", \"Raspberry\", \"Raspberry glace\", \"Raspberry rose\", \"Raw sienna\", \"Raw umber\", \"Razzle dazzle rose\", \"Razzmatazz\", \"Razzmic Berry\", \"Rebecca Purple\", \"Red\", \"Red (Crayola)\", \"Red (Munsell)\", \"Red (NCS)\", \"Red (Pantone)\", \"Red (pigment)\", \"Red (RYB)\", \"Red-orange\", \"Red-orange (Crayola)\", \"Red-orange (Color wheel)\", \"Red-purple\", \"Red Salsa\", \"Red-violet\", \"Red-violet (Crayola)\", \"Red-violet (Color wheel)\", \"Redwood \", \"Resolution blue\", \"Rhythm\", \"Rich black\", \"Rich black (FOGRA29)\", \"Rich black (FOGRA39)\", \"Rifle green\", \"Robin egg blue\", \"Rocket metallic\", \"Rojo Spanish red\", \"Roman silver\", \"Rose\", \"Rose bonbon\", \"Rose Dust\", \"Rose ebony\", \"Rose madder\", \"Rose pink\", \"Rose Pompadour\", \"Rose quartz\", \"Rose red\", \"Rose taupe\", \"Rose vale\", \"Rosewood\", \"Rosso corsa\", \"Rosy brown\", \"Royal blue (dark)\", \"Royal blue (light)\", \"Royal purple\", \"Royal yellow\", \"Ruber\", \"Rubine red\", \"Ruby\", \"Ruby red\", \"Rufous\", \"Russet\", \"Russian green\", \"Russian violet\", \"Rust\", \"Rusty red\", \"Sacramento State green\", \"Saddle brown\", \"Safety orange\", \"Safety orange (blaze orange)\", \"Safety yellow\", \"Saffron\", \"Sage\", \"St. Patrick's blue\", \"Salmon\", \"Salmon pink\", \"Sand\", \"Sand dune\", \"Sandy brown\", \"Sap green\", \"Sapphire\", \"Sapphire blue\", \"Sapphire (Crayola)\", \"Satin sheen gold\", \"Scarlet\", \"Schauss pink\", \"School bus yellow\", \"Screamin' Green\", \"Sea green\", \"Sea green (Crayola)\", \"Seance\", \"Seal brown\", \"Seashell\", \"Secret\", \"Selective yellow\", \"Sepia\", \"Shadow\", \"Shadow blue\", \"Shamrock green\", \"Sheen green\", \"Shimmering Blush\", \"Shiny Shamrock\", \"Shocking pink\", \"Shocking pink (Crayola)\", \"Sienna\", \"Silver\", \"Silver (Crayola)\", \"Silver (Metallic)\", \"Silver chalice\", \"Silver pink\", \"Silver sand\", \"Sinopia\", \"Sizzling Red\", \"Sizzling Sunrise\", \"Skobeloff\", \"Sky blue\", \"Sky blue (Crayola)\", \"Sky magenta\", \"Slate blue\", \"Slate gray\", \"Slimy green\", \"Smitten\", \"Smoky black\", \"Snow\", \"Solid pink\", \"Sonic silver\", \"Space cadet\", \"Spanish bistre\", \"Spanish blue\", \"Spanish carmine\", \"Spanish gray\", \"Spanish green\", \"Spanish orange\", \"Spanish pink\", \"Spanish red\", \"Spanish sky blue\", \"Spanish violet\", \"Spanish viridian\", \"Spring bud\", \"Spring Frost\", \"Spring green\", \"Spring green (Crayola)\", \"Star command blue\", \"Steel blue\", \"Steel pink\", \"Steel Teal\", \"Stil de grain yellow\", \"Straw\", \"Strawberry\", \"Strawberry Blonde\", \"Sugar Plum\", \"Sunglow\", \"Sunray\", \"Sunset\", \"Super pink\", \"Sweet Brown\", \"Syracuse Orange\", \"Tan\", \"Tan (Crayola)\", \"Tangerine\", \"Tango pink\", \"Tart Orange\", \"Taupe\", \"Taupe gray\", \"Tea green\", \"Tea rose\", \"Teal\", \"Teal blue\", \"Telemagenta\", \"Tenné (tawny)\", \"Terra cotta\", \"Thistle\", \"Thulian pink\", \"Tickle Me Pink\", \"Tiffany Blue\", \"Timberwolf\", \"Titanium yellow\", \"Tomato\", \"Tourmaline\", \"Tropical rainforest\", \"True Blue\", \"Trypan Blue\", \"Tufts blue\", \"Tumbleweed\", \"Turquoise\", \"Turquoise blue\", \"Turquoise green\", \"Turtle green\", \"Tuscan\", \"Tuscan brown\", \"Tuscan red\", \"Tuscan tan\", \"Tuscany\", \"Twilight lavender\", \"Tyrian purple\", \"UA blue\", \"UA red\", \"Ultramarine\", \"Ultramarine blue\", \"Ultra pink\", \"Ultra red\", \"Umber\", \"Unbleached silk\", \"United Nations blue\", \"University of Pennsylvania red\", \"Unmellow yellow\", \"UP Forest green\", \"UP maroon\", \"Upsdell red\", \"Uranian blue\", \"USAFA blue\", \"Van Dyke brown\", \"Vanilla\", \"Vanilla ice\", \"Vegas gold\", \"Venetian red\", \"Verdigris\", \"Vermilion\", \"Vermilion\", \"Veronica\", \"Violet\", \"Violet (color wheel)\", \"Violet (crayola)\", \"Violet (RYB)\", \"Violet (web)\", \"Violet-blue\", \"Violet-blue (Crayola)\", \"Violet-red\", \"Violet-red (PerBang)\", \"Viridian\", \"Viridian green\", \"Vivid burgundy\", \"Vivid sky blue\", \"Vivid tangerine\", \"Vivid violet\", \"Volt\", \"Warm black\", \"Weezy Blue\", \"Wheat\", \"White\", \"Wild blue yonder\", \"Wild orchid\", \"Wild Strawberry\", \"Wild watermelon\", \"Windsor tan\", \"Wine\", \"Wine dregs\", \"Winter Sky\", \"Wintergreen Dream\", \"Wisteria\", \"Wood brown\", \"Xanadu\", \"Xanthic\", \"Xanthous\", \"Yale Blue\", \"Yellow\", \"Yellow (Crayola)\", \"Yellow (Munsell)\", \"Yellow (NCS)\", \"Yellow (Pantone)\", \"Yellow (process)\", \"Yellow (RYB)\", \"Yellow-green\", \"Yellow-green (Crayola)\", \"Yellow-green (Color Wheel)\", \"Yellow Orange\", \"Yellow Orange (Color Wheel)\", \"Yellow Sunshine\", \"YInMn Blue\", \"Zaffre\", \"Zomp\", ],\n",
        "\n",
        "\t# ARTIST DATABASE\n",
        "\t\"artist\": [ \"Aaron Douglas\", \"Aaron Horkey\", \"Aaron Jasinski\", \"Abbott Fuller Graves\", \"Abed Abdi\", \"Abigail Larson\", \"Adam Martinakis\", \"Adolf HirÃ©my-Hirschl\", \"Adolph Menzel\", \"Adonna Khare\", \"Adrian Ghenie\", \"Adrian Smith\", \"Adrian Tomine\", \"Affandi\", \"Aggi Erguna\", \"Agnes Lawrence Pelton\", \"Akihiko Yoshida\", \"Akira Toriyama\", \"Al Feldstein\", \"Al Williamson\", \"Alan Lee\", \"Alan Moore\", \"Alan Schaller\", \"Albert Bierstadt\", \"Albert Koetsier\", \"Albert Lynch\", \"Albert Watson\", \"Alberto Giacometti\", \"Alberto Vargas\", \"Albrecht Anker\", \"Albrecht Durer\", \"Alec Soth\", \"Alejandro Burdisio\", \"Aleksi Briclot\", \"Alena Aenami\", \"Alex Andreev\", \"Alex Figini\", \"Alex Grey\", \"Alex Horley\", \"Alex Katz\", \"Alex Maleev\", \"Alexander Archipenko\", \"Alexander Jansson\", \"Alexander Milne Calder\", \"Alexandr Averin\", \"Alexandre Cabanel\", \"Alexandre Calame\", \"Alexej von Jawlensky\", \"Alexey Kurbatov\", \"Alfred Kubin\", \"Alfred Parsons\", \"Alice Bailly\", \"Alice Neel\", \"Alison Bechdel\", \"Carne Griffiths\", \"David Inshaw\", \"Thomas Benjamin Kennington\", \"Thomas Blackshear\", \"Thomas Cole\", \"Thomas Dodd\", \"Thomas Eakins\", \"Thomas Gainsborough\", \"Thomas Kinkade\", \"Thomas Visscher\", \"Vincent Tanguay\", \"A.J.Casson\", \"Aaron Siskind\", \"Abbott Handerson Thayer\", \"Abdel Hadi Al Gazzar\", \"Abraham Mintchine\", \"Abraham Pether\", \"Abram Efimovich Arkhipov\", \"Adam Elsheimer\", \"Adam Hughes\", \"Adam Paquette\", \"Adi Granov\", \"Adolph Gottlieb\", \"Adriaen van Ostade\", \"Adriaen van Outrecht\", \"Adrian Donoghue\", \"Adrian Paul Allinson\", \"Adrianus Eversen\", \"Afarin Sajedi\", \"Agnes Cecile\", \"Agnes Martin\", \"Agostino Arrivabene\", \"Agostino Tassi\", \"Ai Weiwei\", \"Ai Yazawa\", \"Akos Major\", \"Akseli Gallen-Kallela\", \"Al Capp\", \"Alain Laboile\", \"Alan Bean\", \"Alan Davis\", \"Alan Kenny\", \"Alan Parry\", \"Alasdair McLellan\", \"Alastair Magnaldo\", \"Alayna Lemmer\", \"Albert Benois\", \"Albert Bloch\", \"Albert Dubois-Pillet\", \"Albert Eckhout\", \"Albert Edelfelt\", \"Albert Gleizes\", \"Albert Goodwin\", \"Albert Joseph Moore\", \"Albert Kotin\", \"Albert Marquet\", \"Albert Pinkham Ryder\", \"Albert Robida\", \"Albert Servaes\", \"Albert Tucker\", \"Alberto Biasi\", \"Alberto Burri\", \"Alberto Magnelli\", \"Alberto Seveso\", \"Alberto Sughi\", \"Alejandro Jodorowsky\", \"Aleksey Savrasov\", \"Alessandro Allori\", \"Alessandro Barbucci\", \"Alessandro Gottardo\", \"Alessio Albi\", \"Alex Alemany\", \"Alex Colville\", \"Alex Garant\", \"Alex Gross\", \"Alex Hirsch\", \"Alex Howitt\", \"Alex Petruk\", \"Alex Prager\", \"Alex Ross\", \"Alex Russell Flint\", \"Alex Schomburg\", \"Alex Timmermans\", \"Alex Toth\", \"Alexander Bogen\", \"Alexander Fedosav\", \"Alexander Kanoldt\", \"Alexander McQueen\", \"Alexander Millar\", \"Alexandre Antigna\", \"Alma Thomas\", \"Alphonse Mucha\", \"Alphonse Osbert\", \"Alvar Aalto\", \"Alyssa Monks\", \"Amadou Opa Bathily\", \"Amanda Clark\", \"Ambrosius Bosschaert\", \"AmÃ©dÃ©e Guillemin\", \"Amedeo Modigliani\", \"Amiet Cuno\", \"Amir Zand\", \"Anato Finnstark\", \"Anders Zorn\", \"Andre Kohn\", \"AndrÃ© Lhote\", \"AndrÃ© Masson\", \"Andrea Kowch\", \"Andreas Achenbach\", \"Andreas Franke\", \"Andreas Gursky\", \"Andreas Rocha\", \"Andrew Atroshenko\", \"Andrew Ferez\", \"Andrew Robinson\", \"Andrew Wyeth\", \"Android Jones\", \"Andy Goldsworthy\", \"Andy Warhol\", \"Angela Sung\", \"Angus McKie\", \"Anish Kapoor\", \"Anka Zhuravleva\", \"Anna Dittmann\", \"Anne Dewailly\", \"Anne Stokes\", \"Anne Truitt\", \"Anne-Louis Girodet\", \"Anni Albers\", \"Annibale Carracci\", \"Annie Soudain\", \"Annie Swynnerton\", \"Ansel Adams\", \"Anthony Gerace\", \"Anthony van Dyck\", \"Antoine Blanchard\", \"Anton Corbijn\", \"Anton Fadeev\", \"Anton Otto Fischer\", \"Anton Pieck\", \"Anton Semenov\", \"Antoni Gaudi\", \"Antonio Mancini\", \"Apollonia Saintclair\", \"Aquirax Uno\", \"Armand Guillaumin\", \"Arnold Bocklin\", \"Aron Demetz\", \"Arshile Gorky\", \"Art Fitzpatrick\", \"Artemisia Gentileschi\", \"Artgerm\", \"Arthur Adams\", \"Arthur Boyd\", \"Arthur Dove\", \"Arthur Garfield Dove\", \"Arthur Hacker\", \"Arthur Rackham\", \"Arthur Radebaugh\", \"Arthur Wardle\", \"Artur Bordalo\", \"Asaf Hanuka\", \"Asher Brown Durand\", \"Ashley Willerton\", \"Ashley Wood\", \"Atay Ghailan\", \"Atelier Olschinsky\", \"Atey Ghailan\", \"Aubrey Beardsley\", \"Audrey Kawasaki\", \"August Macke\", \"Augustus Edwin Mulready\", \"Augustus Jansson\", \"Augustus John\", \"Austin Osman Spare\", \"Ayami Kojima\", \"Ayan Nag\", \"Bakemono Zukushi\", \"Balthus\", \"Banksy\", \"Barbara Kruger\", \"Barclay Shaw\", \"Barry Windsor Smith\", \"Basil Gogos\", \"Bastien Lecouffe-Deharme\", \"Bayard Wu\", \"Beatrix Potter\", \"Beauford Delaney\", \"Beeple\", \"Bella Kotak\", \"Ben Shahn\", \"Ben Templesmith\", \"Benoit B. Mandelbrot\", \"Berend Strik\", \"Bernard Aubertin\", \"Bernard Buffet\", \"Berndnaut Smilde\", \"Bernie Wrightson\", \"Bertil Nilsson\", \"Bijou Karman\", \"Bill Brauer\", \"Bill Henson\", \"Bill Medcalf\", \"Bill Sienkiewicz\", \"Bill Watterson\", \"Billy Childish\", \"Bjarke Ingels\", \"Blek Le Rat\", \"Bo Bartlett\", \"Bob Byerley\", \"Bob Eggleton\", \"Bob Ross\", \"Bojan Koturanovic\", \"Bordalo II\", \"Boris Grigoriev\", \"Boris Vallejo\", \"Botero\", \"Brad Kunkle\", \"Brandon Woelfel\", \"Brenda Zlamany\", \"Brian Despain\", \"Brian Froud\", \"Brian Kesinger\", \"Brian Mashburn\", \"Brian Stelfreeze\", \"Brian Sum\", \"Bridget Bate Tichenor\", \"Briton RiviÃ¨re\", \"Brooke Shaden\", \"Brothers Hildebrandt\", \"Bruce Munro\", \"Bruce Pennington\", \"Bruce Timm\", \"Bruno Munari\", \"C. R. W. Nevinson\", \"Cagnaccio Di San Pietro\", \"Camille Corot\", \"Camille Pissarro\", \"Camille Walala\", \"Canaletto\", \"Candido Portinari\", \"Carel Willink\", \"Carl Barks\", \"Carl Gustav Carus\", \"Carl Holsoe\", \"Carl Larsson\", \"Carl Spitzweg\", \"Carlo Crivelli\", \"Carlos Schwabe\", \"Carmen Saldana\", \"Carrie Mae Weems\", \"Casey Weldon\", \"Caspar David Friedrich\", \"Cassius Marcellus Coolidge\", \"Catherine Hyde\", \"Catrin Welz-Stein\", \"Cedric Peyravernay\", \"Chad Knight\", \"ChaÃ¯m Soutine\", \"Chantal Joffe\", \"Charles Addams\", \"Charles Angrand\", \"Charles Blackman\", \"Charles Camoin\", \"Charles Dana Gibson\", \"Charles E. Burchfield\", \"Charles Gwathmey\", \"Charles Le Brun\", \"Charles Liu\", \"Charles Schridde\", \"Charles Schulz\", \"Charles Spencelayh\", \"Charles Vess\", \"Charles-Francois Daubigny\", \"Charlie Bowater\", \"Charline von Heyl\", \"Chen Zhen\", \"Chesley Bonestell\", \"Chiharu Shiota\", \"Ching Yeh\", \"Chip Zdarsky\", \"Chris Claremont\", \"Chris Cunningham\", \"Chris Foss\", \"Chris Leib\", \"Chris Mars\", \"Chris Moore\", \"Chris Ofili\", \"Chris Saunders\", \"Chris Turnham\", \"Chris Uminga\", \"Chris Van Allsburg\", \"Chris Ware\", \"Christian Dimitrov\", \"Christian Grajewski\", \"Christophe Vacher\", \"Christopher Balaskas\", \"Christopher Jin Baron\", \"Chuck Close\", \"Cicely Mary Barker\", \"Cindy Sherman\", \"Claire Hummel\", \"Clara Miller Burd\", \"Clara Peeters\", \"Clarence Holbrook Carter\", \"Claude Cahun\", \"Claude Monet\", \"Clemens Ascher\", \"Cliff Chiang\", \"Clive Madgwick\", \"Clovis Trouille\", \"Clyde Caldwell\", \"Coby Whitmore\", \"Coles Phillips\", \"Colin Geller\", \"Conor Harrington\", \"Conrad Roset\", \"Constant Permeke\", \"Constantin Brancusi\", \"Cory Arcangel\", \"Cory Loftis\", \"Costa Dvorezky\", \"Craig Davison\", \"Craig Mullins\", \"Craig Wylie\", \"Craola\", \"Cuno Amiet\", \"Cyril Rolando\", \"Dain Yoon\", \"Dale Chihuly\", \"Damien Hirst\", \"Dan Flavin\", \"Dan Kelby\", \"Dan Mumford\", \"Dan Witz\", \"Daniel Buren\", \"Daniel Clowes\", \"Daniel Garber\", \"Daniel Merriam\", \"Daniel Ridgway Knight\", \"Daniela Uhlig\", \"Daniele Afferni\", \"Dante Gabriel Rossetti\", \"Dao Le Trong\", \"Dariusz Zawadzki\", \"Darren Bacon\", \"Darwyn Cooke\", \"Daryl Mandryk\", \"Dave Dorman\", \"Dave Gibbons\", \"Dave McKean\", \"David A. Hardy\", \"David Aja\", \"David B. Mattingly\", \"David Bomberg\", \"David Bowie\", \"David Burdeny\", \"David Burliuk\", \"David Choe\", \"David Driskell\", \"David Finch\", \"David Hockney\", \"David Ligare\", \"David Lynch\", \"David McClellan\", \"David Palumbo\", \"David Shrigley\", \"David Spriggs\", \"David Teniers the Younger\", \"David Wiesner\", \"Dean Cornwell\", \"Dean Ellis\", \"Death Burger\", \"Debbie Criswell\", \"Derek Boshier\", \"Desmond Morris\", \"Diane Arbus\", \"Diane Dillon\", \"Dick Bickenbach\", \"Diego Dayer\", \"Diego Rivera\", \"Diego VelÃ¡zquez\", \"Dmitry Kustanovich\", \"Don Bluth\", \"Don Maitz\", \"Donald Judd\", \"Donato Giancola\", \"Dora Carrington\", \"Dora Maar\", \"Dorina Costras\", \"Dorothea Tanning\", \"Dorothy Lathrop\", \"Doug Chiang\", \"Douglas Smith\", \"Dr. Seuss\", \"Dustin Nguyen\", \"Duy Huynh\", \"E. H. Shepard\", \"Earl Norem\", \"Ed Benedict\", \"Ed Binkley\", \"Ed Brubaker\", \"Ed Emshwiller\", \"Ed Freeman\", \"Ed Mell\", \"Ed Roth\", \"Eddie Campbell\", \"Eddie Mendoza\", \"Edgar Degas\", \"Edmund Dulac\", \"Edmund Leighton\", \"Edouard Manet\", \"Edouard Riou\", \"Eduardo Kobra\", \"Edvard Munch\", \"Edward Atkinson Hornel\", \"Edward Burne-Jones\", \"Edward Gorey\", \"Edward Hopper\", \"Edward John Poynter\", \"Edward Julius Detmold\", \"Edward Lear\", \"Edward Robert Hughes\", \"Edward Steichen\", \"Edward Weston\", \"Edwin Austin Abbey\", \"Edwin Deakin\", \"Edwin Henry Landseer\", \"Eero Saarinen\", \"Egon Schiele\", \"Eiichiro Oda\", \"Eileen Agar\", \"El Greco\", \"Elaine de Kooning\", \"Eleanor Vere Boyle\", \"Elenore Abbott\", \"Eliott Lilly\", \"Ã‰lisabeth VigÃ©e Le Brun\", \"Elizabeth Gadd\", \"Elizabeth Shippen Green\", \"Ellen Gallagher\", \"Ellen Jewett\", \"Elliot Lilly\", \"Elsa Beskow\", \"Emil Alzamora\", \"Emil Ferris\", \"Emil Nolde\", \"Ã‰mile Bernard\", \"Ã‰mile GallÃ©\", \"Emilia Wilk\", \"Emily Kame Kngwarreye\", \"Emma Geary\", \"Emmanuel Shiu\", \"Emmanuelle Moureaux\", \"Emory Douglas\", \"Enki Bilal\", \"Ephraim Moses Lilien\", \"Eric Fischl\", \"Eric Wallis\", \"Eric Zener\", \"Erich Heckel\", \"Erin Hanson\", \"Ernest Crichlow\", \"Ernie Barnes\", \"Ernst Fuchs\", \"Ernst Haas\", \"Ernst Haeckel\", \"Ernst Ludwig Kirchner\", \"Esao Andrews\", \"Etel Adnan\", \"Ethan Van Sciver\", \"Etienne Hebinger\", \"Ã‰tienne-Louis BoullÃ©e\", \"Ettore Sottsass\", \"Ettore Tito\", \"Eugene Delacroix\", \"EugÃ¨ne Grasset\", \"Eugene von Guerard\", \"Evelyn De Morgan\", \"Everett Raymond Kinstler\", \"Evgeni Gordiets\", \"Ewald RÃ¼bsamen\", \"Eyvind Earle\", \"F Scott Hess\", \"Fabian Perez\", \"Fabio Hurtado\", \"Fairfield Porter\", \"Faith 47\", \"Faith Ringgold\", \"Fang Lijun\", \"Farel Dalrymple\", \"Fenghua Zhong\", \"Ferdinand Hodler\", \"Ferdinand Knab\", \"Ferdinand Van Kessel\", \"Fernand Khnopff\", \"Fernand Toussaint\", \"Fernando Herenu\", \"Filip Hodas\", \"Filippino Lippi\", \"Filippo Balbi\", \"Flora Borsi\", \"Ford Madox Brown\", \"Francesca Woodman\", \"Francis Bacon\", \"Francis Coates Jones\", \"Francis Picabia\", \"Francisco De Goya\", \"Francisco MartÃ­n\", \"Frank Auerbach\", \"Frank Frazetta\", \"Frank Gehry\", \"Frank Holl\", \"Frank Lloyd Wright\", \"Frank Miller\", \"Frank Stella\", \"Frank Tinsley\", \"Frank Xavier Leyendecker\", \"Franklin Booth\", \"Franz Marc\", \"Franz Sedlacek\", \"Franz Xaver Winterhalter\", \"Frederic Church\", \"Frederic Remington\", \"Frederick Lord Leighton\", \"Frederick McCubbin\", \"Frida Kahlo\", \"Friedensreich Regentag Dunkelbunt Hundertwasser\", \"Frits Van den Berghe\", \"Gabriel Dawe\", \"Gabriele MÃ¼nter\", \"Gaetano Pesce\", \"Galan Pang\", \"Gareth Pugh\", \"Gary Larson\", \"Gaston BussiÃ¨re\", \"Gediminas Pranckevicius\", \"Genndy Tartakovsky\", \"Geof Darrow\", \"Georg Jensen\", \"Georg Karl Pfahler\", \"George Ault\", \"George Cruikshank\", \"George Dionysus Ehret\", \"George Frederic Watts\", \"George French Angas\", \"George Grosz\", \"George Herriman\", \"George Inness\", \"George Lucas\", \"George Luks\", \"George Stubbs\", \"George Tooker\", \"Georges de La Tour\", \"Georges Rouault\", \"Georges Seurat\", \"Georgia O'Keeffe\", \"Gerald Brom\", \"Gerda Wegener\", \"Gerhard Munthe\", \"Gerhard Richter\", \"Gertrude Abercrombie\", \"Giacomo Balla\", \"Gianluca Foli\", \"Gifford Beal\", \"Gil Elvgren\", \"Gilbert Stuart\", \"Gilberto \\\"Soren\\\" Zaragoza\", \"Giorgio De Chirico\", \"Giotto Di Bondone\", \"Giovanni Battista Bracelli\", \"Giovanni Battista Gaulli\", \"Giovanni Battista Piranesi\", \"Giovanni Battista Venanzi\", \"Giovanni da Udina\", \"Giuseppe Arcimboldo\", \"Giuseppe de Nittis\", \"Gjon Mili\", \"Glen Orbik\", \"Glenn Fabry\", \"Gloria Stoll Karn\", \"Go Nagai\", \"Gordon Browne\", \"Gordon Parks\", \"Goro Fujita\", \"Grace Cossington Smith\", \"Grace Popp\", \"Grandma Moses\", \"Grant Wood\", \"Grayson Perry\", \"Greg Girard\", \"Greg Hildebrandt\", \"Greg Rutkowski\", \"Greg Simkins\", \"Gregory Crewdson\", \"Guerrilla Girls\", \"Guido Borelli Da Caluso\", \"Guido Crepax\", \"Guillermo del Toro\", \"Guo Pei\", \"Gustaf Tenggren\", \"Gustav Klimt\", \"Gustave Buchet\", \"Gustave Courbet\", \"Gustave DorÃ©\", \"Gustave Moreau\", \"Gustave Van de Woestijne\", \"Guy Billout\", \"Gwen John\", \"Gwenda Morgan\", \"H. R. (Hans Ruedi) Giger\", \"H.P. Lovecraft\", \"Haddon Sundblom\", \"Hajime Sorayama\", \"Hal Foster\", \"Hale Woodruff\", \"Hanna-Barbera\", \"Hannah Hoch\", \"Hans Arnold\", \"Hans Baldung\", \"Hans Baluschek\", \"Hans Bellmer\", \"Harold McCauley\", \"Haroon Mirza\", \"Harriet Backer\", \"Harry Clarke\", \"Hasui Kawase\", \"Hayao Miyazaki\", \"Hayv Kahraman\", \"Hein Gorny\", \"Heinrich Kley\", \"Heinrich Lefler\", \"Heinz Edelmann\", \"Helen Frankenthaler\", \"Helene Knoop\", \"Helene Schjerfbeck\", \"Helio Oiticica\", \"Helmut Newton\", \"Hendrick Avercamp\", \"Hendrick Cornelisz Vroom\", \"Hendrick Goltzius\", \"Hendrik Kerstens\", \"Henri De Toulouse Lautrec\", \"Henri Fantin Latour\", \"Henri Matisse\", \"Henri Rousseau\", \"Henri-Edmond Cross\", \"Henriette Grindat\", \"Henry Asencio\", \"Henry Fuseli\", \"Henry Moore\", \"Henry Moret\", \"Henry Ossawa Tanner\", \"Henry Raleigh\", \"Herbert List\", \"Herve Groussin\", \"HervÃ© Guibert\", \"Hethe Srodawa\", \"Hieronymus Bosch\", \"Hikari Shimoda\", \"Hilma AF Klint\", \"Hirohiko Araki\", \"Hiroshi Nagai\", \"Hiroshi Sugimoto\", \"Hiroshi Yoshida\", \"Honor C. Appleton\", \"HonorÃ© Daumier\", \"Hope Gangloff\", \"Horace Vernet\", \"Hou China\", \"Howard Chandler Christy\", \"Howard Finster\", \"Howard Hodgkin\", \"Howard Pyle\", \"Hsiao-Ron Cheng\", \"Hubert Robert\", \"Hugh Ferriss\", \"Hugh Kretschmer\", \"Hundertwasser\", \"Hyacinthe Rigaud\", \"Iain Faulkner\", \"Ian McQue\", \"Ian Miller\", \"Ida Rentoul Outhwaite\", \"Igor Morski\", \"Igor Wolski\", \"Igor Zenin\", \"Ilya Kuvshinov\", \"Ilya Repin\", \"Incarcerated Jerkfaces\", \"Ingrid Baars\", \"Inio Asano\", \"Irma Stern\", \"Iryna Yermolova\", \"Isaac Cordal\", \"Isaac Levitan\", \"Ismail Inceoglu\", \"Issac Levitan\", \"Istvan Banyai\", \"ItÅ JakuchÅ«\", \"Ivan Aivazovksy\", \"Ivan Aivazovsky\", \"Ivan Albright\", \"Ivan Bilibin\", \"Ivan Shishkin\", \"Iwan Baan\", \"J. J. Grandville\", \"J.C. Leyendecker\", \"J.M.W. Turner\", \"Jacek Yerka\", \"Jack Butler Yeats\", \"Jack Davis\", \"Jack Gaughan\", \"Jack Kirby\", \"Jackson Pollock\", \"Jacob Hashimoto\", \"Jacob Lawrence\", \"Jacob van Ruisdael\", \"Jacques Le Moyne\", \"Jacques Nathan-Garamond \", \"Jake Parker\", \"Jakub RÃ³Å¼alski\", \"James Abbott McNeill Whistler\", \"James C Christensen\", \"James Ensor\", \"James Gilleard\", \"James Gillray\", \"James Gurney\", \"James Jean\", \"James Montgomery Flagg\", \"James Paick\", \"James Stokoe\", \"James Thomas Watts\", \"James Tissot\", \"James Turrell\", \"Jamie Baldridge\", \"Jamie Hawkesworth\", \"Jamie Hewlett\", \"Jamie McKelvie\", \"Jamini Roy\", \"Jan Brett\", \"Jan Luyken\", \"Jan Pietersz Saenredam\", \"Jan Van Eyck\", \"Jan van Kessel the Elder\", \"Jane Graverol\", \"Jane Newland\", \"Janek Sedlar\", \"Jasmine Becket-Griffith\", \"Jason A. Engle\", \"Jason Chan\", \"Jason Edmiston\", \"Jasper Johns\", \"Jaume Plensa\", \"Jaya Suberg\", \"JC Leyendecker\", \"Jean Arp\", \"Jean Auguste Dominique Ingres\", \"Jean Bourdichon\", \"Jean Delville\", \"Jean Dubuffet\", \"Jean Fouquet\", \"Jean Giraud\", \"Jean Jullien\", \"Jean Marc Nattier\", \"Jean Metzinger\", \"Jean Nouvel\", \"Jean-Antoine Watteau\", \"Jean-Baptiste Monge\", \"Jean-FranÃ§ois Millet\", \"Jean-HonorÃ© Fragonard\", \"Jean-LÃ©on GÃ©rÃ´me\", \"Jean-Louis Prevost\", \"Jean-Michel Basquiat\", \"Jean-Paul Riopelle\", \"Jeanloup Sieff\", \"Jeannette Guichard-Bunel\", \"Jed Henry\", \"Jef Wu\", \"Jeff Easley\", \"Jeff Goldblum\", \"Jeff Kinney\", \"Jeff Koons\", \"Jeff Legg\", \"Jeff Lemire\", \"Jeff Simpson\", \"Jeff Wall\", \"Jeffrey Catherine Jones\", \"Jeffrey Smith art\", \"Jeffrey T. Larson\", \"Jenny Saville\", \"JennyBird Alcantara\", \"Jeremiah Ketner\", \"Jeremy Geddes\", \"Jeremy Lipking\", \"Jeremy Mann\", \"Jerry Pinkney\", \"Jerry Siegel\", \"Jerzy Duda-Gracz\", \"Jesper Ejsing\", \"Jesper Ejsing\", \"Jessica Rossier\", \"Jessica Woulfe\", \"Jessie Willcox Smith\", \"Jhonen Vasquez\", \"Jillian Tamaki\", \"Jim Burns\", \"Jim Davis\", \"Jim Lee\", \"Jim Mahfood\", \"Jim Woodring\", \"Jimmy Ernst\", \"Jimmy Lawlor\", \"Joachim Brohm\", \"Joan MirÃ³\", \"Joan Tuset\", \"Joanna Kustra\", \"Joao Ruas\", \"JoaquÃ­n Sorolla\", \"Joe Bowler\", \"Joe De Mers\", \"Joe Fenton\", \"Joe Jusko\", \"Joe Madureira\", \"Joe Webb\", \"Joel Meyerowitz\", \"Joel Sternfeld\", \"Joey Chou\", \"Johann Wolfgang von Goethe\", \"Johannes Itten\", \"Johannes Vermeer\", \"Johannes Voss\", \"Johfra Bosschart\", \"John Anster Fitzgerald\", \"John Atherton\", \"John Atkinson Grimshaw\", \"John Bauer\", \"John Berkey\", \"John Blanche\", \"John Bratby\", \"John Cassaday\", \"John Constable\", \"John Currin\", \"John Duncan\", \"John Frederick Kensett\", \"John French Sloan\", \"John Harris\", \"John Howe\", \"John Hoyland\", \"John James Audubon\", \"John Kenn Mortensen\", \"John La Farge\", \"John Lavery\", \"John Martin\", \"John Perceval\", \"John Philip Falter\", \"John Salminen\", \"John Singer Sargent\", \"John Singleton Copley\", \"John Stezaker\", \"John Totleben\", \"John Wayne Gacy\", \"John Whitcomb\", \"John Wilhelm\", \"John William Waterhouse\", \"Jon Klassen\", \"Jon McCoy\", \"Jon Whitcomb\", \"Jordan Grimmer\", \"Jorge Jacinto\", \"Josan Gonzalez\", \"JosÃ© Clemente Orozco\", \"Josef Albers\", \"Joseph Cornell\", \"Joseph Ducreux\", \"Joseph Lorusso\", \"Joseph Mallord William Turner\", \"Joseph Stella\", \"Josephine Wall\", \"Josh Kao\", \"Josh Keyes\", \"Jovana Rikalo\", \"JÃ³zef Mehoffer\", \"Juan Gris\", \"Judy Chicago\", \"Juergen Teller\", \"Jules Bastien-Lepage\", \"Julia Contacessi\", \"Julian Calle\", \"Juliana Huxtable\", \"Julie Bell\", \"Julie Blackmon\", \"Julie Mehretu\", \"Julien Delval\", \"Julius Horsthuis\", \"Jun Kaneko\", \"Junji Ito\", \"Justin Gerard\", \"Kadir Nelson\", \"Kaethe Butcher\", \"Kapwani Kiwanga\", \"Karel Appel\", \"Karel Thole\", \"Karen Wallis\", \"Karl Blossfeldt\", \"Karl Schmidt-Rottluff\", \"Karol Bak\", \"Kasia Nowowiejska\", \"Kate Beaton\", \"Kate Greenaway\", \"KÃ¤the Kollwitz\", \"Kathryn Morris Trotter\", \"Kati Horna\", \"Katsuhiro Otomo\", \"Katsushika Hokusai\", \"Kawanabe KyÅsai\", \"Kaws\", \"Kay Nielsen\", \"Kay Sage\", \"Kazimir Malevich\", \"Kazuo Koike\", \"Kehinde Wiley\", \"Keith Haring\", \"Keith Negley\", \"Keith Parkinson\", \"Kelly Freas\", \"Kelly Mckernan\", \"Kelly Sue Deconnick\", \"Kelly Vivanco\", \"Ken Fairclough\", \"Ken Kelly\", \"Ken Sugimori\", \"Kengo Kuma\", \"Kenne Gregoire\", \"Kent Monkman\", \"Kentaro Miura\", \"Kevin Gnutzmans\", \"Kevin Sloan\", \"Kieron Gillen\", \"Kilian Eng\", \"Kim Jung Gi\", \"Kim Keever\", \"Kitagawa Utamaro\", \"Kitty Lange Kielland\", \"Klaus Burgle\", \"Klaus Janson\", \"Klaus Wittmann\", \"Kobayashi Kiyochika\", \"Konstantin Korovin\", \"Konstantin Yuon\", \"Koson Ohara\", \"Krenz Cushart\", \"Kris Kuksi\", \"Kuang Hong\", \"Kunisada\", \"Kuno Veeber\", \"Kurzgesagt\", \"L. Birge Harrison\", \"Lady Pink\", \"Larry Elmore\", \"Larry Poons\", \"Larry Sultan\", \"LÃ¡szlÃ³ Moholy-Nagy\", \"Laurel Burch\", \"Laurent Grasso\", \"Laurie Greasley\", \"Laurie Lipton\", \"Lawren Harris\", \"Lee Krasner\", \"Lee Madgwick\", \"Lee Quinones\", \"Leiji Matsumoto\", \"Leon Kossoff\", \"Leonardo Da Vinci\", \"Leonetto Cappiello\", \"Leonid Afremov\", \"Leonora Carrington\", \"Les Edwards\", \"Lesley Vance\", \"Leticia Gillett\", \"Liam Wong\", \"Liang Mark\", \"Lisa Frank\", \"Lisa Keene\", \"Liu Ye\", \"Liubov Sergeevna Popova\", \"Lois van Baarle\", \"Loish\", \"Lorena Alvarez GÃ³mez\", \"Lorenz Hideyoshi\", \"Loretta Lux\", \"Lori Earley\", \"Louis Comfort Tiffany\", \"Louis Glackens\", \"Louis Icart\", \"Louis Janmot\", \"Louis Rhead\", \"Louis Wain\", \"Louise Bourgeois\", \"Louise Dahl-Wolfe\", \"Lovis Corinth\", \"Luca Boni\", \"Lucas Cranach the Elder\", \"Lucian Freud\", \"Lucy Madox Brown\", \"Ludwig Mies van der Rohe\", \"Luis Royo\", \"Luisa Russo\", \"Lynd Ward\", \"Lynda Barry\", \"Lynda Benglis\", \"Lyonel Feininger\", \"Lyubov Popova\", \"M.C. Escher\", \"M.W. Kaluta\", \"Mab Graves\", \"Maginel Wright Enright Barney\", \"Magnus Enckell\", \"Makoto Shinkai\", \"Malcolm Liepke\", \"Man Ray\", \"Mandy Disher\", \"Mao Hamaguchi\", \"Marat Latypov\", \"Marc Chagall\", \"Marc Davis\", \"Marc Samson\", \"Marc Simonetti\", \"Marcin Jakubowski\", \"Marco Mazzoni\", \"Marcus Selmer\", \"Marek Okon\", \"Margaret Brundage\", \"Margaret Macdonald Mackintosh\", \"Margaret Mee\", \"Margaux Valonia\", \"Maria Kreyn\", \"Maria Pascual Alberich\", \"Maria Sibylla Merian\", \"Marianne North\", \"Marianne von Werefkin\", \"Marie Guillemine Benoist\", \"Marie Spartali Stillman\", \"Marina AbramoviÄ‡\", \"Marius Borgeaud\", \"Marjane Satrapi\", \"Mark Arian\", \"Mark Briscoe\", \"Mark Brooks\", \"Mark Keathley\", \"Mark Lovett\", \"Mark Rothko\", \"Mark Ryden\", \"Mark Seliger\", \"Marsden Hartley\", \"Martin Ansin\", \"Martin Deschambault\", \"Martin John Heade\", \"Martin Johnson Heade\", \"Martin Kippenberger\", \"Martine Johanna\", \"Martiros Saryan\", \"Mary Anning\", \"Mary Blair\", \"Mary Cassatt\", \"Masaaki Masamoto\", \"Masaaki Sasamoto\", \"Masamune Shirow\", \"Mat Collishaw\", \"Mati Klarwein\", \"Matias Hannecke\", \"Matt Bors\", \"Matt Fraction\", \"Matt Groening\", \"Matthias GrÃ¼newald\", \"Matthias Jung\", \"Matti Suuronen\", \"Maurice Sendak\", \"Max Beckmann\", \"Max Dupain\", \"Max Ernst\", \"Max Pechstein\", \"Max Weber\", \"Maxfield Parrish\", \"Maximilian Pirner\", \"Maximilien Luce\", \"Maxwell Boas\", \"Mead Schaeffer\", \"MÃ©ret Oppenheim\", \"Meryl McMaster\", \"Michael Carson\", \"Michael Cheval\", \"Michael Deforge\", \"Michael Heizer\", \"Michael Hutter\", \"Michael Parkes\", \"Michael Sowa\", \"Michael Whelan\", \"Michal Karcz\", \"Michal Lisowski\", \"Michelangelo Buonarroti\", \"Michelangelo Merisi Da Caravaggio\", \"Mickalene Thomas\", \"Miho Hirano\", \"Mikalojus Konstantinas Ciurlionis\", \"Mike Campau\", \"Mike Deodato\", \"Mike Mayhew\", \"Mike Mignola\", \"Mike Winkelmann (Beeple)\", \"Mike Worrall\", \"Mikhail Larionov\", \"Mikhail Nesterov\", \"Mikhail Vrubel\", \"Mikko Lagerstedt\", \"Milo Manara\", \"Milton Avery\", \"Milton Caniff\", \"Milton Glaser\", \"Miriam Schapiro\", \"Moebius\", \"Mordecai Ardon\", \"Mort Kunstler\", \"Muxxi\", \"Nagel Patrick\", \"Nan Goldin\", \"Naoki Urasawa\", \"Naoko Takeuchi\", \"Naomi Okubo\", \"Naoto Hattori\", \"Natalia Goncharova\", \"Nathan Coley\", \"Nathan Wirth\", \"NC Wyeth\", \"Neil Boyle\", \"Neil Welliver\", \"Nele Zirnite\", \"NHK Animation\", \"Ni Chuanjing\", \"Nicholas Roerich\", \"Nick Knight\", \"Nick Sharratt\", \"Nick Silva\", \"Nicola Samori\", \"Nicolas de Stael\", \"Nicolas Delort\", \"Nicolas Mignard\", \"Nikolai Ge\", \"Nikolina Petolas\", \"Noah Bradley\", \"Nobuyoshi Araki\", \"Noelle Stevenson\", \"Noriyoshi Ohrai\", \"Norman Ackroyd\", \"Norman Bluhm\", \"Norman Foster\", \"Norman Rockwell\", \"Octavio Ocampo\", \"Odd Nerdrum\", \"Odilon Redon\", \"Ogawa Kazumasa\", \"Ohara Koson\", \"Olafur Eliasson\", \"Oleg Oprisco\", \"Olga Skomorokhova\", \"Olivier Bonhomme\", \"Olivier Valsecchi\", \"Ollie Hoff\", \"Os Gemeos\", \"Osamu Tezuka\", \"OSGEMEOS\", \"Oskar Fischinger\", \"Oskar Kokoschka\", \"Ossip Zadkine\", \"Otto Dix\", \"Otto Marseus van Schrieck\", \"Pablo Picasso\", \"Pamela Colman Smith\", \"Paolo Roversi\", \"Paolo Veronese\", \"Pascal Blanche\", \"Pascale Campion\", \"Patrice Murciano\", \"Patricia Polacco\", \"Patrick Brown\", \"Patrick Caulfield\", \"Patrick Dougherty\", \"Patrick Heron\", \"Patrick Woodroffe\", \"Paul Barson\", \"Paul CÃ©zanne\", \"Paul Chadeisson\", \"Paul Corfield\", \"Paul Delvaux\", \"Paul Gauguin\", \"Paul Gustav Fischer\", \"Paul Henry\", \"Paul Klee\", \"Paul Laffoley\", \"Paul Lehr\", \"Paul Ranson\", \"Paul Strand\", \"Paul Wonner\", \"Paula Modersohn-Becker\", \"Paulus Potter\", \"Pawel Kuczynski\", \"Peter Andrew Jones\", \"Peter Bagge\", \"Peter De Seve\", \"Peter Doig\", \"Peter Elson\", \"Peter Gric\", \"Peter Holme III\", \"Peter Howson\", \"Peter Kemp\", \"Peter Max\", \"Peter Milligan\", \"Peter Mohrbacher\", \"Peter Paul Rubens\", \"Peter Sculthorpe\", \"Peter Wileman\", \"Peter Zumthor\", \"Phil Foglio\", \"Phil Jimenez\", \"Phil Koch\", \"Phil Noto\", \"Philip Guston\", \"Philippe Druillet\", \"Philippe Parreno\", \"Pierre Bonnard\", \"Pierre Puvis de Chavannes\", \"Pierre-Auguste Renoir\", \"Piet Hein Eek\", \"Piet Mondrian\", \"Pieter Aertsen\", \"Pieter Bruegel The Elder\", \"Pieter Claesz\", \"Pieter de Hooch\", \"Pieter Jansz Saenredam\", \"Piotr JabÅ‚oÅ„ski\", \"Pipilotti Rist\", \"Pixar\", \"Pixar Concept Artists\", \"Posuka Demizu\", \"Qian Xuan\", \"Qing Han\", \"Quentin Blake\", \"Quentin Tarantino\", \"Quint Buchholz\", \"Rafael Albuquerque\", \"RafaÅ‚ OlbiÅ„ski\", \"Raffaello Sanizo\", \"Raina Telgemeier\", \"Raja Ravi Varma\", \"Ralph Horsley\", \"Ralph McQuarrie\", \"Ralph Steadman\", \"Ramon Casas\", \"Randolph Caldecott\", \"Raphael\", \"Raphael Lacoste\", \"Raphaelle Peale\", \"Ravi Zupa\", \"Ray Caesar\", \"Ray Donley\", \"Raymond Briggs\", \"Raymond Duchamp-Villon\", \"Raymond Leech\", \"Raymond Swanland\", \"Rayner Alencar\", \"Rebeca Saray\", \"Rebecca Guay\", \"Rebecca Louise Law\", \"Rebecca Sugar\", \"Reginald Marsh\", \"Rembrandt Van Rijn\", \"Remedios Varo\", \"RenÃ© Lalique\", \"Rene Laloux\", \"Rene Magritte\", \"RETNA (Marquis Lewis)\", \"Reylia Slaby\", \"RHADS\", \"Rich Davies\", \"Richard Burlet\", \"Richard Corben\", \"Richard Dadd\", \"Richard Deacon\", \"Richard Diebenkorn\", \"Richard Doyle\", \"Richard Eurich\", \"Richard Hamilton\", \"Richard Lindner\", \"Richard McGuire\", \"Richard Misrach\", \"Richard S. Johnson\", \"Richard Scarry\", \"Rick Guidice\", \"ROA\", \"Rob Gonsalves\", \"Rob Liefeld\", \"Robby Cavanaugh\", \"Robert Antoine Pinchon\", \"Robert Chew\", \"Robert Childress\", \"Robert Crumb\", \"Robert Farkas\", \"Robert Hagan\", \"Robert Irwin\", \"Robert M Cunningham\", \"Robert Maguire\", \"Robert McCall\", \"Robert Mcginnis\", \"Robert Motherwell\", \"Robert Neubecker\", \"Robert Rauschenberg\", \"Robert S. Duncanson\", \"Robert Stivers\", \"Robert Vonnoh\", \"Robert William Hume\", \"Robert Williams\", \"Roberto Ferri\", \"Roberto Matta\", \"Roberto Parada\", \"Rockwell Kent\", \"Rodney Matthews\", \"RodrÃ­guez ARS\", \"Roger Ballen\", \"Roger de La Fresnaye\", \"Roger Dean\", \"Rolf Armstrong\", \"Romero Britto\", \"Ron Mueck\", \"Ron Walotsky\", \"Ronald Balfour\", \"Ross Tran\", \"Roy Gjertson\", \"Roy Lichtenstein\", \"Roz Chast\", \"Ruan Jia\", \"Rudolf Freund\", \"Rufino Tamayo\", \"Rumiko Takahashi\", \"Russ Mills\", \"Russell Ayto\", \"Ruth Bernhard\", \"Ruxing Gao\", \"Ryan Hewett\", \"Ryan McGinley\", \"Ryan Stegman\", \"Ryohei Hase\", \"Sacha Goldberger\", \"Sailor Moon\", \"Sakai HoÌ„itsu\", \"Sally Mann\", \"Salomon van Ruysdael\", \"Salvador Dali\", \"Sam Bosma\", \"Sam Kieth\", \"Sam Spratt\", \"Samuel and Joseph Newsom\", \"Samuel Earp\", \"Samuel Melton Fisher\", \"Sandra Chevrier\", \"Sandro Botticelli\", \"Sandy Skoglund\", \"Saner Edgar\", \"Sanford Kossin\", \"Sangyeob Park\", \"Santiago Calatrava\", \"Santiago Caruso\", \"Sara Wollfalk\", \"Sarah Lucas\", \"Satoshi Kon\", \"Saturno Butto\", \"Saul Bass\", \"Saul Steinberg\", \"Saul Tepper\", \"Scarlett Hooft Graafland\", \"Scott Brundage\", \"Scott Listfield\", \"Scott Naismith\", \"Sean Scully\", \"Sean Yoro\", \"Seb Mckinnon\", \"Sebastian Errazuriz\", \"Serge Marshennikov\", \"Shaddy Safadi\", \"Shaun Tan\", \"Shawn Coss\", \"Sheilah Beckett\", \"Shepard Fairey\", \"Sherree Valentine Daines\", \"Shin Jeongho\", \"Shinji Aramaki\", \"Shintaro Kago\", \"Shohei Otomo\", \"Shotaro Ishinomori\", \"Shusei Nagaoko\", \"Sidney Nolan\", \"Silvestro Lega\", \"Simeon Solomon\", \"Simon Birch\", \"Simon Bisley\", \"Simon Stalenhag\", \"Simone Martini\", \"Sir James Guthrie\", \"Siya Oum\", \"Skottie Young\", \"Skottie Young\", \"Slim Aarons\", \"Sofonisba Anguissola\", \"Sonia Delaunay\", \"Sou Fujimoto\", \"Sparth\", \"Squeak Carnwath\", \"Stan And Jan Berenstain\", \"Stan Lee\", \"Stanislav Poltavsky\", \"StanisÅ‚aw Szukalski\", \"Stanley Donwood\", \"Stephan Martiniere\", \"Stephen Gammell\", \"Stephen Oakley\", \"Stephen Shore\", \"Stevan Dohanos\", \"Steve Argyle\", \"Steve Dillon\", \"Steve Ditko\", \"Steve Henderson\", \"Steve Lieber\", \"Steve McCurry\", \"Steven Belledin\", \"Storm Thorgerson\", \"Stuart Davis\", \"Stuart Haygarth\", \"Stuart Immonen\", \"Studio Ghibli\", \"Sue Bryce\", \"Susan Luo\", \"Susan Seddon Boulet\", \"Sven Nordqvist\", \"Syd Mead\", \"Sydney Edmunds\", \"Sydney Prior Hall\", \"Tadao Ando\", \"TaiyÅ Matsumoto\", \"Takashi Murakami\", \"Takato Yamamoto\", \"Takeshi Obata\", \"Tamara Lempicka\", \"Tan Zhi Hui\", \"Tara McPherson\", \"Tari MaÌrk DaÌvid\", \"Tatsuro Kiuchi\", \"teamLab\", \"Ted Nasmith\", \"Ted Wallace\", \"Teophilus Tetteh\", \"Terada Katsuya\", \"Teresa Ramos\", \"Terry Oakes\", \"Terry Redlin\", \"Tex Avery\", \"theCHAMBA\", \"Theo van Rysselberghe\", \"ThÃ©odore GÃ©ricault\", \"Thomas Allom\", \"Thomas Moran\", \"Thomas Rowlandson\", \"Thomas Saliot\", \"Thomas Struth\", \"Thomas W Schaller\", \"Thornton Oakley\", \"Tibor Nagy\", \"Till Freitag\", \"Tim Burton\", \"Tim Doyle\", \"Tim Hildebrandt\", \"Tim White\", \"Tintoretto\", \"Titian\", \"Todd McFarlane\", \"Todd Schorr\", \"Toei Animations\", \"Tokujin Yoshioka\", \"tokyogenso\", \"Tom Bagshaw\", \"Tom Hammick\", \"Tom Lovell\", \"Tom Roberts\", \"Tom Thomson\", \"Tom Whalen\", \"Tomasz Alen Kopera\", \"Tomer Hanuka\", \"Tomi Ungerer\", \"Tomma Abts\", \"Tomokazu Matsuyama\", \"Tony DiTerlizzi\", \"Tony Moore\", \"Toshiharu Mizutani\", \"Toumas Korpi\", \"Tove Jansson\", \"Tracey Emin\", \"Travis Louie\", \"Tristan Eaton\", \"Tsutomu Nihei\", \"Tyler Edlin\", \"Tyler Shields\", \"Tyler West\", \"Ub Iwerks\", \"Uemura Shoen\", \"Ul Di Rico\", \"Umberto Boccioni\", \"Utagawa Hiroshige\", \"Valerie Hegarty\", \"Vhils\", \"Victo Ngai\", \"Victor Adame Minguez\", \"Victor Brauner\", \"Victor Medina\", \"Victor Moscoso\", \"Victor Nizovtsev\", \"Victor Vasarely\", \"Victoria Crowe\", \"Viktor Vasnetsov\", \"Viktoria Gavrilenko\", \"Vincent Di Fate\", \"Vincent Van Gogh\", \"Virgil Finlay\", \"Vito Acconci\", \"Vittorio Matteo Corcos\", \"Vivian Maier\", \"Viviane Sassen\", \"Vivienne Westwood\", \"Vladimir Kush\", \"W. Heath Robinson\", \"W.W. Denslow\", \"Wadim Kashin\", \"Walt Disney\", \"Walt Kelly\", \"Walter Crane\", \"Walter Kim\", \"Walter Langley\", \"Walter Percy Day\", \"Wangechi Mutu\", \"Warren Ellis\", \"Warwick Globe\", \"Wassily Kandinsky\", \"Wayne Barlowe\", \"Wendy Froud\", \"Wes Anderson\", \"Wilfredo Lam\", \"Will Barnet\", \"Will Eisner\", \"Willem de Kooning\", \"Willem van Haecht\", \"William Blake\", \"William Eggleston\", \"William Etty\", \"William Gropper\", \"William Henry Hunt\", \"William Hogarth\", \"William Holman Hunt\", \"William Kentridge\", \"William Morris\", \"William S. Burroughs\", \"William Steig\", \"William Stout\", \"William Wegman\", \"William Zorach\", \"William-Adolphe Bouguereau\", \"Wim Crouwel\", \"Wim Wenders\", \"Winslow Homer\", \"Winsor McCay\", \"Wojciech Ostrycharz\", \"Wolf Kahn\", \"Wolfgang Tillmans\", \"Worthington Whittredge\", \"Yaacov Agam\", \"Yang Jialun\", \"Yanjun Cheng\", \"Yasuo Kuniyoshi\", \"Yasushi Nirasawa\", \"Yasutomo Oka\", \"Yayi Morales\", \"Yayoi Kusama\", \"Yiannis Moralis\", \"Yinka Shonibare\", \"Yohann Schepacz\", \"Yoji Shinkawa\", \"Yoshitaka Amano\", \"Yoshiyuki Tomino\", \"Yue Minjun\", \"Yuri Ivanovich Pimenov\", \"Yuumei\", \"Yves Klein\", \"Yves Tanguy\", \"Zack Snyder\", \"Zaha Hadid\", \"Zanele Muholi\", \"ZdzisÅ‚aw BeksiÅ„ski\", \"Zeen Chin\", \"Zhang Kechun\", \"Zhelong Xu\", \"Zhichao Cai\", \"Zinaida Serebriakova\", \"Alexandre Benois\", \"Alexandre Jacovleff\", \"Alexandre-EÌvariste Fragonard\", \"Alexei Harlamoff\", \"Alexis Gritchenko\", \"Alfred Augustus Glendening\", \"Alfred Cheney Johnston\", \"Alfred Eisenstaedt\", \"Alfred Guillou\", \"Alfred Heber Hutty\", \"Alfred Henry Maurer\", \"Alfred Kelsner\", \"Alfred Munnings\", \"Alfred Sisley\", \"Alfred Stevens\", \"Alfredo Jaar\", \"Algernon Blackwood\", \"Alice Pasquini\", \"Alice Rahon\", \"Aliza Razell\", \"Allen Williams\", \"Allie Brosh\", \"Allison Bechdel\", \"Alois Arnegger\", \"Alpo Jaakola\", \"Alson Skinner Clark\", \"Alvaro Siza\", \"Alvin Langdon Coburn\", \"Amadeo De Souza-Cardoso\", \"Amanda Sage\", \"Amandine Van Ray\", \"Ambrosius Benson\", \"Amedee Ozenfant\", \"Aminollah Rezaei\", \"Amy Earles\", \"Amy Judd\", \"Amy Sillman\", \"Anatoly Metlan\", \"Ando Fuchs\", \"Andre De Dienes\", \"Andre Derain\", \"Andre Kertesz\", \"Andre Leblanc\", \"Andre Norton\", \"Andre-Charles Boulle\", \"Andrea Mantegna\", \"Andreas Levers\", \"Andreas Vesalius\", \"AndreÌi Arinouchkine\", \"Andrei Markin\", \"Andrew Hem\", \"Andrew Macara\", \"Andrey Remnev\", \"Andrzej Sykut\", \"Andy Fairhurst\", \"Andy Kehoe\", \"Angela Barrett\", \"Anita Malfatti\", \"Anja Millen\", \"Anja Percival\", \"Ann Stookey\", \"Anna Ancher\", \"Anna and Elena Balbusso\", \"Anna Bocek\", \"Anna Razumovskaya\", \"Anne Bachelier\", \"Anne Brigman\", \"Anne Mccaffrey\", \"Anne Packard\", \"Anne Rothenstein\", \"Anne Sudworth\", \"Annick Bouvattier\", \"Anselm Kiefer\", \"Antanas Sutkus\", \"Anthony Thieme\", \"Anto Carte\", \"Antoine Verney-Carron\", \"Anton Domenico Gabbiani\", \"Anton Mauve\", \"Anton Raphael Mengs\", \"Antonello da Messina\", \"Antonio Canova\", \"Antonio Donghi\", \"Antonio J. Manzanedo\", \"Antonio Mora\", \"Antonio Roybal\", \"Antony Gormley\", \"Apollinary Vasnetsov\", \"Archibald Thorburn\", \"Aries Moross\", \"Arik Brauer\", \"Aristarkh Lentulov\", \"Aristide Maillol\", \"Arkhyp Kuindzhi\", \"Arman Manookian\", \"Armand Point\", \"Arnold BÃ¶cklin\", \"Arnold Schoenberg\", \"Aron Wiesenfeld\", \"Art Frahm\", \"Art Spiegelman\", \"Artem Chebokha\", \"Arthur Hughes\", \"Arthur Lismer\", \"Arthur Sarnoff\", \"Arthur Stanley Wilkinson\", \"Arthur Streeton\", \"Arthur Tress\", \"Arturo Souto\", \"Artus Scheiner\", \"Ary Scheffer\", \"Asger Jorn\", \"August Friedrich Schenck\", \"August Sander\", \"August von Pettenkofen\", \"Auguste Herbin\", \"Auguste Mambour\", \"Auguste Toulmouche\", \"Axel TÃ¶rneman\", \"Aykut Aydogdu\", \"Barbara Hepworth\", \"Barbara Stauffacher Solomon\", \"Barbara Takenaga\", \"Barkley L. Hendricks\", \"Barnett Newman\", \"Barry McGee\", \"Bart Sears\", \"Barthel Bruyn the Elder\", \"Barthel Bruyn the Younger\", \"Bartolome Esteban Murillo\", \"Becky Cloonan\", \"Ben Aronson\", \"Ben Goossens\", \"Ben Hatke\", \"Ben Nicholson\", \"Ben Quilty\", \"Ben Wooten\", \"Benedetto Caliari\", \"Benedick Bana\", \"Bernardo Bellotto\", \"Bernardo Strozzi\", \"Bert Hardy\", \"Bert Stern\", \"Berthe Morisot\", \"Bess Hamiti\", \"Beth Conklin\", \"Bettina Rheims\", \"Bhupen Khakhar\", \"Bill Brandt\", \"Bill Carman\", \"Bill Durgin\", \"Bill Gekas\", \"Bill Jacklin\", \"Bill Traylor\", \"Bill Viola\", \"Bill Ward\", \"Bo Chen\", \"Bojan Jevtic\", \"Boris Groh\", \"Boris Kustodiev\", \"Brad Rigney\", \"Brandon Mably\", \"Brent Cotton\", \"Brent Heighton\", \"Brett Weston\", \"Brett Whiteley\", \"Brian Bolland\", \"Brian K. Vaughan\", \"Brian M. Viveros\", \"Brian Oldham\", \"Briana Mora\", \"Brice Marden\", \"Bridget Riley\", \"Brooke DiDonato\", \"Brothers Grimm\", \"Bruce Coville\", \"Bruce Nauman\", \"Bruno Catalano\", \"Bruno Walpoth\", \"Bryan Hitch\", \"Burt Glinn\", \"Butcher Billy\", \"Cai Guo-Qiang\", \"Callie Fink\", \"Camille Claudel\", \"Camille Vivier\", \"Camille-Pierre Pambu Bodo\", \"Caras Ionut\", \"Carl Eugen Keel\", \"Carl Kleiner\", \"Carl Moll\", \"Carl Rungius\", \"Carlo Bocchio\", \"Carlo Dolci\", \"Carlo Scarpa\", \"Carlos Cruz-Diez\", \"Carolina Herrera\", \"Carolyn Blish\", \"Carrie Ann Baade\", \"Carrie Graber\", \"Carson Grubaugh\", \"Carsten Holler\", \"Carsten Meyerdierks\", \"Casey Baugh\", \"Casey Childs\", \"Catherine Nolin\", \"Cathy Wilkes\", \"Cecil Beaton\", \"Cecilia Beaux\", \"Cecily Brown\", \"Cedric Seaut\", \"Cerith Wyn Evans\", \"CFA Voysey\", \"Charles Burns\", \"Charles Courtney Curran\", \"Charles Demuth\", \"Charles Dwyer\", \"Charles Ellison\", \"Charles Filiger\", \"Charles Ginner\", \"Charles Maurice Detmold\", \"Charles Mellin\", \"Charles Philipon\", \"Charles Reiffel\", \"Charles Rennie Mackintosh\", \"Charles Robinson\", \"Charles Sheeler\", \"Charles Tunnicliffe\", \"Charles Victor Thirion\", \"Charles White\", \"Charles Willson Peale\", \"Charles Wysocki\", \"Charles-Amable Lenoir\", \"Charley Harper\", \"Charly Amani\", \"Chase Stone\", \"Chie Yoshii\", \"Chiho Aoshima\", \"Childe Hassam\", \"Chris Bachalo\", \"Chris Cold\", \"Chris Dyer\", \"Chris Friel\", \"Chris LaBrooy\", \"Chris Riddell\", \"Chris Samnee\", \"Christian Boltanski\", \"Christian Griepenkerl\", \"Christian Schad\", \"Christian Schloe\", \"Christian Wilhelm Allers\", \"Christine Ellger\", \"Christoffer Relander\", \"Christophe Jacrot\", \"Christophe Staelens\", \"Christopher Ryan McKenney\", \"Christopher Wool\", \"Chuah Thean Teng\", \"Chuanxing Zeng\", \"Chung Shek\", \"Cildo Meireles\", \"Claes Oldenburg\", \"Clara Ledesma\", \"Clarence Gagnon\", \"Claude LefÃ¨bvre\", \"Claude Lorrain\", \"Claude Melan\", \"Claudia Tremblay\", \"Clay Mann\", \"Clayton Crain\", \"Cleon Peterson\", \"Clifford Coffin\", \"Clint Cearley\", \"Clive Barker\", \"Clyfford Still\", \"Colin Campbell Cooper\", \"Colin Elder\", \"Collin Elder\", \"Conrad FelixmÃ¼ller\", \"Conrad Shawcross\", \"Constantin Joffe\", \"Cornelia Parker\", \"Cornelis Springer\", \"Craig McCracken\", \"Craig Thompson\", \"Craigie Aitchison\", \"Cyril Pontet\", \"Daan Roosegaarde\", \"Daido Moriyama\", \"Dan Colen\", \"Dan Hillier\", \"Dan Matutina\", \"Dan McPharlin\", \"Dan Piraro\", \"Dana Schutz\", \"Danh VÃµ\", \"Daniel Arsham\", \"Daniel F. Gerhartz\", \"Daniel Jaems\", \"Daniel Libeskind\", \"Daniel Lieske\", \"Daniel Ridgway Knights\", \"Danielle Eckhardt\", \"Danny Flynn\", \"Danny Lyon\", \"Danny Roberts\", \"Darek Zabrocki\", \"Daria Endresen\", \"Dariusz Klimczak\", \"Dave Coverly\", \"Dave Heath\", \"Dave Rapoza\", \"Dave Stevens\", \"David Alfaro Siqueiros\", \"David Aronson\", \"David Bailey\", \"David Bates\", \"David Brayne\", \"David Brown Milne\", \"David Chipperfield\", \"David Cronenberg\", \"David Downton\", \"David Goldblatt\", \"David Hammons\", \"David Hettinger\", \"David LaChapelle\", \"David Malkin\", \"David Mann\", \"David Michael Bowers\", \"David Mould\", \"David Nordahl\", \"David Normal\", \"David Plowden\", \"David Renshaw\", \"David Sims\", \"David Tindle\", \"David Tutwiler\", \"David Walker\", \"David Welker\", \"David Yarrow\", \"Davide Sasselli\", \"Davide Sorrenti\", \"Davis Marc\", \"Davis Stuart\", \"De Es Schwertberger\", \"Debbie Fleming Caffery\", \"Deborah Azzopardi\", \"Deborah Turbeville\", \"Dee Nickerson\", \"Deirdre Sullivan-Beeman\", \"Del Kathryn Barton\", \"Delphin Enjolras\", \"Demizu Posuka\", \"Denis Sarazhin\", \"Dennis Stock\", \"Denys Lasdun\", \"Derek Gores\", \"Didier Barra\", \"Didier LourenÃ§o\", \"Dima Dmitriev\", \"Dimitra Milan\", \"Dimitry Roulland\", \"Dino Valls\", \"Dmitri Danish\", \"Dmitry Spiros\", \"Dmitry Vishnevsky\", \"Do Ho Suh\", \"Dod Procter\", \"Dom Qwek\", \"Don Bergland\", \"Don Blanding\", \"Don Lawrence\", \"Don Northrup\", \"Donald Pass\", \"Donna Huanca\", \"Dorothea Lange\", \"Dorothea Sharp\", \"Dorothy Johnstone\", \"Doug Aitken\", \"Drew Struzan\", \"Duffy Sheridan\", \"Duncan Fegredo\", \"Dusan Djukaric\", \"Eadweard Muybridge\", \"Eastman Johnson\", \"Ebru Sidar\", \"Echo Chernik\", \"Ed Myers\", \"Ed Piskor\", \"Ed Valigursky\", \"Eddie Colla\", \"Eddie Jones\", \"Edgar Maxence\", \"Edith Rimmington\", \"Edmund Tarbell\", \"Edmundo Senatore\", \"Edna Reindel\", \"Edoardo Tresoldi\", \"Edogawa Ranpo\", \"Ã‰douard Manet\", \"Ã‰douard Riou\", \"Ã‰douard Vuillard\", \"Eduard Cortes\", \"Eduard Gaertner\", \"Eduard Veith\", \"Eduard Wiiralt\", \"Edward Bawden\", \"Edward Blair Wilkins\", \"Edward Cucuel\", \"Edward Henry Potthast\", \"Edward Hersey\", \"Edward Moran\", \"Edward OkuÅ„\", \"Edward Poynter\", \"Edward Seago\", \"Edward Wadsworth\", \"Edwin Lord Weeks\", \"Edwin Wurm\", \"Eiko Ojala\", \"Eileen Gray\", \"Eilif Peterssen\", \"Einar HÃ¡konarson\", \"Einer Johansen\", \"Ekaterina Panikanova\", \"El Anatsui\", \"El Lissitzky\", \"Elba Damast\", \"Eleanor Fortescue-Brickdale\", \"Elena Paraskeva\", \"Elfriede Lohse-WÃ¤chtler\", \"Elias Ravanetti\", \"Elihu Vedder\", \"Elina Karimova\", \"Elisa Breton\", \"Elisabeth Sonrel\", \"Eliseu Visconti\", \"Elizabeth Catlett\", \"Elke Vogelsang\", \"Ellen von Unwerth\", \"Elliott Erwitt\", \"Ellsworth Kelly\", \"Elsa Bleda\", \"Elsie Driggs\", \"Emek Golan\", \"Emerico Imre Toth\", \"Emerson Silva\", \"Emery Hawkins\", \"Emil Carlsen\", \"Emila MedkovÃ¡\", \"Emile Claus\", \"Emile Galle\", \"Emiliano Di Cavalcanti\", \"Emiliano Ponzi\", \"Emilio Giuseppe Dossena\", \"Emily Balivet\", \"Emily Carr\", \"Emma RÃ­os\", \"Emmanuel de Critz\", \"Emmy Bridgwater\", \"Enoch Bolles\", \"Enrique TÃ¡bara\", \"Eric Canete\", \"Eric Carle\", \"Eric Deschamps\", \"Eric Ravilious\", \"Erica Hopper\", \"Erik Johansson\", \"Erik Jones\", \"Erna Rosenstein\", \"Ernest Lawson\", \"Ernest Meissonier\", \"Ernest Zacharevic\", \"Ernesto Neto\", \"Ernst Barlach\", \"Ernst Wilhelm Nay\", \"Erol Otus\", \"Erwin Blumenfeld\", \"Esaias van de Velde\", \"Esteban Vicente\", \"Esther Rolick\", \"Ã‰tienne Adolphe Piot\", \"Ã‰tienne Maurice Falconet\", \"Euan Uglow\", \"Eugen Bracht\", \"EugÃ¨ne Atget\", \"EugÃ¨ne Boudin\", \"Eugene Galien-Laloue\", \"EugÃ¨ne Girardet\", \"Eugene Leroy\", \"Eugene Tertychnyi\", \"Eustache Le Sueur\", \"Eva Hesse\", \"Eva Rothschild\", \"Eva Å vankmajerovÃ¡\", \"Eve Arnold\", \"Eve Ventrue\", \"Evelyn Dunbar\", \"Everett Shinn\", \"Evgeny Lushpin\", \"Ezra Stoller\", \"Fan Ho\", \"Fay Godwin\", \"Fay Helfer\", \"Felice Casorati\", \"Felicia Simion\", \"Felicien Rops\", \"Felipe Pantone\", \"Felix Gonzalez-Torres\", \"Felix Kelly\", \"FÃ©lix Labisse\", \"Felix Philipp Kanitz\", \"Felix Vallotton\", \"Ferdinand du Puigaudeau\", \"Ferdinand Keller\", \"Ferenc Pinter\", \"Fern Isabel Coppedge\", \"Fernand Cormon\", \"Fernand Fonssagrives\", \"Fernand Leger\", \"Fernando Amorsolo\", \"Fernando Botero\", \"Ferris Plock\", \"Filippo Brunelleschi\", \"Fintan Magee\", \"Firmin Baes\", \"Fletcher Sibthorp\", \"Florence Harrison\", \"Florian Nicolle\", \"Florianne Becker\", \"Floris Arntzenius\", \"Floris Jespers\", \"Fra Angelico\", \"Frances MacDonald\", \"Francesco Albani\", \"Francesco Borromini\", \"Francesco Clemente\", \"Francesco Guardi\", \"Francesco Hayez\", \"Francesco Solimena\", \"Francine Van Hove\", \"Francis Davis Millet\", \"Francis Newton Souza\", \"Francisco de Zurbaran\", \"Francisco Goya\", \"Franciszek Starowieyski\", \"Franck Tacito\", \"Franco Fontana\", \"FranÃ§ois Boquet\", \"FranÃ§ois Boucher\", \"FranÃ§ois De NomÃ©\", \"FranÃ§ois Marcela-Froideval\", \"Francois Schuiten\", \"FranÃ§oise Basset\", \"Frank Bramley\", \"Frank Cadogan Cowper\", \"Frank Cho\", \"Frank McCarthy\", \"Frank Quitely\", \"Frank Thorne\", \"Frank Weston Benson\", \"Franklin Carmichael\", \"Frans Floris\", \"Frans Francken the Younger\", \"Frans Hals\", \"Frans Snyders\", \"FrantiÅ¡ek DvoÅ™Ã¡k\", \"Frantisek Kupka\", \"Franz Kline\", \"Franz Lefler\", \"Franz Stuck\", \"Franz Vohwinkel\", \"Franz West\", \"Fred Calleri\", \"Fred Stein\", \"Fred Tomaselli\", \"Frederic Bazille\", \"FrÃ©dÃ©ric Fiebig\", \"Frederick Arthur Bridgman\", \"Frederick Arthur Verner\", \"Frederick Carl Frieseke\", \"Frederick Cayley Robinson\", \"Frederick Goodall\", \"Frederick Judd Waugh\", \"Frederick Sandys\", \"Frieke Janssens\", \"Frits Thaulow\", \"Fritz Bleyl\", \"Fritz Henle\", \"Fritz Scholder\", \"Fujii Yoshitoyo\", \"Fujishima Takeji\", \"Fuyuko Matsui\", \"Ã“scar DomÃ­nguez\", ],\n",
        "}\n",
        "\n",
        "def generate_prompt():\n",
        "  global art_Subjects, by_Artists, art_Styles\n",
        "  nsSubjects = nsp_parse(art_Subjects)\n",
        "  nsArtists = nsp_parse(by_Artists)\n",
        "  nsStyles = nsp_parse(art_Styles)\n",
        "  prompt = []\n",
        "  random_artist=[]\n",
        "  if nsArtists: random_artist.append(nsArtists)\n",
        "  for a in range(random_artists):\n",
        "    random_artist.append(random.choice(artists))\n",
        "  artist = \" and \".join([\",\".join(random_artist[:-1]),random_artist[-1]] if len(random_artist) > 2 else random_artist)\n",
        "  #artist = random.choice(artists) + \" and \" + random.choice(artists)\n",
        "  random_style = []\n",
        "  if art_Styles: random_style.append(nsStyles)\n",
        "  for s in range(random_styles):\n",
        "    random_style.append(random.choice(styles))\n",
        "  style = \", \".join(random_style)\n",
        "  if art_Subjects: prompt.append(nsSubjects + \":\" + str(weight_Subject))\n",
        "  if len(artist) > 0: prompt.append(\"by \" + artist + \":\" + str(weight_Artists))\n",
        "  if len(style) > 0: prompt.append(\"style of \" + style + \":\" + str(weight_Styles))\n",
        "  if mod_Custom and mod_Custom.strip(): prompt.append(mod_Custom)\n",
        "  negatives = []\n",
        "  if mod_noText: negatives.append(\"text, signature, signatures\")\n",
        "  if mod_noBlur: negatives.append(\"blur, blurry, depth of field, dof, bokeh\")\n",
        "  if mod_noArtifacts: negatives.append(\"watermark, jpeg artifacts, specular highlights, noise, pixilation, low quality\")\n",
        "  if mod_noDeformed: negatives.append(\"deformed, non realistic, unrealistic\")\n",
        "  if len(negatives) > 0: prompt.append(\", \".join(negatives) + \":\"  + str(weight_NegativeMods))\n",
        "  if mod_Artstation: prompt.append(\"featured on ArtStation, trending on ArtStation, cgsociety, trending on 500px, deviantart:\" + str(weight_PositiveMods))\n",
        "  if mod_Photorealistic: prompt.append(\"photorealistic, 4k, 8k, realistic, realism:\" + str(weight_PositiveMods))\n",
        "  if mod_Detailed: prompt.append(\"highly detailed, intricate, ultrafine detail, micro details:\" + str(weight_PositiveMods))\n",
        "  if mod_3DRendered: prompt.append(\"Unreal engine, Unity 3D, ray tracing, Octane render, CGI:\" + str(weight_PositiveMods))\n",
        "  if mod_WideAngle: prompt.append(\"ultra wide angle, wide-angle, ultrawide:\" + str(weight_PositiveMods))\n",
        "  if mod_Custom2 and mod_Custom2.strip(): prompt.append(mod_Custom2)\n",
        "  return prompt\n",
        "new_prompt = generate_prompt()\n",
        "text_prompt = '[\"' + '\", \"'.join(new_prompt) + '\"],'\n",
        "simple_prompt = new_prompt[0].rpartition(':')[0] + ' ' + new_prompt[1].rpartition(':')[0] + ', ' + new_prompt[2].rpartition(':')[0]\n",
        "print(text_prompt)\n",
        "#print('\\n' + simple_prompt)"
      ],
      "metadata": {
        "cellView": "form",
        "id": "uoxYek-mqbPw"
      },
      "id": "uoxYek-mqbPw",
      "execution_count": null,
      "outputs": []
    },
    {
      "cell_type": "code",
      "source": [
        "#!pip install pandas\n",
        "#import pandas as pd\n",
        "#@title ## Generate Prompt List (copy/paste/edit)\n",
        "amount = 10 #@param {type:\"integer\"}\n",
        "list_mode = 'Animation' #@param ['Animation', 'Images', 'Simple Text']\n",
        "if list_mode == 'Animation':\n",
        "  frames_between = 40 #@param {type:\"integer\"}\n",
        "output = \"\"\n",
        "prompt_list = []\n",
        "for p in range(amount):\n",
        "  prompt_list.append(generate_prompt())\n",
        "if list_mode == 'Animation':\n",
        "  text_prompts = {}\n",
        "  frame = 0\n",
        "  output += 'text_prompts = {\\n'\n",
        "  for pr in prompt_list:\n",
        "    text_prompts[frame] = pr\n",
        "    output += f'  {frame}: [\"' + '\", \"'.join(pr) + '\"],\\n'\n",
        "    frame += frames_between\n",
        "  output += '}\\n'\n",
        "if list_mode == 'Images':\n",
        "  output += 'text_prompts = (\\n'\n",
        "  for pr in prompt_list:\n",
        "    #text_prompts[frame] = pr\n",
        "    output += f'  [\"' + '\", \"'.join(pr) + '\"],\\n'\n",
        "  output += ')'\n",
        "if list_mode == 'Simple Text':\n",
        "  for pr in prompt_list:\n",
        "    output += pr[0].rpartition(':')[0] + ' ' + pr[1].rpartition(':')[0] + ', ' + pr[2].rpartition(':')[0] + '\\n'\n",
        "print(output)\n",
        "#pd.DataFrame([output]).to_clipboard(index=False,header=False,line_terminator='')"
      ],
      "metadata": {
        "id": "v2tznGXHHceV",
        "cellView": "form"
      },
      "id": "v2tznGXHHceV",
      "execution_count": null,
      "outputs": []
    }
  ],
  "metadata": {
    "accelerator": "GPU",
    "kernelspec": {
      "display_name": "Python 3 (ipykernel)",
      "language": "python",
      "name": "python3"
    },
    "language_info": {
      "codemirror_mode": {
        "name": "ipython",
        "version": 3
      },
      "file_extension": ".py",
      "mimetype": "text/x-python",
      "name": "python",
      "nbconvert_exporter": "python",
      "pygments_lexer": "ipython3",
      "version": "3.7.9"
    },
    "colab": {
      "name": "DiscoArt [/w Batch Prompts & GPT-3 Generator].ipynb",
      "provenance": [],
      "collapsed_sections": [
        "a6ac122d",
        "df5020e4",
        "fe0d4d89"
      ],
      "include_colab_link": true
    }
  },
  "nbformat": 4,
  "nbformat_minor": 5
}